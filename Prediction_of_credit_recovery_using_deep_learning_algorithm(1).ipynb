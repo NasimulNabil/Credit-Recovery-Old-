{
  "nbformat": 4,
  "nbformat_minor": 5,
  "metadata": {
    "colab": {
      "name": "Prediction_of_credit_recovery_using_deep_learning_algorithm(1).ipynb",
      "provenance": [],
      "include_colab_link": true
    },
    "kernelspec": {
      "display_name": "Python 3",
      "language": "python",
      "name": "python3"
    },
    "language_info": {
      "codemirror_mode": {
        "name": "ipython",
        "version": 3
      },
      "file_extension": ".py",
      "mimetype": "text/x-python",
      "name": "python",
      "nbconvert_exporter": "python",
      "pygments_lexer": "ipython3",
      "version": "3.8.8"
    }
  },
  "cells": [
    {
      "cell_type": "markdown",
      "metadata": {
        "id": "view-in-github",
        "colab_type": "text"
      },
      "source": [
        "<a href=\"https://colab.research.google.com/github/NasimulNabil/Credit-Recovery-Old-/blob/main/Prediction_of_credit_recovery_using_deep_learning_algorithm(1).ipynb\" target=\"_parent\"><img src=\"https://colab.research.google.com/assets/colab-badge.svg\" alt=\"Open In Colab\"/></a>"
      ]
    },
    {
      "cell_type": "code",
      "metadata": {
        "colab": {
          "base_uri": "https://localhost:8080/",
          "height": 224
        },
        "id": "ec026133",
        "outputId": "819f71e0-8643-410f-aa0a-b3287cb4b807"
      },
      "source": [
        "import pandas as pd\n",
        "df = pd.read_csv('/content/drive/MyDrive/Research/loan_data_feature.csv')\n",
        "df.head()"
      ],
      "id": "ec026133",
      "execution_count": null,
      "outputs": [
        {
          "output_type": "execute_result",
          "data": {
            "text/html": [
              "<div>\n",
              "<style scoped>\n",
              "    .dataframe tbody tr th:only-of-type {\n",
              "        vertical-align: middle;\n",
              "    }\n",
              "\n",
              "    .dataframe tbody tr th {\n",
              "        vertical-align: top;\n",
              "    }\n",
              "\n",
              "    .dataframe thead th {\n",
              "        text-align: right;\n",
              "    }\n",
              "</style>\n",
              "<table border=\"1\" class=\"dataframe\">\n",
              "  <thead>\n",
              "    <tr style=\"text-align: right;\">\n",
              "      <th></th>\n",
              "      <th>long_term</th>\n",
              "      <th>emi_loan</th>\n",
              "      <th>individual_loan</th>\n",
              "      <th>consumer_loan</th>\n",
              "      <th>agri_loan</th>\n",
              "      <th>interest_free</th>\n",
              "      <th>staff_loan</th>\n",
              "      <th>secured_unsecured</th>\n",
              "      <th>annual_income_lavel</th>\n",
              "      <th>loan_type</th>\n",
              "      <th>good_credit_life</th>\n",
              "      <th>customer_relation_day</th>\n",
              "      <th>contract_value</th>\n",
              "      <th>contract_mat_day_remain</th>\n",
              "      <th>customer_age_year</th>\n",
              "      <th>int_rate</th>\n",
              "      <th>current_os_amount</th>\n",
              "      <th>total_sanction_amt</th>\n",
              "      <th>total_disb_amt</th>\n",
              "      <th>total_recov_amt</th>\n",
              "      <th>total_int_amt</th>\n",
              "      <th>total_repayable_amt</th>\n",
              "      <th>emi_amount</th>\n",
              "      <th>num_of_installment</th>\n",
              "      <th>pay_month_01</th>\n",
              "      <th>pay_month_02</th>\n",
              "      <th>pay_month_03</th>\n",
              "      <th>pay_month_04</th>\n",
              "      <th>pay_month_05</th>\n",
              "      <th>pay_month_06</th>\n",
              "      <th>bill_amount_01</th>\n",
              "      <th>bill_amount_02</th>\n",
              "      <th>bill_amount_03</th>\n",
              "      <th>bill_amount_04</th>\n",
              "      <th>bill_amount_05</th>\n",
              "      <th>bill_amount_06</th>\n",
              "      <th>number_of_loan_ac</th>\n",
              "      <th>good_credit</th>\n",
              "      <th>total_bl_countMoreThanOne</th>\n",
              "      <th>total_bl_countOne</th>\n",
              "      <th>repayment_frequencyMonth</th>\n",
              "      <th>repayment_frequencyMoreThanMonth</th>\n",
              "      <th>total_bill_amount</th>\n",
              "      <th>mean_bill_amount</th>\n",
              "      <th>total_pay_amount</th>\n",
              "      <th>mean_pay_amount</th>\n",
              "      <th>ratio_of_total_payment</th>\n",
              "      <th>ratio_of_bill_payment</th>\n",
              "      <th>ratio_of_disb_amt_and_good_credit</th>\n",
              "      <th>number_of_installment_paid</th>\n",
              "    </tr>\n",
              "  </thead>\n",
              "  <tbody>\n",
              "    <tr>\n",
              "      <th>0</th>\n",
              "      <td>1</td>\n",
              "      <td>0</td>\n",
              "      <td>1</td>\n",
              "      <td>0</td>\n",
              "      <td>0</td>\n",
              "      <td>0</td>\n",
              "      <td>1</td>\n",
              "      <td>1</td>\n",
              "      <td>1.0</td>\n",
              "      <td>2.0</td>\n",
              "      <td>732</td>\n",
              "      <td>1097.0</td>\n",
              "      <td>64800.0</td>\n",
              "      <td>394</td>\n",
              "      <td>22.0</td>\n",
              "      <td>9.0</td>\n",
              "      <td>37232.0</td>\n",
              "      <td>50000.0</td>\n",
              "      <td>50000.0</td>\n",
              "      <td>19350.0</td>\n",
              "      <td>6582.0</td>\n",
              "      <td>43200.0</td>\n",
              "      <td>1800.0</td>\n",
              "      <td>36</td>\n",
              "      <td>1.0</td>\n",
              "      <td>1.0</td>\n",
              "      <td>1.0</td>\n",
              "      <td>1</td>\n",
              "      <td>1</td>\n",
              "      <td>1</td>\n",
              "      <td>14850.0</td>\n",
              "      <td>14850.0</td>\n",
              "      <td>18450.0</td>\n",
              "      <td>20250.0</td>\n",
              "      <td>22050.0</td>\n",
              "      <td>23850.0</td>\n",
              "      <td>1</td>\n",
              "      <td>0</td>\n",
              "      <td>0</td>\n",
              "      <td>1</td>\n",
              "      <td>1</td>\n",
              "      <td>0</td>\n",
              "      <td>114300.0</td>\n",
              "      <td>19050.0000</td>\n",
              "      <td>6.0</td>\n",
              "      <td>1.000000</td>\n",
              "      <td>1.157407</td>\n",
              "      <td>19050.000000</td>\n",
              "      <td>68.306011</td>\n",
              "      <td>10.750000</td>\n",
              "    </tr>\n",
              "    <tr>\n",
              "      <th>1</th>\n",
              "      <td>1</td>\n",
              "      <td>1</td>\n",
              "      <td>1</td>\n",
              "      <td>0</td>\n",
              "      <td>0</td>\n",
              "      <td>0</td>\n",
              "      <td>1</td>\n",
              "      <td>0</td>\n",
              "      <td>1.0</td>\n",
              "      <td>3.0</td>\n",
              "      <td>606</td>\n",
              "      <td>1741.0</td>\n",
              "      <td>426000.0</td>\n",
              "      <td>487</td>\n",
              "      <td>33.0</td>\n",
              "      <td>13.0</td>\n",
              "      <td>278523.0</td>\n",
              "      <td>300000.0</td>\n",
              "      <td>300000.0</td>\n",
              "      <td>21500.0</td>\n",
              "      <td>300023.0</td>\n",
              "      <td>213000.0</td>\n",
              "      <td>14200.0</td>\n",
              "      <td>30</td>\n",
              "      <td>8000.0</td>\n",
              "      <td>1.0</td>\n",
              "      <td>1.0</td>\n",
              "      <td>1000</td>\n",
              "      <td>1000</td>\n",
              "      <td>1500</td>\n",
              "      <td>123500.0</td>\n",
              "      <td>137700.0</td>\n",
              "      <td>151900.0</td>\n",
              "      <td>165600.0</td>\n",
              "      <td>178800.0</td>\n",
              "      <td>191500.0</td>\n",
              "      <td>1</td>\n",
              "      <td>0</td>\n",
              "      <td>0</td>\n",
              "      <td>1</td>\n",
              "      <td>1</td>\n",
              "      <td>0</td>\n",
              "      <td>949000.0</td>\n",
              "      <td>158166.6667</td>\n",
              "      <td>11502.0</td>\n",
              "      <td>1917.000000</td>\n",
              "      <td>1.408451</td>\n",
              "      <td>82.507390</td>\n",
              "      <td>495.049505</td>\n",
              "      <td>1.514085</td>\n",
              "    </tr>\n",
              "    <tr>\n",
              "      <th>2</th>\n",
              "      <td>1</td>\n",
              "      <td>1</td>\n",
              "      <td>1</td>\n",
              "      <td>0</td>\n",
              "      <td>0</td>\n",
              "      <td>0</td>\n",
              "      <td>1</td>\n",
              "      <td>0</td>\n",
              "      <td>4.0</td>\n",
              "      <td>3.0</td>\n",
              "      <td>618</td>\n",
              "      <td>1026.0</td>\n",
              "      <td>511200.0</td>\n",
              "      <td>660</td>\n",
              "      <td>37.0</td>\n",
              "      <td>13.0</td>\n",
              "      <td>266854.0</td>\n",
              "      <td>300000.0</td>\n",
              "      <td>300000.0</td>\n",
              "      <td>33200.0</td>\n",
              "      <td>300054.0</td>\n",
              "      <td>213000.0</td>\n",
              "      <td>14200.0</td>\n",
              "      <td>36</td>\n",
              "      <td>1.0</td>\n",
              "      <td>1.0</td>\n",
              "      <td>1.0</td>\n",
              "      <td>5000</td>\n",
              "      <td>1</td>\n",
              "      <td>1</td>\n",
              "      <td>113300.0</td>\n",
              "      <td>127500.0</td>\n",
              "      <td>141700.0</td>\n",
              "      <td>151400.0</td>\n",
              "      <td>165600.0</td>\n",
              "      <td>179800.0</td>\n",
              "      <td>1</td>\n",
              "      <td>0</td>\n",
              "      <td>0</td>\n",
              "      <td>1</td>\n",
              "      <td>1</td>\n",
              "      <td>0</td>\n",
              "      <td>879300.0</td>\n",
              "      <td>146550.0000</td>\n",
              "      <td>5005.0</td>\n",
              "      <td>834.166667</td>\n",
              "      <td>1.408451</td>\n",
              "      <td>175.684316</td>\n",
              "      <td>485.436893</td>\n",
              "      <td>2.338028</td>\n",
              "    </tr>\n",
              "    <tr>\n",
              "      <th>3</th>\n",
              "      <td>1</td>\n",
              "      <td>1</td>\n",
              "      <td>1</td>\n",
              "      <td>0</td>\n",
              "      <td>0</td>\n",
              "      <td>0</td>\n",
              "      <td>1</td>\n",
              "      <td>0</td>\n",
              "      <td>4.0</td>\n",
              "      <td>3.0</td>\n",
              "      <td>564</td>\n",
              "      <td>878.0</td>\n",
              "      <td>511200.0</td>\n",
              "      <td>715</td>\n",
              "      <td>28.0</td>\n",
              "      <td>13.0</td>\n",
              "      <td>280000.0</td>\n",
              "      <td>300000.0</td>\n",
              "      <td>300000.0</td>\n",
              "      <td>20000.0</td>\n",
              "      <td>300000.0</td>\n",
              "      <td>184600.0</td>\n",
              "      <td>14200.0</td>\n",
              "      <td>36</td>\n",
              "      <td>1.0</td>\n",
              "      <td>1.0</td>\n",
              "      <td>1.0</td>\n",
              "      <td>1</td>\n",
              "      <td>1</td>\n",
              "      <td>1</td>\n",
              "      <td>93600.0</td>\n",
              "      <td>107800.0</td>\n",
              "      <td>122000.0</td>\n",
              "      <td>136200.0</td>\n",
              "      <td>150400.0</td>\n",
              "      <td>164600.0</td>\n",
              "      <td>1</td>\n",
              "      <td>0</td>\n",
              "      <td>0</td>\n",
              "      <td>1</td>\n",
              "      <td>1</td>\n",
              "      <td>0</td>\n",
              "      <td>774600.0</td>\n",
              "      <td>129100.0000</td>\n",
              "      <td>6.0</td>\n",
              "      <td>1.000000</td>\n",
              "      <td>1.625135</td>\n",
              "      <td>129100.000000</td>\n",
              "      <td>531.914894</td>\n",
              "      <td>1.408451</td>\n",
              "    </tr>\n",
              "    <tr>\n",
              "      <th>4</th>\n",
              "      <td>1</td>\n",
              "      <td>1</td>\n",
              "      <td>1</td>\n",
              "      <td>1</td>\n",
              "      <td>0</td>\n",
              "      <td>1</td>\n",
              "      <td>1</td>\n",
              "      <td>0</td>\n",
              "      <td>1.0</td>\n",
              "      <td>6.0</td>\n",
              "      <td>425</td>\n",
              "      <td>2020.0</td>\n",
              "      <td>540288.0</td>\n",
              "      <td>1065</td>\n",
              "      <td>45.0</td>\n",
              "      <td>13.0</td>\n",
              "      <td>436384.0</td>\n",
              "      <td>1175000.0</td>\n",
              "      <td>1175000.0</td>\n",
              "      <td>16000.0</td>\n",
              "      <td>52384.0</td>\n",
              "      <td>157584.0</td>\n",
              "      <td>11256.0</td>\n",
              "      <td>48</td>\n",
              "      <td>1.0</td>\n",
              "      <td>1.0</td>\n",
              "      <td>1.0</td>\n",
              "      <td>1</td>\n",
              "      <td>1</td>\n",
              "      <td>5000</td>\n",
              "      <td>90304.0</td>\n",
              "      <td>101560.0</td>\n",
              "      <td>112816.0</td>\n",
              "      <td>124072.0</td>\n",
              "      <td>135328.0</td>\n",
              "      <td>141584.0</td>\n",
              "      <td>5</td>\n",
              "      <td>1</td>\n",
              "      <td>0</td>\n",
              "      <td>1</td>\n",
              "      <td>1</td>\n",
              "      <td>0</td>\n",
              "      <td>705664.0</td>\n",
              "      <td>117610.6667</td>\n",
              "      <td>5005.0</td>\n",
              "      <td>834.166667</td>\n",
              "      <td>7.456341</td>\n",
              "      <td>140.991808</td>\n",
              "      <td>2764.705882</td>\n",
              "      <td>1.421464</td>\n",
              "    </tr>\n",
              "  </tbody>\n",
              "</table>\n",
              "</div>"
            ],
            "text/plain": [
              "   long_term  ...  number_of_installment_paid\n",
              "0          1  ...                   10.750000\n",
              "1          1  ...                    1.514085\n",
              "2          1  ...                    2.338028\n",
              "3          1  ...                    1.408451\n",
              "4          1  ...                    1.421464\n",
              "\n",
              "[5 rows x 50 columns]"
            ]
          },
          "metadata": {},
          "execution_count": 5
        }
      ]
    },
    {
      "cell_type": "code",
      "metadata": {
        "colab": {
          "base_uri": "https://localhost:8080/"
        },
        "id": "cvEoapUJuPI_",
        "outputId": "30473c25-4e98-4174-aca5-d180148ebfd8"
      },
      "source": [
        "from google.colab import drive\n",
        "drive.mount('/content/drive')"
      ],
      "id": "cvEoapUJuPI_",
      "execution_count": null,
      "outputs": [
        {
          "output_type": "stream",
          "name": "stdout",
          "text": [
            "Mounted at /content/drive\n"
          ]
        }
      ]
    },
    {
      "cell_type": "code",
      "metadata": {
        "colab": {
          "base_uri": "https://localhost:8080/"
        },
        "id": "hO1lfAQR6pQh",
        "outputId": "c580a24a-a21b-4cb3-b1ff-0a5ee79b98f9"
      },
      "source": [
        "df.shape"
      ],
      "id": "hO1lfAQR6pQh",
      "execution_count": null,
      "outputs": [
        {
          "output_type": "execute_result",
          "data": {
            "text/plain": [
              "(4600, 50)"
            ]
          },
          "metadata": {},
          "execution_count": 6
        }
      ]
    },
    {
      "cell_type": "code",
      "metadata": {
        "colab": {
          "base_uri": "https://localhost:8080/"
        },
        "id": "VVNAfDQJ9k5p",
        "outputId": "184e6903-b14d-40f3-8fe5-e63d315470ed"
      },
      "source": [
        "df.isnull().any()"
      ],
      "id": "VVNAfDQJ9k5p",
      "execution_count": null,
      "outputs": [
        {
          "output_type": "execute_result",
          "data": {
            "text/plain": [
              "long_term                            False\n",
              "emi_loan                             False\n",
              "individual_loan                      False\n",
              "consumer_loan                        False\n",
              "agri_loan                            False\n",
              "interest_free                        False\n",
              "staff_loan                           False\n",
              "secured_unsecured                    False\n",
              "annual_income_lavel                  False\n",
              "loan_type                            False\n",
              "good_credit_life                     False\n",
              "customer_relation_day                False\n",
              "contract_value                       False\n",
              "contract_mat_day_remain              False\n",
              "customer_age_year                    False\n",
              "int_rate                             False\n",
              "current_os_amount                    False\n",
              "total_sanction_amt                   False\n",
              "total_disb_amt                       False\n",
              "total_recov_amt                      False\n",
              "total_int_amt                        False\n",
              "total_repayable_amt                  False\n",
              "emi_amount                           False\n",
              "num_of_installment                   False\n",
              "pay_month_01                         False\n",
              "pay_month_02                         False\n",
              "pay_month_03                         False\n",
              "pay_month_04                         False\n",
              "pay_month_05                         False\n",
              "pay_month_06                         False\n",
              "bill_amount_01                       False\n",
              "bill_amount_02                       False\n",
              "bill_amount_03                       False\n",
              "bill_amount_04                       False\n",
              "bill_amount_05                       False\n",
              "bill_amount_06                       False\n",
              "number_of_loan_ac                    False\n",
              "good_credit                          False\n",
              "total_bl_countMoreThanOne            False\n",
              "total_bl_countOne                    False\n",
              "repayment_frequencyMonth             False\n",
              "repayment_frequencyMoreThanMonth     False\n",
              "total_bill_amount                    False\n",
              "mean_bill_amount                     False\n",
              "total_pay_amount                     False\n",
              "mean_pay_amount                      False\n",
              "ratio_of_total_payment               False\n",
              "ratio_of_bill_payment                False\n",
              "ratio_of_disb_amt_and_good_credit    False\n",
              "number_of_installment_paid           False\n",
              "dtype: bool"
            ]
          },
          "metadata": {},
          "execution_count": 7
        }
      ]
    },
    {
      "cell_type": "code",
      "metadata": {
        "colab": {
          "base_uri": "https://localhost:8080/",
          "height": 317
        },
        "id": "lBBm3VSj9qKS",
        "outputId": "f2836807-7fbc-49c7-e3b8-48ccc6230bb9"
      },
      "source": [
        "df.describe()"
      ],
      "id": "lBBm3VSj9qKS",
      "execution_count": null,
      "outputs": [
        {
          "output_type": "execute_result",
          "data": {
            "text/html": [
              "<div>\n",
              "<style scoped>\n",
              "    .dataframe tbody tr th:only-of-type {\n",
              "        vertical-align: middle;\n",
              "    }\n",
              "\n",
              "    .dataframe tbody tr th {\n",
              "        vertical-align: top;\n",
              "    }\n",
              "\n",
              "    .dataframe thead th {\n",
              "        text-align: right;\n",
              "    }\n",
              "</style>\n",
              "<table border=\"1\" class=\"dataframe\">\n",
              "  <thead>\n",
              "    <tr style=\"text-align: right;\">\n",
              "      <th></th>\n",
              "      <th>long_term</th>\n",
              "      <th>emi_loan</th>\n",
              "      <th>individual_loan</th>\n",
              "      <th>consumer_loan</th>\n",
              "      <th>agri_loan</th>\n",
              "      <th>interest_free</th>\n",
              "      <th>staff_loan</th>\n",
              "      <th>secured_unsecured</th>\n",
              "      <th>annual_income_lavel</th>\n",
              "      <th>loan_type</th>\n",
              "      <th>good_credit_life</th>\n",
              "      <th>customer_relation_day</th>\n",
              "      <th>contract_value</th>\n",
              "      <th>contract_mat_day_remain</th>\n",
              "      <th>customer_age_year</th>\n",
              "      <th>int_rate</th>\n",
              "      <th>current_os_amount</th>\n",
              "      <th>total_sanction_amt</th>\n",
              "      <th>total_disb_amt</th>\n",
              "      <th>total_recov_amt</th>\n",
              "      <th>total_int_amt</th>\n",
              "      <th>total_repayable_amt</th>\n",
              "      <th>emi_amount</th>\n",
              "      <th>num_of_installment</th>\n",
              "      <th>pay_month_01</th>\n",
              "      <th>pay_month_02</th>\n",
              "      <th>pay_month_03</th>\n",
              "      <th>pay_month_04</th>\n",
              "      <th>pay_month_05</th>\n",
              "      <th>pay_month_06</th>\n",
              "      <th>bill_amount_01</th>\n",
              "      <th>bill_amount_02</th>\n",
              "      <th>bill_amount_03</th>\n",
              "      <th>bill_amount_04</th>\n",
              "      <th>bill_amount_05</th>\n",
              "      <th>bill_amount_06</th>\n",
              "      <th>number_of_loan_ac</th>\n",
              "      <th>good_credit</th>\n",
              "      <th>total_bl_countMoreThanOne</th>\n",
              "      <th>total_bl_countOne</th>\n",
              "      <th>repayment_frequencyMonth</th>\n",
              "      <th>repayment_frequencyMoreThanMonth</th>\n",
              "      <th>total_bill_amount</th>\n",
              "      <th>mean_bill_amount</th>\n",
              "      <th>total_pay_amount</th>\n",
              "      <th>mean_pay_amount</th>\n",
              "      <th>ratio_of_total_payment</th>\n",
              "      <th>ratio_of_bill_payment</th>\n",
              "      <th>ratio_of_disb_amt_and_good_credit</th>\n",
              "      <th>number_of_installment_paid</th>\n",
              "    </tr>\n",
              "  </thead>\n",
              "  <tbody>\n",
              "    <tr>\n",
              "      <th>count</th>\n",
              "      <td>4600.0</td>\n",
              "      <td>4600.000000</td>\n",
              "      <td>4600.000000</td>\n",
              "      <td>4600.000000</td>\n",
              "      <td>4600.000000</td>\n",
              "      <td>4600.000000</td>\n",
              "      <td>4600.000000</td>\n",
              "      <td>4600.000000</td>\n",
              "      <td>4600.000000</td>\n",
              "      <td>4600.000000</td>\n",
              "      <td>4600.000000</td>\n",
              "      <td>4600.000000</td>\n",
              "      <td>4.600000e+03</td>\n",
              "      <td>4.600000e+03</td>\n",
              "      <td>4600.000000</td>\n",
              "      <td>4600.000000</td>\n",
              "      <td>4600.000000</td>\n",
              "      <td>4.600000e+03</td>\n",
              "      <td>4.600000e+03</td>\n",
              "      <td>4600.000000</td>\n",
              "      <td>4600.000000</td>\n",
              "      <td>4.600000e+03</td>\n",
              "      <td>4600.000000</td>\n",
              "      <td>4600.000000</td>\n",
              "      <td>4600.000000</td>\n",
              "      <td>4600.000000</td>\n",
              "      <td>4600.000000</td>\n",
              "      <td>4600.000000</td>\n",
              "      <td>4600.000000</td>\n",
              "      <td>4600.000000</td>\n",
              "      <td>4.600000e+03</td>\n",
              "      <td>4.600000e+03</td>\n",
              "      <td>4.600000e+03</td>\n",
              "      <td>4.600000e+03</td>\n",
              "      <td>4.600000e+03</td>\n",
              "      <td>4.600000e+03</td>\n",
              "      <td>4600.000000</td>\n",
              "      <td>4600.000000</td>\n",
              "      <td>4600.000000</td>\n",
              "      <td>4600.000000</td>\n",
              "      <td>4600.000000</td>\n",
              "      <td>4600.000000</td>\n",
              "      <td>4.600000e+03</td>\n",
              "      <td>4.600000e+03</td>\n",
              "      <td>4600.000000</td>\n",
              "      <td>4600.000000</td>\n",
              "      <td>4600.000000</td>\n",
              "      <td>4.600000e+03</td>\n",
              "      <td>4600.000000</td>\n",
              "      <td>4600.000000</td>\n",
              "    </tr>\n",
              "    <tr>\n",
              "      <th>mean</th>\n",
              "      <td>1.0</td>\n",
              "      <td>0.713696</td>\n",
              "      <td>0.888696</td>\n",
              "      <td>0.119783</td>\n",
              "      <td>0.014783</td>\n",
              "      <td>0.120435</td>\n",
              "      <td>0.888696</td>\n",
              "      <td>0.780435</td>\n",
              "      <td>1.817607</td>\n",
              "      <td>2.028982</td>\n",
              "      <td>517.769348</td>\n",
              "      <td>1386.743149</td>\n",
              "      <td>1.777041e+06</td>\n",
              "      <td>1.308415e+03</td>\n",
              "      <td>42.201919</td>\n",
              "      <td>9.622935</td>\n",
              "      <td>78411.473448</td>\n",
              "      <td>1.264629e+05</td>\n",
              "      <td>1.185913e+05</td>\n",
              "      <td>16941.131185</td>\n",
              "      <td>9466.971070</td>\n",
              "      <td>2.433128e+05</td>\n",
              "      <td>17466.870096</td>\n",
              "      <td>56.819130</td>\n",
              "      <td>826.763252</td>\n",
              "      <td>1005.599228</td>\n",
              "      <td>1132.079954</td>\n",
              "      <td>783.709783</td>\n",
              "      <td>944.139130</td>\n",
              "      <td>1140.625870</td>\n",
              "      <td>1.456378e+05</td>\n",
              "      <td>1.635493e+05</td>\n",
              "      <td>1.708275e+05</td>\n",
              "      <td>1.845232e+05</td>\n",
              "      <td>1.992130e+05</td>\n",
              "      <td>2.119296e+05</td>\n",
              "      <td>1.431739</td>\n",
              "      <td>0.196087</td>\n",
              "      <td>0.070652</td>\n",
              "      <td>0.929348</td>\n",
              "      <td>0.973043</td>\n",
              "      <td>0.026957</td>\n",
              "      <td>1.075681e+06</td>\n",
              "      <td>1.792801e+05</td>\n",
              "      <td>5832.917217</td>\n",
              "      <td>972.152870</td>\n",
              "      <td>2.088943</td>\n",
              "      <td>4.194499e+04</td>\n",
              "      <td>272.730531</td>\n",
              "      <td>3.477550</td>\n",
              "    </tr>\n",
              "    <tr>\n",
              "      <th>std</th>\n",
              "      <td>0.0</td>\n",
              "      <td>0.452083</td>\n",
              "      <td>0.314543</td>\n",
              "      <td>0.324742</td>\n",
              "      <td>0.120695</td>\n",
              "      <td>0.325505</td>\n",
              "      <td>0.314543</td>\n",
              "      <td>0.413997</td>\n",
              "      <td>0.852243</td>\n",
              "      <td>1.825929</td>\n",
              "      <td>137.531517</td>\n",
              "      <td>1649.788843</td>\n",
              "      <td>4.414133e+07</td>\n",
              "      <td>2.885902e+04</td>\n",
              "      <td>11.742906</td>\n",
              "      <td>1.903935</td>\n",
              "      <td>76894.946036</td>\n",
              "      <td>1.793228e+05</td>\n",
              "      <td>1.673392e+05</td>\n",
              "      <td>29524.363935</td>\n",
              "      <td>16731.457321</td>\n",
              "      <td>7.318280e+05</td>\n",
              "      <td>53569.402777</td>\n",
              "      <td>948.088474</td>\n",
              "      <td>3078.644522</td>\n",
              "      <td>5601.062043</td>\n",
              "      <td>4760.222867</td>\n",
              "      <td>2633.568507</td>\n",
              "      <td>3667.455761</td>\n",
              "      <td>6315.678007</td>\n",
              "      <td>4.620690e+05</td>\n",
              "      <td>5.154544e+05</td>\n",
              "      <td>5.594252e+05</td>\n",
              "      <td>6.102264e+05</td>\n",
              "      <td>6.586448e+05</td>\n",
              "      <td>7.120261e+05</td>\n",
              "      <td>1.300021</td>\n",
              "      <td>0.397078</td>\n",
              "      <td>0.256271</td>\n",
              "      <td>0.256271</td>\n",
              "      <td>0.161974</td>\n",
              "      <td>0.161974</td>\n",
              "      <td>3.500029e+06</td>\n",
              "      <td>5.833382e+05</td>\n",
              "      <td>16012.690282</td>\n",
              "      <td>2668.781714</td>\n",
              "      <td>3.329046</td>\n",
              "      <td>1.778123e+05</td>\n",
              "      <td>716.843344</td>\n",
              "      <td>4.581254</td>\n",
              "    </tr>\n",
              "    <tr>\n",
              "      <th>min</th>\n",
              "      <td>1.0</td>\n",
              "      <td>0.000000</td>\n",
              "      <td>0.000000</td>\n",
              "      <td>0.000000</td>\n",
              "      <td>0.000000</td>\n",
              "      <td>0.000000</td>\n",
              "      <td>0.000000</td>\n",
              "      <td>0.000000</td>\n",
              "      <td>1.000000</td>\n",
              "      <td>1.000000</td>\n",
              "      <td>100.000000</td>\n",
              "      <td>236.000000</td>\n",
              "      <td>1.200000e+04</td>\n",
              "      <td>0.000000e+00</td>\n",
              "      <td>1.000000</td>\n",
              "      <td>5.000000</td>\n",
              "      <td>10155.000000</td>\n",
              "      <td>1.200000e+04</td>\n",
              "      <td>1.079200e+04</td>\n",
              "      <td>0.000000</td>\n",
              "      <td>0.000000</td>\n",
              "      <td>6.000000e+03</td>\n",
              "      <td>450.000000</td>\n",
              "      <td>3.000000</td>\n",
              "      <td>0.000000</td>\n",
              "      <td>1.000000</td>\n",
              "      <td>1.000000</td>\n",
              "      <td>0.000000</td>\n",
              "      <td>0.000000</td>\n",
              "      <td>1.000000</td>\n",
              "      <td>-5.940000e+04</td>\n",
              "      <td>-7.465000e+04</td>\n",
              "      <td>-1.000000e+05</td>\n",
              "      <td>-1.056000e+05</td>\n",
              "      <td>-1.028000e+05</td>\n",
              "      <td>-1.084000e+05</td>\n",
              "      <td>1.000000</td>\n",
              "      <td>0.000000</td>\n",
              "      <td>0.000000</td>\n",
              "      <td>0.000000</td>\n",
              "      <td>0.000000</td>\n",
              "      <td>0.000000</td>\n",
              "      <td>-4.670000e+05</td>\n",
              "      <td>-7.783333e+04</td>\n",
              "      <td>5.000000</td>\n",
              "      <td>0.833333</td>\n",
              "      <td>0.004193</td>\n",
              "      <td>-2.235000e+03</td>\n",
              "      <td>18.891688</td>\n",
              "      <td>0.000000</td>\n",
              "    </tr>\n",
              "    <tr>\n",
              "      <th>25%</th>\n",
              "      <td>1.0</td>\n",
              "      <td>0.000000</td>\n",
              "      <td>1.000000</td>\n",
              "      <td>0.000000</td>\n",
              "      <td>0.000000</td>\n",
              "      <td>0.000000</td>\n",
              "      <td>1.000000</td>\n",
              "      <td>1.000000</td>\n",
              "      <td>1.000000</td>\n",
              "      <td>1.000000</td>\n",
              "      <td>417.000000</td>\n",
              "      <td>668.750000</td>\n",
              "      <td>6.000000e+04</td>\n",
              "      <td>3.330000e+02</td>\n",
              "      <td>34.000000</td>\n",
              "      <td>9.000000</td>\n",
              "      <td>40266.750000</td>\n",
              "      <td>5.000000e+04</td>\n",
              "      <td>5.000000e+04</td>\n",
              "      <td>0.000000</td>\n",
              "      <td>2571.000000</td>\n",
              "      <td>2.700000e+04</td>\n",
              "      <td>2000.000000</td>\n",
              "      <td>24.000000</td>\n",
              "      <td>1.000000</td>\n",
              "      <td>1.000000</td>\n",
              "      <td>1.000000</td>\n",
              "      <td>1.000000</td>\n",
              "      <td>1.000000</td>\n",
              "      <td>1.000000</td>\n",
              "      <td>1.400000e+04</td>\n",
              "      <td>1.600000e+04</td>\n",
              "      <td>1.735000e+04</td>\n",
              "      <td>1.870000e+04</td>\n",
              "      <td>2.014000e+04</td>\n",
              "      <td>2.160000e+04</td>\n",
              "      <td>1.000000</td>\n",
              "      <td>0.000000</td>\n",
              "      <td>0.000000</td>\n",
              "      <td>1.000000</td>\n",
              "      <td>1.000000</td>\n",
              "      <td>0.000000</td>\n",
              "      <td>1.122750e+05</td>\n",
              "      <td>1.871250e+04</td>\n",
              "      <td>6.000000</td>\n",
              "      <td>1.000000</td>\n",
              "      <td>1.111111</td>\n",
              "      <td>6.964260e+01</td>\n",
              "      <td>87.299384</td>\n",
              "      <td>0.000000</td>\n",
              "    </tr>\n",
              "    <tr>\n",
              "      <th>50%</th>\n",
              "      <td>1.0</td>\n",
              "      <td>1.000000</td>\n",
              "      <td>1.000000</td>\n",
              "      <td>0.000000</td>\n",
              "      <td>0.000000</td>\n",
              "      <td>0.000000</td>\n",
              "      <td>1.000000</td>\n",
              "      <td>1.000000</td>\n",
              "      <td>2.000000</td>\n",
              "      <td>1.000000</td>\n",
              "      <td>488.000000</td>\n",
              "      <td>828.000000</td>\n",
              "      <td>7.200000e+04</td>\n",
              "      <td>5.690000e+02</td>\n",
              "      <td>42.000000</td>\n",
              "      <td>9.000000</td>\n",
              "      <td>50250.000000</td>\n",
              "      <td>5.000000e+04</td>\n",
              "      <td>5.113600e+04</td>\n",
              "      <td>6000.000000</td>\n",
              "      <td>4563.500000</td>\n",
              "      <td>3.800000e+04</td>\n",
              "      <td>2500.000000</td>\n",
              "      <td>36.000000</td>\n",
              "      <td>1.000000</td>\n",
              "      <td>1.000000</td>\n",
              "      <td>1.000000</td>\n",
              "      <td>1.000000</td>\n",
              "      <td>1.000000</td>\n",
              "      <td>1.000000</td>\n",
              "      <td>1.815000e+04</td>\n",
              "      <td>2.015000e+04</td>\n",
              "      <td>2.215000e+04</td>\n",
              "      <td>2.400000e+04</td>\n",
              "      <td>2.600000e+04</td>\n",
              "      <td>2.783200e+04</td>\n",
              "      <td>1.000000</td>\n",
              "      <td>0.000000</td>\n",
              "      <td>0.000000</td>\n",
              "      <td>1.000000</td>\n",
              "      <td>1.000000</td>\n",
              "      <td>0.000000</td>\n",
              "      <td>1.389000e+05</td>\n",
              "      <td>2.315000e+04</td>\n",
              "      <td>6.000000</td>\n",
              "      <td>1.000000</td>\n",
              "      <td>1.597813</td>\n",
              "      <td>1.725000e+04</td>\n",
              "      <td>118.203310</td>\n",
              "      <td>1.500000</td>\n",
              "    </tr>\n",
              "    <tr>\n",
              "      <th>75%</th>\n",
              "      <td>1.0</td>\n",
              "      <td>1.000000</td>\n",
              "      <td>1.000000</td>\n",
              "      <td>0.000000</td>\n",
              "      <td>0.000000</td>\n",
              "      <td>0.000000</td>\n",
              "      <td>1.000000</td>\n",
              "      <td>1.000000</td>\n",
              "      <td>2.000000</td>\n",
              "      <td>2.000000</td>\n",
              "      <td>584.000000</td>\n",
              "      <td>1186.250000</td>\n",
              "      <td>2.448000e+05</td>\n",
              "      <td>7.200000e+02</td>\n",
              "      <td>48.000000</td>\n",
              "      <td>9.000000</td>\n",
              "      <td>70081.500000</td>\n",
              "      <td>1.250000e+05</td>\n",
              "      <td>1.016730e+05</td>\n",
              "      <td>19700.000000</td>\n",
              "      <td>7395.500000</td>\n",
              "      <td>8.700000e+04</td>\n",
              "      <td>5503.750000</td>\n",
              "      <td>36.000000</td>\n",
              "      <td>1.000000</td>\n",
              "      <td>1.000000</td>\n",
              "      <td>1.000000</td>\n",
              "      <td>1.000000</td>\n",
              "      <td>1.000000</td>\n",
              "      <td>1.000000</td>\n",
              "      <td>4.228500e+04</td>\n",
              "      <td>4.793100e+04</td>\n",
              "      <td>4.371250e+04</td>\n",
              "      <td>4.501250e+04</td>\n",
              "      <td>4.800000e+04</td>\n",
              "      <td>4.760000e+04</td>\n",
              "      <td>1.000000</td>\n",
              "      <td>0.000000</td>\n",
              "      <td>0.000000</td>\n",
              "      <td>1.000000</td>\n",
              "      <td>1.000000</td>\n",
              "      <td>0.000000</td>\n",
              "      <td>2.850000e+05</td>\n",
              "      <td>4.750000e+04</td>\n",
              "      <td>4012.250000</td>\n",
              "      <td>668.708333</td>\n",
              "      <td>2.151625</td>\n",
              "      <td>2.422500e+04</td>\n",
              "      <td>234.662251</td>\n",
              "      <td>5.376325</td>\n",
              "    </tr>\n",
              "    <tr>\n",
              "      <th>max</th>\n",
              "      <td>1.0</td>\n",
              "      <td>1.000000</td>\n",
              "      <td>1.000000</td>\n",
              "      <td>1.000000</td>\n",
              "      <td>1.000000</td>\n",
              "      <td>1.000000</td>\n",
              "      <td>1.000000</td>\n",
              "      <td>1.000000</td>\n",
              "      <td>4.000000</td>\n",
              "      <td>6.000000</td>\n",
              "      <td>1278.000000</td>\n",
              "      <td>14646.000000</td>\n",
              "      <td>2.500000e+09</td>\n",
              "      <td>1.521479e+06</td>\n",
              "      <td>111.000000</td>\n",
              "      <td>15.500000</td>\n",
              "      <td>671725.000000</td>\n",
              "      <td>2.125000e+06</td>\n",
              "      <td>2.125000e+06</td>\n",
              "      <td>467675.000000</td>\n",
              "      <td>362876.000000</td>\n",
              "      <td>7.200000e+06</td>\n",
              "      <td>410000.000000</td>\n",
              "      <td>50000.000000</td>\n",
              "      <td>100000.000000</td>\n",
              "      <td>302000.000000</td>\n",
              "      <td>211300.000000</td>\n",
              "      <td>50000.000000</td>\n",
              "      <td>125000.000000</td>\n",
              "      <td>300000.000000</td>\n",
              "      <td>5.101500e+06</td>\n",
              "      <td>5.501500e+06</td>\n",
              "      <td>5.901500e+06</td>\n",
              "      <td>6.301500e+06</td>\n",
              "      <td>6.701500e+06</td>\n",
              "      <td>7.101500e+06</td>\n",
              "      <td>24.000000</td>\n",
              "      <td>1.000000</td>\n",
              "      <td>1.000000</td>\n",
              "      <td>1.000000</td>\n",
              "      <td>1.000000</td>\n",
              "      <td>1.000000</td>\n",
              "      <td>3.660900e+07</td>\n",
              "      <td>6.101500e+06</td>\n",
              "      <td>400004.000000</td>\n",
              "      <td>66667.333330</td>\n",
              "      <td>80.208333</td>\n",
              "      <td>6.101500e+06</td>\n",
              "      <td>16500.000000</td>\n",
              "      <td>47.714286</td>\n",
              "    </tr>\n",
              "  </tbody>\n",
              "</table>\n",
              "</div>"
            ],
            "text/plain": [
              "       long_term  ...  number_of_installment_paid\n",
              "count     4600.0  ...                 4600.000000\n",
              "mean         1.0  ...                    3.477550\n",
              "std          0.0  ...                    4.581254\n",
              "min          1.0  ...                    0.000000\n",
              "25%          1.0  ...                    0.000000\n",
              "50%          1.0  ...                    1.500000\n",
              "75%          1.0  ...                    5.376325\n",
              "max          1.0  ...                   47.714286\n",
              "\n",
              "[8 rows x 50 columns]"
            ]
          },
          "metadata": {},
          "execution_count": 8
        }
      ]
    },
    {
      "cell_type": "code",
      "metadata": {
        "colab": {
          "base_uri": "https://localhost:8080/"
        },
        "id": "vS3zvzeh6IoT",
        "outputId": "573cbf3f-2b0b-4294-cfce-ff590b5df4dd"
      },
      "source": [
        "df.columns"
      ],
      "id": "vS3zvzeh6IoT",
      "execution_count": null,
      "outputs": [
        {
          "output_type": "execute_result",
          "data": {
            "text/plain": [
              "Index(['long_term', 'emi_loan', 'individual_loan', 'consumer_loan',\n",
              "       'agri_loan', 'interest_free', 'staff_loan', 'secured_unsecured',\n",
              "       'annual_income_lavel', 'loan_type', 'good_credit_life',\n",
              "       'customer_relation_day', 'contract_value', 'contract_mat_day_remain',\n",
              "       'customer_age_year', 'int_rate', 'current_os_amount',\n",
              "       'total_sanction_amt', 'total_disb_amt', 'total_recov_amt',\n",
              "       'total_int_amt', 'total_repayable_amt', 'emi_amount',\n",
              "       'num_of_installment', 'pay_month_01', 'pay_month_02', 'pay_month_03',\n",
              "       'pay_month_04', 'pay_month_05', 'pay_month_06', 'bill_amount_01',\n",
              "       'bill_amount_02', 'bill_amount_03', 'bill_amount_04', 'bill_amount_05',\n",
              "       'bill_amount_06', 'number_of_loan_ac', 'good_credit',\n",
              "       'total_bl_countMoreThanOne', 'total_bl_countOne',\n",
              "       'repayment_frequencyMonth', 'repayment_frequencyMoreThanMonth',\n",
              "       'total_bill_amount', 'mean_bill_amount', 'total_pay_amount',\n",
              "       'mean_pay_amount', 'ratio_of_total_payment', 'ratio_of_bill_payment',\n",
              "       'ratio_of_disb_amt_and_good_credit', 'number_of_installment_paid'],\n",
              "      dtype='object')"
            ]
          },
          "metadata": {},
          "execution_count": 9
        }
      ]
    },
    {
      "cell_type": "code",
      "metadata": {
        "colab": {
          "base_uri": "https://localhost:8080/"
        },
        "id": "IuX2KSVK6S04",
        "outputId": "6b31f885-4840-4230-f1cb-426351385a93"
      },
      "source": [
        "df['long_term'].unique()"
      ],
      "id": "IuX2KSVK6S04",
      "execution_count": null,
      "outputs": [
        {
          "output_type": "execute_result",
          "data": {
            "text/plain": [
              "array([1])"
            ]
          },
          "metadata": {},
          "execution_count": 10
        }
      ]
    },
    {
      "cell_type": "code",
      "metadata": {
        "colab": {
          "base_uri": "https://localhost:8080/"
        },
        "id": "65fa6e8b",
        "outputId": "7b8bf965-e55c-4c5a-d2a7-48ef85edff90"
      },
      "source": [
        "df.drop(['pay_month_01','pay_month_02','pay_month_03','pay_month_04','pay_month_05','pay_month_06',\\\n",
        "        'bill_amount_01','bill_amount_02','bill_amount_03','bill_amount_04','bill_amount_05','bill_amount_06',\\\n",
        "         'total_bl_countMoreThanOne','repayment_frequencyMoreThanMonth','long_term'],axis=1,\\\n",
        "        inplace=True)\n",
        "df.shape"
      ],
      "id": "65fa6e8b",
      "execution_count": null,
      "outputs": [
        {
          "output_type": "execute_result",
          "data": {
            "text/plain": [
              "(4600, 35)"
            ]
          },
          "metadata": {},
          "execution_count": 11
        }
      ]
    },
    {
      "cell_type": "code",
      "metadata": {
        "colab": {
          "base_uri": "https://localhost:8080/",
          "height": 224
        },
        "id": "0337d6bc",
        "outputId": "6742c02e-77cc-40b6-dfeb-c00da99eea96"
      },
      "source": [
        "x = df.drop(['good_credit'],axis=1)\n",
        "x.head()"
      ],
      "id": "0337d6bc",
      "execution_count": null,
      "outputs": [
        {
          "output_type": "execute_result",
          "data": {
            "text/html": [
              "<div>\n",
              "<style scoped>\n",
              "    .dataframe tbody tr th:only-of-type {\n",
              "        vertical-align: middle;\n",
              "    }\n",
              "\n",
              "    .dataframe tbody tr th {\n",
              "        vertical-align: top;\n",
              "    }\n",
              "\n",
              "    .dataframe thead th {\n",
              "        text-align: right;\n",
              "    }\n",
              "</style>\n",
              "<table border=\"1\" class=\"dataframe\">\n",
              "  <thead>\n",
              "    <tr style=\"text-align: right;\">\n",
              "      <th></th>\n",
              "      <th>emi_loan</th>\n",
              "      <th>individual_loan</th>\n",
              "      <th>consumer_loan</th>\n",
              "      <th>agri_loan</th>\n",
              "      <th>interest_free</th>\n",
              "      <th>staff_loan</th>\n",
              "      <th>secured_unsecured</th>\n",
              "      <th>annual_income_lavel</th>\n",
              "      <th>loan_type</th>\n",
              "      <th>good_credit_life</th>\n",
              "      <th>customer_relation_day</th>\n",
              "      <th>contract_value</th>\n",
              "      <th>contract_mat_day_remain</th>\n",
              "      <th>customer_age_year</th>\n",
              "      <th>int_rate</th>\n",
              "      <th>current_os_amount</th>\n",
              "      <th>total_sanction_amt</th>\n",
              "      <th>total_disb_amt</th>\n",
              "      <th>total_recov_amt</th>\n",
              "      <th>total_int_amt</th>\n",
              "      <th>total_repayable_amt</th>\n",
              "      <th>emi_amount</th>\n",
              "      <th>num_of_installment</th>\n",
              "      <th>number_of_loan_ac</th>\n",
              "      <th>total_bl_countOne</th>\n",
              "      <th>repayment_frequencyMonth</th>\n",
              "      <th>total_bill_amount</th>\n",
              "      <th>mean_bill_amount</th>\n",
              "      <th>total_pay_amount</th>\n",
              "      <th>mean_pay_amount</th>\n",
              "      <th>ratio_of_total_payment</th>\n",
              "      <th>ratio_of_bill_payment</th>\n",
              "      <th>ratio_of_disb_amt_and_good_credit</th>\n",
              "      <th>number_of_installment_paid</th>\n",
              "    </tr>\n",
              "  </thead>\n",
              "  <tbody>\n",
              "    <tr>\n",
              "      <th>0</th>\n",
              "      <td>0</td>\n",
              "      <td>1</td>\n",
              "      <td>0</td>\n",
              "      <td>0</td>\n",
              "      <td>0</td>\n",
              "      <td>1</td>\n",
              "      <td>1</td>\n",
              "      <td>1.0</td>\n",
              "      <td>2.0</td>\n",
              "      <td>732</td>\n",
              "      <td>1097.0</td>\n",
              "      <td>64800.0</td>\n",
              "      <td>394</td>\n",
              "      <td>22.0</td>\n",
              "      <td>9.0</td>\n",
              "      <td>37232.0</td>\n",
              "      <td>50000.0</td>\n",
              "      <td>50000.0</td>\n",
              "      <td>19350.0</td>\n",
              "      <td>6582.0</td>\n",
              "      <td>43200.0</td>\n",
              "      <td>1800.0</td>\n",
              "      <td>36</td>\n",
              "      <td>1</td>\n",
              "      <td>1</td>\n",
              "      <td>1</td>\n",
              "      <td>114300.0</td>\n",
              "      <td>19050.0000</td>\n",
              "      <td>6.0</td>\n",
              "      <td>1.000000</td>\n",
              "      <td>1.157407</td>\n",
              "      <td>19050.000000</td>\n",
              "      <td>68.306011</td>\n",
              "      <td>10.750000</td>\n",
              "    </tr>\n",
              "    <tr>\n",
              "      <th>1</th>\n",
              "      <td>1</td>\n",
              "      <td>1</td>\n",
              "      <td>0</td>\n",
              "      <td>0</td>\n",
              "      <td>0</td>\n",
              "      <td>1</td>\n",
              "      <td>0</td>\n",
              "      <td>1.0</td>\n",
              "      <td>3.0</td>\n",
              "      <td>606</td>\n",
              "      <td>1741.0</td>\n",
              "      <td>426000.0</td>\n",
              "      <td>487</td>\n",
              "      <td>33.0</td>\n",
              "      <td>13.0</td>\n",
              "      <td>278523.0</td>\n",
              "      <td>300000.0</td>\n",
              "      <td>300000.0</td>\n",
              "      <td>21500.0</td>\n",
              "      <td>300023.0</td>\n",
              "      <td>213000.0</td>\n",
              "      <td>14200.0</td>\n",
              "      <td>30</td>\n",
              "      <td>1</td>\n",
              "      <td>1</td>\n",
              "      <td>1</td>\n",
              "      <td>949000.0</td>\n",
              "      <td>158166.6667</td>\n",
              "      <td>11502.0</td>\n",
              "      <td>1917.000000</td>\n",
              "      <td>1.408451</td>\n",
              "      <td>82.507390</td>\n",
              "      <td>495.049505</td>\n",
              "      <td>1.514085</td>\n",
              "    </tr>\n",
              "    <tr>\n",
              "      <th>2</th>\n",
              "      <td>1</td>\n",
              "      <td>1</td>\n",
              "      <td>0</td>\n",
              "      <td>0</td>\n",
              "      <td>0</td>\n",
              "      <td>1</td>\n",
              "      <td>0</td>\n",
              "      <td>4.0</td>\n",
              "      <td>3.0</td>\n",
              "      <td>618</td>\n",
              "      <td>1026.0</td>\n",
              "      <td>511200.0</td>\n",
              "      <td>660</td>\n",
              "      <td>37.0</td>\n",
              "      <td>13.0</td>\n",
              "      <td>266854.0</td>\n",
              "      <td>300000.0</td>\n",
              "      <td>300000.0</td>\n",
              "      <td>33200.0</td>\n",
              "      <td>300054.0</td>\n",
              "      <td>213000.0</td>\n",
              "      <td>14200.0</td>\n",
              "      <td>36</td>\n",
              "      <td>1</td>\n",
              "      <td>1</td>\n",
              "      <td>1</td>\n",
              "      <td>879300.0</td>\n",
              "      <td>146550.0000</td>\n",
              "      <td>5005.0</td>\n",
              "      <td>834.166667</td>\n",
              "      <td>1.408451</td>\n",
              "      <td>175.684316</td>\n",
              "      <td>485.436893</td>\n",
              "      <td>2.338028</td>\n",
              "    </tr>\n",
              "    <tr>\n",
              "      <th>3</th>\n",
              "      <td>1</td>\n",
              "      <td>1</td>\n",
              "      <td>0</td>\n",
              "      <td>0</td>\n",
              "      <td>0</td>\n",
              "      <td>1</td>\n",
              "      <td>0</td>\n",
              "      <td>4.0</td>\n",
              "      <td>3.0</td>\n",
              "      <td>564</td>\n",
              "      <td>878.0</td>\n",
              "      <td>511200.0</td>\n",
              "      <td>715</td>\n",
              "      <td>28.0</td>\n",
              "      <td>13.0</td>\n",
              "      <td>280000.0</td>\n",
              "      <td>300000.0</td>\n",
              "      <td>300000.0</td>\n",
              "      <td>20000.0</td>\n",
              "      <td>300000.0</td>\n",
              "      <td>184600.0</td>\n",
              "      <td>14200.0</td>\n",
              "      <td>36</td>\n",
              "      <td>1</td>\n",
              "      <td>1</td>\n",
              "      <td>1</td>\n",
              "      <td>774600.0</td>\n",
              "      <td>129100.0000</td>\n",
              "      <td>6.0</td>\n",
              "      <td>1.000000</td>\n",
              "      <td>1.625135</td>\n",
              "      <td>129100.000000</td>\n",
              "      <td>531.914894</td>\n",
              "      <td>1.408451</td>\n",
              "    </tr>\n",
              "    <tr>\n",
              "      <th>4</th>\n",
              "      <td>1</td>\n",
              "      <td>1</td>\n",
              "      <td>1</td>\n",
              "      <td>0</td>\n",
              "      <td>1</td>\n",
              "      <td>1</td>\n",
              "      <td>0</td>\n",
              "      <td>1.0</td>\n",
              "      <td>6.0</td>\n",
              "      <td>425</td>\n",
              "      <td>2020.0</td>\n",
              "      <td>540288.0</td>\n",
              "      <td>1065</td>\n",
              "      <td>45.0</td>\n",
              "      <td>13.0</td>\n",
              "      <td>436384.0</td>\n",
              "      <td>1175000.0</td>\n",
              "      <td>1175000.0</td>\n",
              "      <td>16000.0</td>\n",
              "      <td>52384.0</td>\n",
              "      <td>157584.0</td>\n",
              "      <td>11256.0</td>\n",
              "      <td>48</td>\n",
              "      <td>5</td>\n",
              "      <td>1</td>\n",
              "      <td>1</td>\n",
              "      <td>705664.0</td>\n",
              "      <td>117610.6667</td>\n",
              "      <td>5005.0</td>\n",
              "      <td>834.166667</td>\n",
              "      <td>7.456341</td>\n",
              "      <td>140.991808</td>\n",
              "      <td>2764.705882</td>\n",
              "      <td>1.421464</td>\n",
              "    </tr>\n",
              "  </tbody>\n",
              "</table>\n",
              "</div>"
            ],
            "text/plain": [
              "   emi_loan  ...  number_of_installment_paid\n",
              "0         0  ...                   10.750000\n",
              "1         1  ...                    1.514085\n",
              "2         1  ...                    2.338028\n",
              "3         1  ...                    1.408451\n",
              "4         1  ...                    1.421464\n",
              "\n",
              "[5 rows x 34 columns]"
            ]
          },
          "metadata": {},
          "execution_count": 12
        }
      ]
    },
    {
      "cell_type": "code",
      "metadata": {
        "colab": {
          "base_uri": "https://localhost:8080/"
        },
        "id": "7aaACQkZ6zD6",
        "outputId": "0fb06327-f0e0-490d-daa1-34ff6856f6bc"
      },
      "source": [
        "x.shape"
      ],
      "id": "7aaACQkZ6zD6",
      "execution_count": null,
      "outputs": [
        {
          "output_type": "execute_result",
          "data": {
            "text/plain": [
              "(4600, 34)"
            ]
          },
          "metadata": {},
          "execution_count": 13
        }
      ]
    },
    {
      "cell_type": "code",
      "metadata": {
        "colab": {
          "base_uri": "https://localhost:8080/"
        },
        "id": "158b8985",
        "outputId": "316e2710-fabf-4e13-a64a-8d2a21d5e227"
      },
      "source": [
        "y = df['good_credit']\n",
        "y"
      ],
      "id": "158b8985",
      "execution_count": null,
      "outputs": [
        {
          "output_type": "execute_result",
          "data": {
            "text/plain": [
              "0       0\n",
              "1       0\n",
              "2       0\n",
              "3       0\n",
              "4       1\n",
              "       ..\n",
              "4595    0\n",
              "4596    0\n",
              "4597    0\n",
              "4598    0\n",
              "4599    0\n",
              "Name: good_credit, Length: 4600, dtype: int64"
            ]
          },
          "metadata": {},
          "execution_count": 14
        }
      ]
    },
    {
      "cell_type": "code",
      "metadata": {
        "colab": {
          "base_uri": "https://localhost:8080/"
        },
        "id": "594fbf04",
        "outputId": "a89abab9-ae20-4fd5-e595-67ba6d1fe872"
      },
      "source": [
        "y.value_counts()"
      ],
      "id": "594fbf04",
      "execution_count": null,
      "outputs": [
        {
          "output_type": "execute_result",
          "data": {
            "text/plain": [
              "0    3698\n",
              "1     902\n",
              "Name: good_credit, dtype: int64"
            ]
          },
          "metadata": {},
          "execution_count": 15
        }
      ]
    },
    {
      "cell_type": "code",
      "metadata": {
        "colab": {
          "base_uri": "https://localhost:8080/",
          "height": 297
        },
        "id": "S6a27qFC7G6s",
        "outputId": "f58228dd-8597-4f3c-9c92-c1c672f7e752"
      },
      "source": [
        "import seaborn as sns\n",
        "sns.countplot(x='good_credit',data=df)"
      ],
      "id": "S6a27qFC7G6s",
      "execution_count": null,
      "outputs": [
        {
          "output_type": "execute_result",
          "data": {
            "text/plain": [
              "<matplotlib.axes._subplots.AxesSubplot at 0x7fae863442d0>"
            ]
          },
          "metadata": {},
          "execution_count": 16
        },
        {
          "output_type": "display_data",
          "data": {
            "image/png": "[encoded data removed]",
            "text/plain": [
              "<Figure size 432x288 with 1 Axes>"
            ]
          },
          "metadata": {
            "needs_background": "light"
          }
        }
      ]
    },
    {
      "cell_type": "markdown",
      "metadata": {
        "id": "kDnYa-Po7nOa"
      },
      "source": [
        "### **Handling Imbalanced to Balanced Dataset using SMOTE(Oversampling) Technique**"
      ],
      "id": "kDnYa-Po7nOa"
    },
    {
      "cell_type": "code",
      "metadata": {
        "colab": {
          "base_uri": "https://localhost:8080/"
        },
        "id": "5947b2eb",
        "outputId": "805c18bc-11e0-4501-a2f8-f7af4d6bd567"
      },
      "source": [
        "import numpy as np\n",
        "from imblearn.over_sampling import SMOTE\n",
        "\n",
        "smote = SMOTE(sampling_strategy='minority')\n",
        "x_sm, y_sm = smote.fit_sample(x,y)\n",
        "unique, counts = np.unique(y_sm, return_counts=True)\n",
        "dict(zip(unique, counts))"
      ],
      "id": "5947b2eb",
      "execution_count": null,
      "outputs": [
        {
          "output_type": "stream",
          "name": "stderr",
          "text": [
            "/usr/local/lib/python3.7/dist-packages/sklearn/externals/six.py:31: FutureWarning: The module is deprecated in version 0.21 and will be removed in version 0.23 since we've dropped support for Python 2.7. Please rely on the official version of six (https://pypi.org/project/six/).\n",
            "  \"(https://pypi.org/project/six/).\", FutureWarning)\n",
            "/usr/local/lib/python3.7/dist-packages/sklearn/utils/deprecation.py:144: FutureWarning: The sklearn.neighbors.base module is  deprecated in version 0.22 and will be removed in version 0.24. The corresponding classes / functions should instead be imported from sklearn.neighbors. Anything that cannot be imported from sklearn.neighbors is now part of the private API.\n",
            "  warnings.warn(message, FutureWarning)\n",
            "/usr/local/lib/python3.7/dist-packages/sklearn/utils/deprecation.py:87: FutureWarning: Function safe_indexing is deprecated; safe_indexing is deprecated in version 0.22 and will be removed in version 0.24.\n",
            "  warnings.warn(msg, category=FutureWarning)\n"
          ]
        },
        {
          "output_type": "execute_result",
          "data": {
            "text/plain": [
              "{0: 3698, 1: 3698}"
            ]
          },
          "metadata": {},
          "execution_count": 17
        }
      ]
    },
    {
      "cell_type": "markdown",
      "metadata": {
        "id": "GlqeCY9y7-or"
      },
      "source": [
        "### **Feature Scaling**"
      ],
      "id": "GlqeCY9y7-or"
    },
    {
      "cell_type": "code",
      "metadata": {
        "id": "DLTIh46N_wzA"
      },
      "source": [
        "from sklearn.preprocessing import StandardScaler\n",
        "standardization = StandardScaler()\n",
        "scale_inputs = standardization.fit_transform(x_sm)"
      ],
      "id": "DLTIh46N_wzA",
      "execution_count": null,
      "outputs": []
    },
    {
      "cell_type": "code",
      "metadata": {
        "colab": {
          "base_uri": "https://localhost:8080/"
        },
        "id": "Zbo-dj9jAlCY",
        "outputId": "ce373c11-3320-4b32-a4b6-61a62c441370"
      },
      "source": [
        "x_sm = scale_inputs\n",
        "x_sm"
      ],
      "id": "Zbo-dj9jAlCY",
      "execution_count": null,
      "outputs": [
        {
          "output_type": "execute_result",
          "data": {
            "text/plain": [
              "array([[-1.62738134,  0.35192285, -0.46391188, ..., -0.11777876,\n",
              "        -0.30110547,  1.34358949],\n",
              "       [ 0.65459737,  0.35192285, -0.46391188, ..., -0.23567507,\n",
              "         0.13119305, -0.50970653],\n",
              "       [ 0.65459737,  0.35192285, -0.46391188, ..., -0.23509591,\n",
              "         0.1214553 , -0.34437246],\n",
              "       ...,\n",
              "       [ 0.24536971,  0.35192285,  1.78840146, ..., -0.19797346,\n",
              "         2.53727197, -0.66122579],\n",
              "       [-1.62738134,  0.35192285, -0.46391188, ..., -0.02640793,\n",
              "        -0.26409304, -0.81352555],\n",
              "       [ 0.08406149,  0.35192285, -0.46391188, ..., -0.23601517,\n",
              "        -0.27424412, -0.04346144]])"
            ]
          },
          "metadata": {},
          "execution_count": 19
        }
      ]
    },
    {
      "cell_type": "markdown",
      "metadata": {
        "id": "bwsUMM1e8NL5"
      },
      "source": [
        "### **Train-Test Split** "
      ],
      "id": "bwsUMM1e8NL5"
    },
    {
      "cell_type": "code",
      "metadata": {
        "id": "ef67388a"
      },
      "source": [
        "from sklearn.model_selection import train_test_split\n",
        "x_train,x_test,y_train,y_test = train_test_split(x_sm,y_sm,test_size=0.2,random_state=42,stratify=y_sm)"
      ],
      "id": "ef67388a",
      "execution_count": null,
      "outputs": []
    },
    {
      "cell_type": "code",
      "metadata": {
        "colab": {
          "base_uri": "https://localhost:8080/"
        },
        "id": "9b40d5f6",
        "outputId": "fc790460-1896-4416-de27-1cf9c674a40f"
      },
      "source": [
        "unique, counts = np.unique(y_train, return_counts=True)\n",
        "dict(zip(unique, counts))"
      ],
      "id": "9b40d5f6",
      "execution_count": null,
      "outputs": [
        {
          "output_type": "execute_result",
          "data": {
            "text/plain": [
              "{0: 2958, 1: 2958}"
            ]
          },
          "metadata": {},
          "execution_count": 21
        }
      ]
    },
    {
      "cell_type": "code",
      "metadata": {
        "colab": {
          "base_uri": "https://localhost:8080/"
        },
        "id": "5716a421",
        "outputId": "e84e6870-caa1-49ec-b0f3-3a5c291593bc"
      },
      "source": [
        "unique, counts = np.unique(y_test, return_counts=True)\n",
        "dict(zip(unique, counts))"
      ],
      "id": "5716a421",
      "execution_count": null,
      "outputs": [
        {
          "output_type": "execute_result",
          "data": {
            "text/plain": [
              "{0: 740, 1: 740}"
            ]
          },
          "metadata": {},
          "execution_count": 22
        }
      ]
    },
    {
      "cell_type": "code",
      "metadata": {
        "id": "6bf9f921"
      },
      "source": [
        "from sklearn.linear_model import LogisticRegression\n",
        "from sklearn.tree import DecisionTreeClassifier\n",
        "from sklearn.ensemble import RandomForestClassifier\n",
        "from sklearn.neighbors import KNeighborsClassifier\n",
        "from sklearn.svm import SVC\n",
        "from sklearn.naive_bayes import GaussianNB,BernoulliNB\n",
        "from xgboost import XGBClassifier\n",
        "from sklearn.ensemble import AdaBoostClassifier\n",
        "from sklearn.discriminant_analysis import LinearDiscriminantAnalysis\n",
        "from sklearn.metrics import precision_score,recall_score,f1_score,roc_auc_score"
      ],
      "id": "6bf9f921",
      "execution_count": null,
      "outputs": []
    },
    {
      "cell_type": "code",
      "metadata": {
        "colab": {
          "base_uri": "https://localhost:8080/"
        },
        "id": "bc34c662",
        "outputId": "914e2b2d-6889-492f-f4ab-740c8ec8cae5"
      },
      "source": [
        "models = []\n",
        "models.append(('Logistic Regression',LogisticRegression()))\n",
        "models.append(('Random Forest',RandomForestClassifier()))\n",
        "models.append(('KNN',KNeighborsClassifier()))\n",
        "models.append(('Decision Tree',DecisionTreeClassifier()))\n",
        "models.append(('Support Vector Machine',SVC()))\n",
        "models.append(('Gaussian Naive Bayes',GaussianNB()))\n",
        "models.append(('Bernoulli Naive Bayes',BernoulliNB()))\n",
        "models.append(('XGBoost',XGBClassifier()))\n",
        "models.append(('AdaBoost',AdaBoostClassifier()))\n",
        "models.append(('Linear Discriminant Analysis',LinearDiscriminantAnalysis()))\n",
        "\n",
        "results = []\n",
        "\n",
        "for name,model in models:\n",
        "    model.fit(x_train,y_train)\n",
        "    score = model.score(x_test,y_test)\n",
        "    predictions = model.predict(x_test)\n",
        "    results.append({\n",
        "        'model': name,\n",
        "        'Accuracy_Score':score,\n",
        "        'Precision': precision_score(y_test,predictions),\n",
        "        'Recall': recall_score(y_test,predictions),\n",
        "        'F1-Score': f1_score(y_test,predictions),\n",
        "        'AUC': roc_auc_score(y_test,predictions)\n",
        "    })\n",
        "    msg = \"%s : %f \" % (name, score)\n",
        "    print(msg)"
      ],
      "id": "bc34c662",
      "execution_count": null,
      "outputs": [
        {
          "output_type": "stream",
          "name": "stderr",
          "text": [
            "/usr/local/lib/python3.7/dist-packages/sklearn/linear_model/_logistic.py:940: ConvergenceWarning: lbfgs failed to converge (status=1):\n",
            "STOP: TOTAL NO. of ITERATIONS REACHED LIMIT.\n",
            "\n",
            "Increase the number of iterations (max_iter) or scale the data as shown in:\n",
            "    https://scikit-learn.org/stable/modules/preprocessing.html\n",
            "Please also refer to the documentation for alternative solver options:\n",
            "    https://scikit-learn.org/stable/modules/linear_model.html#logistic-regression\n",
            "  extra_warning_msg=_LOGISTIC_SOLVER_CONVERGENCE_MSG)\n"
          ]
        },
        {
          "output_type": "stream",
          "name": "stdout",
          "text": [
            "Logistic Regression : 0.683784 \n",
            "Random Forest : 0.925676 \n",
            "KNN : 0.816216 \n",
            "Decision Tree : 0.866892 \n",
            "Support Vector Machine : 0.788514 \n",
            "Gaussian Naive Bayes : 0.543243 \n",
            "Bernoulli Naive Bayes : 0.635811 \n",
            "XGBoost : 0.899324 \n",
            "AdaBoost : 0.870270 \n",
            "Linear Discriminant Analysis : 0.685135 \n"
          ]
        }
      ]
    },
    {
      "cell_type": "code",
      "metadata": {
        "colab": {
          "base_uri": "https://localhost:8080/",
          "height": 359
        },
        "id": "bf32fe9a",
        "outputId": "3898f619-248b-44e0-cab4-1ddc66283a1c"
      },
      "source": [
        "df = pd.DataFrame(results,columns = ['model','Accuracy_Score','Precision','Recall','F1-Score','AUC'])\n",
        "df"
      ],
      "id": "bf32fe9a",
      "execution_count": null,
      "outputs": [
        {
          "output_type": "execute_result",
          "data": {
            "text/html": [
              "<div>\n",
              "<style scoped>\n",
              "    .dataframe tbody tr th:only-of-type {\n",
              "        vertical-align: middle;\n",
              "    }\n",
              "\n",
              "    .dataframe tbody tr th {\n",
              "        vertical-align: top;\n",
              "    }\n",
              "\n",
              "    .dataframe thead th {\n",
              "        text-align: right;\n",
              "    }\n",
              "</style>\n",
              "<table border=\"1\" class=\"dataframe\">\n",
              "  <thead>\n",
              "    <tr style=\"text-align: right;\">\n",
              "      <th></th>\n",
              "      <th>model</th>\n",
              "      <th>Accuracy_Score</th>\n",
              "      <th>Precision</th>\n",
              "      <th>Recall</th>\n",
              "      <th>F1-Score</th>\n",
              "      <th>AUC</th>\n",
              "    </tr>\n",
              "  </thead>\n",
              "  <tbody>\n",
              "    <tr>\n",
              "      <th>0</th>\n",
              "      <td>Logistic Regression</td>\n",
              "      <td>0.683784</td>\n",
              "      <td>0.737762</td>\n",
              "      <td>0.570270</td>\n",
              "      <td>0.643293</td>\n",
              "      <td>0.683784</td>\n",
              "    </tr>\n",
              "    <tr>\n",
              "      <th>1</th>\n",
              "      <td>Random Forest</td>\n",
              "      <td>0.925676</td>\n",
              "      <td>0.952586</td>\n",
              "      <td>0.895946</td>\n",
              "      <td>0.923398</td>\n",
              "      <td>0.925676</td>\n",
              "    </tr>\n",
              "    <tr>\n",
              "      <th>2</th>\n",
              "      <td>KNN</td>\n",
              "      <td>0.816216</td>\n",
              "      <td>0.806283</td>\n",
              "      <td>0.832432</td>\n",
              "      <td>0.819149</td>\n",
              "      <td>0.816216</td>\n",
              "    </tr>\n",
              "    <tr>\n",
              "      <th>3</th>\n",
              "      <td>Decision Tree</td>\n",
              "      <td>0.866892</td>\n",
              "      <td>0.860558</td>\n",
              "      <td>0.875676</td>\n",
              "      <td>0.868051</td>\n",
              "      <td>0.866892</td>\n",
              "    </tr>\n",
              "    <tr>\n",
              "      <th>4</th>\n",
              "      <td>Support Vector Machine</td>\n",
              "      <td>0.788514</td>\n",
              "      <td>0.832037</td>\n",
              "      <td>0.722973</td>\n",
              "      <td>0.773680</td>\n",
              "      <td>0.788514</td>\n",
              "    </tr>\n",
              "    <tr>\n",
              "      <th>5</th>\n",
              "      <td>Gaussian Naive Bayes</td>\n",
              "      <td>0.543243</td>\n",
              "      <td>0.524206</td>\n",
              "      <td>0.936486</td>\n",
              "      <td>0.672163</td>\n",
              "      <td>0.543243</td>\n",
              "    </tr>\n",
              "    <tr>\n",
              "      <th>6</th>\n",
              "      <td>Bernoulli Naive Bayes</td>\n",
              "      <td>0.635811</td>\n",
              "      <td>0.683060</td>\n",
              "      <td>0.506757</td>\n",
              "      <td>0.581846</td>\n",
              "      <td>0.635811</td>\n",
              "    </tr>\n",
              "    <tr>\n",
              "      <th>7</th>\n",
              "      <td>XGBoost</td>\n",
              "      <td>0.899324</td>\n",
              "      <td>0.958140</td>\n",
              "      <td>0.835135</td>\n",
              "      <td>0.892419</td>\n",
              "      <td>0.899324</td>\n",
              "    </tr>\n",
              "    <tr>\n",
              "      <th>8</th>\n",
              "      <td>AdaBoost</td>\n",
              "      <td>0.870270</td>\n",
              "      <td>0.912651</td>\n",
              "      <td>0.818919</td>\n",
              "      <td>0.863248</td>\n",
              "      <td>0.870270</td>\n",
              "    </tr>\n",
              "    <tr>\n",
              "      <th>9</th>\n",
              "      <td>Linear Discriminant Analysis</td>\n",
              "      <td>0.685135</td>\n",
              "      <td>0.747292</td>\n",
              "      <td>0.559459</td>\n",
              "      <td>0.639876</td>\n",
              "      <td>0.685135</td>\n",
              "    </tr>\n",
              "  </tbody>\n",
              "</table>\n",
              "</div>"
            ],
            "text/plain": [
              "                          model  Accuracy_Score  ...  F1-Score       AUC\n",
              "0           Logistic Regression        0.683784  ...  0.643293  0.683784\n",
              "1                 Random Forest        0.925676  ...  0.923398  0.925676\n",
              "2                           KNN        0.816216  ...  0.819149  0.816216\n",
              "3                 Decision Tree        0.866892  ...  0.868051  0.866892\n",
              "4        Support Vector Machine        0.788514  ...  0.773680  0.788514\n",
              "5          Gaussian Naive Bayes        0.543243  ...  0.672163  0.543243\n",
              "6         Bernoulli Naive Bayes        0.635811  ...  0.581846  0.635811\n",
              "7                       XGBoost        0.899324  ...  0.892419  0.899324\n",
              "8                      AdaBoost        0.870270  ...  0.863248  0.870270\n",
              "9  Linear Discriminant Analysis        0.685135  ...  0.639876  0.685135\n",
              "\n",
              "[10 rows x 6 columns]"
            ]
          },
          "metadata": {},
          "execution_count": 26
        }
      ]
    },
    {
      "cell_type": "code",
      "metadata": {
        "colab": {
          "base_uri": "https://localhost:8080/",
          "height": 583
        },
        "id": "pi0HKK3mF6cO",
        "outputId": "409135c2-e725-4c5f-e47c-bee460fab415"
      },
      "source": [
        "import matplotlib.pyplot as plt\n",
        "plt.figure(figsize=(12,8))\n",
        "plt.xlabel('Model')\n",
        "plt.ylabel('Accuracy')\n",
        "plt.title('Accuracy of the model')\n",
        "plt.xticks(rotation=30)\n",
        "plt.bar(df['model'],df['Accuracy_Score'])\n",
        "plt.show()"
      ],
      "id": "pi0HKK3mF6cO",
      "execution_count": null,
      "outputs": [
        {
          "output_type": "display_data",
          "data": {
            "image/png": "[encoded data removed]",
            "text/plain": [
              "<Figure size 864x576 with 1 Axes>"
            ]
          },
          "metadata": {
            "needs_background": "light"
          }
        }
      ]
    },
    {
      "cell_type": "code",
      "metadata": {
        "colab": {
          "base_uri": "https://localhost:8080/"
        },
        "id": "wbnLm9EuBqBP",
        "outputId": "d7893855-cecb-47ca-b712-7a8f77de48e2"
      },
      "source": [
        "model = RandomForestClassifier()\n",
        "model.fit(x_train,y_train)\n",
        "model.score(x_test,y_test)"
      ],
      "id": "wbnLm9EuBqBP",
      "execution_count": null,
      "outputs": [
        {
          "output_type": "execute_result",
          "data": {
            "text/plain": [
              "0.9283783783783783"
            ]
          },
          "metadata": {},
          "execution_count": 28
        }
      ]
    },
    {
      "cell_type": "code",
      "metadata": {
        "id": "0098d712"
      },
      "source": [
        "y_pred = model.predict(x_test)"
      ],
      "id": "0098d712",
      "execution_count": null,
      "outputs": []
    },
    {
      "cell_type": "code",
      "metadata": {
        "colab": {
          "base_uri": "https://localhost:8080/"
        },
        "id": "1fbffd14",
        "outputId": "cc2feb62-c2bc-472b-839d-261d34417f48"
      },
      "source": [
        "y_test[:10]"
      ],
      "id": "1fbffd14",
      "execution_count": null,
      "outputs": [
        {
          "output_type": "execute_result",
          "data": {
            "text/plain": [
              "array([1, 0, 1, 0, 0, 0, 0, 0, 1, 1])"
            ]
          },
          "metadata": {},
          "execution_count": 30
        }
      ]
    },
    {
      "cell_type": "code",
      "metadata": {
        "colab": {
          "base_uri": "https://localhost:8080/"
        },
        "id": "3a26671c",
        "outputId": "c5a7cb2a-0303-4501-b307-9f0c1f51216b"
      },
      "source": [
        "y_pred[:10]"
      ],
      "id": "3a26671c",
      "execution_count": null,
      "outputs": [
        {
          "output_type": "execute_result",
          "data": {
            "text/plain": [
              "array([1, 0, 1, 0, 0, 0, 0, 0, 1, 1])"
            ]
          },
          "metadata": {},
          "execution_count": 31
        }
      ]
    },
    {
      "cell_type": "code",
      "metadata": {
        "colab": {
          "base_uri": "https://localhost:8080/"
        },
        "id": "bdb3ef0b",
        "outputId": "e175089c-e442-48de-c532-87e4b5e74518"
      },
      "source": [
        "from sklearn.metrics import confusion_matrix,classification_report\n",
        "print(classification_report(y_test,y_pred))"
      ],
      "id": "bdb3ef0b",
      "execution_count": null,
      "outputs": [
        {
          "output_type": "stream",
          "name": "stdout",
          "text": [
            "              precision    recall  f1-score   support\n",
            "\n",
            "           0       0.90      0.96      0.93       740\n",
            "           1       0.96      0.90      0.93       740\n",
            "\n",
            "    accuracy                           0.93      1480\n",
            "   macro avg       0.93      0.93      0.93      1480\n",
            "weighted avg       0.93      0.93      0.93      1480\n",
            "\n"
          ]
        }
      ]
    },
    {
      "cell_type": "code",
      "metadata": {
        "colab": {
          "base_uri": "https://localhost:8080/",
          "height": 459
        },
        "id": "gRXDKWbWAxtH",
        "outputId": "92b904e9-a2ea-4cba-b3ce-04daf1dc03b5"
      },
      "source": [
        "import matplotlib.pyplot as plt\n",
        "import numpy as np\n",
        "import seaborn as sns\n",
        "import tensorflow as tf\n",
        "\n",
        "con_matrix = tf.math.confusion_matrix(labels=y_test,predictions=y_pred)\n",
        "plt.figure(figsize=(10,7))\n",
        "sns.heatmap(con_matrix,annot=True,fmt='d')\n",
        "plt.xlabel('Predicted Output')\n",
        "plt.ylabel('True Output')"
      ],
      "id": "gRXDKWbWAxtH",
      "execution_count": null,
      "outputs": [
        {
          "output_type": "execute_result",
          "data": {
            "text/plain": [
              "Text(69.0, 0.5, 'True Output')"
            ]
          },
          "metadata": {},
          "execution_count": 33
        },
        {
          "output_type": "display_data",
          "data": {
            "image/png": "[encoded data removed]",
            "text/plain": [
              "<Figure size 720x504 with 2 Axes>"
            ]
          },
          "metadata": {
            "needs_background": "light"
          }
        }
      ]
    },
    {
      "cell_type": "markdown",
      "metadata": {
        "id": "0aQPu-eUHPOE"
      },
      "source": [
        "### **ANN**"
      ],
      "id": "0aQPu-eUHPOE"
    },
    {
      "cell_type": "code",
      "metadata": {
        "colab": {
          "base_uri": "https://localhost:8080/"
        },
        "id": "f554b015",
        "outputId": "e183a51d-c59d-4ec3-8f5c-612992efaf0b"
      },
      "source": [
        "import tensorflow as tf\n",
        "from tensorflow import keras\n",
        "\n",
        "model = keras.Sequential([\n",
        "        keras.layers.Dense(500,input_shape=(34,),activation='relu'),\n",
        "        keras.layers.Dense(500,activation='relu'),\n",
        "        keras.layers.Dense(1,activation='sigmoid'),                            \n",
        "])\n",
        "\n",
        "model.compile(loss='binary_crossentropy', optimizer='adam', metrics=['accuracy'])\n",
        "history = model.fit(x_train, y_train, epochs=100)"
      ],
      "id": "f554b015",
      "execution_count": null,
      "outputs": [
        {
          "output_type": "stream",
          "name": "stdout",
          "text": [
            "Epoch 1/100\n",
            "185/185 [==============================] - 1s 4ms/step - loss: 0.5443 - accuracy: 0.7104\n",
            "Epoch 2/100\n",
            "185/185 [==============================] - 1s 4ms/step - loss: 0.4676 - accuracy: 0.7720\n",
            "Epoch 3/100\n",
            "185/185 [==============================] - 1s 4ms/step - loss: 0.4343 - accuracy: 0.7921\n",
            "Epoch 4/100\n",
            "185/185 [==============================] - 1s 4ms/step - loss: 0.4067 - accuracy: 0.8112\n",
            "Epoch 5/100\n",
            "185/185 [==============================] - 1s 4ms/step - loss: 0.3757 - accuracy: 0.8257\n",
            "Epoch 6/100\n",
            "185/185 [==============================] - 1s 4ms/step - loss: 0.3577 - accuracy: 0.8369\n",
            "Epoch 7/100\n",
            "185/185 [==============================] - 1s 4ms/step - loss: 0.3295 - accuracy: 0.8526\n",
            "Epoch 8/100\n",
            "185/185 [==============================] - 1s 4ms/step - loss: 0.3159 - accuracy: 0.8612\n",
            "Epoch 9/100\n",
            "185/185 [==============================] - 1s 4ms/step - loss: 0.2970 - accuracy: 0.8722\n",
            "Epoch 10/100\n",
            "185/185 [==============================] - 1s 4ms/step - loss: 0.2757 - accuracy: 0.8781\n",
            "Epoch 11/100\n",
            "185/185 [==============================] - 1s 4ms/step - loss: 0.2735 - accuracy: 0.8747\n",
            "Epoch 12/100\n",
            "185/185 [==============================] - 1s 4ms/step - loss: 0.2659 - accuracy: 0.8905\n",
            "Epoch 13/100\n",
            "185/185 [==============================] - 1s 4ms/step - loss: 0.2493 - accuracy: 0.8923\n",
            "Epoch 14/100\n",
            "185/185 [==============================] - 1s 3ms/step - loss: 0.2310 - accuracy: 0.9043\n",
            "Epoch 15/100\n",
            "185/185 [==============================] - 1s 4ms/step - loss: 0.2317 - accuracy: 0.9018\n",
            "Epoch 16/100\n",
            "185/185 [==============================] - 1s 4ms/step - loss: 0.2247 - accuracy: 0.9080\n",
            "Epoch 17/100\n",
            "185/185 [==============================] - 1s 4ms/step - loss: 0.2113 - accuracy: 0.9135\n",
            "Epoch 18/100\n",
            "185/185 [==============================] - 1s 4ms/step - loss: 0.2025 - accuracy: 0.9163\n",
            "Epoch 19/100\n",
            "185/185 [==============================] - 1s 4ms/step - loss: 0.2107 - accuracy: 0.9195\n",
            "Epoch 20/100\n",
            "185/185 [==============================] - 1s 4ms/step - loss: 0.1963 - accuracy: 0.9184\n",
            "Epoch 21/100\n",
            "185/185 [==============================] - 1s 4ms/step - loss: 0.1864 - accuracy: 0.9270\n",
            "Epoch 22/100\n",
            "185/185 [==============================] - 1s 4ms/step - loss: 0.1855 - accuracy: 0.9255\n",
            "Epoch 23/100\n",
            "185/185 [==============================] - 1s 3ms/step - loss: 0.1750 - accuracy: 0.9295\n",
            "Epoch 24/100\n",
            "185/185 [==============================] - 1s 4ms/step - loss: 0.1688 - accuracy: 0.9314\n",
            "Epoch 25/100\n",
            "185/185 [==============================] - 1s 4ms/step - loss: 0.1645 - accuracy: 0.9344\n",
            "Epoch 26/100\n",
            "185/185 [==============================] - 1s 3ms/step - loss: 0.1505 - accuracy: 0.9397\n",
            "Epoch 27/100\n",
            "185/185 [==============================] - 1s 4ms/step - loss: 0.1501 - accuracy: 0.9383\n",
            "Epoch 28/100\n",
            "185/185 [==============================] - 1s 4ms/step - loss: 0.1444 - accuracy: 0.9459\n",
            "Epoch 29/100\n",
            "185/185 [==============================] - 1s 4ms/step - loss: 0.1370 - accuracy: 0.9493\n",
            "Epoch 30/100\n",
            "185/185 [==============================] - 1s 4ms/step - loss: 0.1312 - accuracy: 0.9520\n",
            "Epoch 31/100\n",
            "185/185 [==============================] - 1s 4ms/step - loss: 0.1253 - accuracy: 0.9539\n",
            "Epoch 32/100\n",
            "185/185 [==============================] - 1s 4ms/step - loss: 0.1381 - accuracy: 0.9474\n",
            "Epoch 33/100\n",
            "185/185 [==============================] - 1s 4ms/step - loss: 0.1391 - accuracy: 0.9469\n",
            "Epoch 34/100\n",
            "185/185 [==============================] - 1s 4ms/step - loss: 0.1305 - accuracy: 0.9491\n",
            "Epoch 35/100\n",
            "185/185 [==============================] - 1s 4ms/step - loss: 0.1178 - accuracy: 0.9599\n",
            "Epoch 36/100\n",
            "185/185 [==============================] - 1s 4ms/step - loss: 0.1151 - accuracy: 0.9572\n",
            "Epoch 37/100\n",
            "185/185 [==============================] - 1s 4ms/step - loss: 0.1136 - accuracy: 0.9542\n",
            "Epoch 38/100\n",
            "185/185 [==============================] - 1s 4ms/step - loss: 0.1212 - accuracy: 0.9535\n",
            "Epoch 39/100\n",
            "185/185 [==============================] - 1s 4ms/step - loss: 0.1355 - accuracy: 0.9517\n",
            "Epoch 40/100\n",
            "185/185 [==============================] - 1s 4ms/step - loss: 0.1315 - accuracy: 0.9525\n",
            "Epoch 41/100\n",
            "185/185 [==============================] - 1s 3ms/step - loss: 0.1162 - accuracy: 0.9572\n",
            "Epoch 42/100\n",
            "185/185 [==============================] - 1s 4ms/step - loss: 0.1002 - accuracy: 0.9601\n",
            "Epoch 43/100\n",
            "185/185 [==============================] - 1s 3ms/step - loss: 0.0990 - accuracy: 0.9621\n",
            "Epoch 44/100\n",
            "185/185 [==============================] - 1s 4ms/step - loss: 0.0939 - accuracy: 0.9669\n",
            "Epoch 45/100\n",
            "185/185 [==============================] - 1s 4ms/step - loss: 0.0894 - accuracy: 0.9665\n",
            "Epoch 46/100\n",
            "185/185 [==============================] - 1s 4ms/step - loss: 0.0902 - accuracy: 0.9686\n",
            "Epoch 47/100\n",
            "185/185 [==============================] - 1s 4ms/step - loss: 0.0846 - accuracy: 0.9667\n",
            "Epoch 48/100\n",
            "185/185 [==============================] - 1s 4ms/step - loss: 0.0841 - accuracy: 0.9684\n",
            "Epoch 49/100\n",
            "185/185 [==============================] - 1s 4ms/step - loss: 0.0864 - accuracy: 0.9682\n",
            "Epoch 50/100\n",
            "185/185 [==============================] - 1s 4ms/step - loss: 0.0996 - accuracy: 0.9615\n",
            "Epoch 51/100\n",
            "185/185 [==============================] - 1s 4ms/step - loss: 0.0867 - accuracy: 0.9677\n",
            "Epoch 52/100\n",
            "185/185 [==============================] - 1s 4ms/step - loss: 0.0848 - accuracy: 0.9692\n",
            "Epoch 53/100\n",
            "185/185 [==============================] - 1s 4ms/step - loss: 0.0861 - accuracy: 0.9669\n",
            "Epoch 54/100\n",
            "185/185 [==============================] - 1s 4ms/step - loss: 0.0889 - accuracy: 0.9677\n",
            "Epoch 55/100\n",
            "185/185 [==============================] - 1s 4ms/step - loss: 0.0728 - accuracy: 0.9738\n",
            "Epoch 56/100\n",
            "185/185 [==============================] - 1s 4ms/step - loss: 0.0746 - accuracy: 0.9721\n",
            "Epoch 57/100\n",
            "185/185 [==============================] - 1s 4ms/step - loss: 0.1052 - accuracy: 0.9626\n",
            "Epoch 58/100\n",
            "185/185 [==============================] - 1s 4ms/step - loss: 0.0997 - accuracy: 0.9643\n",
            "Epoch 59/100\n",
            "185/185 [==============================] - 1s 3ms/step - loss: 0.0903 - accuracy: 0.9706\n",
            "Epoch 60/100\n",
            "185/185 [==============================] - 1s 4ms/step - loss: 0.0776 - accuracy: 0.9709\n",
            "Epoch 61/100\n",
            "185/185 [==============================] - 1s 4ms/step - loss: 0.0686 - accuracy: 0.9757\n",
            "Epoch 62/100\n",
            "185/185 [==============================] - 1s 4ms/step - loss: 0.0668 - accuracy: 0.9760\n",
            "Epoch 63/100\n",
            "185/185 [==============================] - 1s 4ms/step - loss: 0.0582 - accuracy: 0.9802\n",
            "Epoch 64/100\n",
            "185/185 [==============================] - 1s 4ms/step - loss: 0.0691 - accuracy: 0.9748\n",
            "Epoch 65/100\n",
            "185/185 [==============================] - 1s 4ms/step - loss: 0.0675 - accuracy: 0.9752\n",
            "Epoch 66/100\n",
            "185/185 [==============================] - 1s 4ms/step - loss: 0.0573 - accuracy: 0.9772\n",
            "Epoch 67/100\n",
            "185/185 [==============================] - 1s 4ms/step - loss: 0.0644 - accuracy: 0.9767\n",
            "Epoch 68/100\n",
            "185/185 [==============================] - 1s 4ms/step - loss: 0.0591 - accuracy: 0.9768\n",
            "Epoch 69/100\n",
            "185/185 [==============================] - 1s 4ms/step - loss: 0.0624 - accuracy: 0.9770\n",
            "Epoch 70/100\n",
            "185/185 [==============================] - 1s 4ms/step - loss: 0.0573 - accuracy: 0.9794\n",
            "Epoch 71/100\n",
            "185/185 [==============================] - 1s 4ms/step - loss: 0.0690 - accuracy: 0.9738\n",
            "Epoch 72/100\n",
            "185/185 [==============================] - 1s 4ms/step - loss: 0.0644 - accuracy: 0.9745\n",
            "Epoch 73/100\n",
            "185/185 [==============================] - 1s 4ms/step - loss: 0.0550 - accuracy: 0.9802\n",
            "Epoch 74/100\n",
            "185/185 [==============================] - 1s 4ms/step - loss: 0.0818 - accuracy: 0.9728\n",
            "Epoch 75/100\n",
            "185/185 [==============================] - 1s 4ms/step - loss: 0.0775 - accuracy: 0.9741\n",
            "Epoch 76/100\n",
            "185/185 [==============================] - 1s 4ms/step - loss: 0.0592 - accuracy: 0.9777\n",
            "Epoch 77/100\n",
            "185/185 [==============================] - 1s 4ms/step - loss: 0.0583 - accuracy: 0.9801\n",
            "Epoch 78/100\n",
            "185/185 [==============================] - 1s 4ms/step - loss: 0.0655 - accuracy: 0.9738\n",
            "Epoch 79/100\n",
            "185/185 [==============================] - 1s 4ms/step - loss: 0.0524 - accuracy: 0.9821\n",
            "Epoch 80/100\n",
            "185/185 [==============================] - 1s 4ms/step - loss: 0.0462 - accuracy: 0.9834\n",
            "Epoch 81/100\n",
            "185/185 [==============================] - 1s 4ms/step - loss: 0.0554 - accuracy: 0.9812\n",
            "Epoch 82/100\n",
            "185/185 [==============================] - 1s 4ms/step - loss: 0.0549 - accuracy: 0.9799\n",
            "Epoch 83/100\n",
            "185/185 [==============================] - 1s 4ms/step - loss: 0.0493 - accuracy: 0.9839\n",
            "Epoch 84/100\n",
            "185/185 [==============================] - 1s 4ms/step - loss: 0.0462 - accuracy: 0.9831\n",
            "Epoch 85/100\n",
            "185/185 [==============================] - 1s 4ms/step - loss: 0.0510 - accuracy: 0.9828\n",
            "Epoch 86/100\n",
            "185/185 [==============================] - 1s 4ms/step - loss: 0.0797 - accuracy: 0.9758\n",
            "Epoch 87/100\n",
            "185/185 [==============================] - 1s 4ms/step - loss: 0.0688 - accuracy: 0.9775\n",
            "Epoch 88/100\n",
            "185/185 [==============================] - 1s 4ms/step - loss: 0.0639 - accuracy: 0.9804\n",
            "Epoch 89/100\n",
            "185/185 [==============================] - 1s 4ms/step - loss: 0.0409 - accuracy: 0.9858\n",
            "Epoch 90/100\n",
            "185/185 [==============================] - 1s 4ms/step - loss: 0.0431 - accuracy: 0.9839\n",
            "Epoch 91/100\n",
            "185/185 [==============================] - 1s 4ms/step - loss: 0.0447 - accuracy: 0.9831\n",
            "Epoch 92/100\n",
            "185/185 [==============================] - 1s 4ms/step - loss: 0.0389 - accuracy: 0.9877\n",
            "Epoch 93/100\n",
            "185/185 [==============================] - 1s 4ms/step - loss: 0.0359 - accuracy: 0.9873\n",
            "Epoch 94/100\n",
            "185/185 [==============================] - 1s 4ms/step - loss: 0.0397 - accuracy: 0.9851\n",
            "Epoch 95/100\n",
            "185/185 [==============================] - 1s 4ms/step - loss: 0.0437 - accuracy: 0.9838\n",
            "Epoch 96/100\n",
            "185/185 [==============================] - 1s 4ms/step - loss: 0.0521 - accuracy: 0.9823\n",
            "Epoch 97/100\n",
            "185/185 [==============================] - 1s 4ms/step - loss: 0.0622 - accuracy: 0.9782\n",
            "Epoch 98/100\n",
            "185/185 [==============================] - 1s 4ms/step - loss: 0.0672 - accuracy: 0.9753\n",
            "Epoch 99/100\n",
            "185/185 [==============================] - 1s 4ms/step - loss: 0.0546 - accuracy: 0.9834\n",
            "Epoch 100/100\n",
            "185/185 [==============================] - 1s 4ms/step - loss: 0.0546 - accuracy: 0.9831\n"
          ]
        }
      ]
    },
    {
      "cell_type": "code",
      "metadata": {
        "colab": {
          "base_uri": "https://localhost:8080/",
          "height": 516
        },
        "id": "NXG8dIhvLPO7",
        "outputId": "bb417af5-9399-4823-c0e6-f16f141d0a38"
      },
      "source": [
        "acc = history.history['accuracy']\n",
        "loss = history.history['loss']\n",
        "plt.figure(figsize=(15,8))\n",
        "plt.subplot(1,2,1)\n",
        "plt.plot(range(100),acc,label='Training Accuracy')\n",
        "plt.legend(loc='lower right')\n",
        "plt.title(\"Training Accuracy\")\n",
        "\n",
        "plt.subplot(1,2,2)\n",
        "plt.plot(range(100),loss,label='Training Loss')\n",
        "plt.legend(loc='upper right')\n",
        "plt.title(\"Training Loss\")"
      ],
      "id": "NXG8dIhvLPO7",
      "execution_count": null,
      "outputs": [
        {
          "output_type": "execute_result",
          "data": {
            "text/plain": [
              "Text(0.5, 1.0, 'Training Loss')"
            ]
          },
          "metadata": {},
          "execution_count": 35
        },
        {
          "output_type": "display_data",
          "data": {
            "image/png": "[encoded data removed]",
            "text/plain": [
              "<Figure size 1080x576 with 2 Axes>"
            ]
          },
          "metadata": {
            "needs_background": "light"
          }
        }
      ]
    },
    {
      "cell_type": "code",
      "metadata": {
        "colab": {
          "base_uri": "https://localhost:8080/"
        },
        "id": "6aaebf04",
        "outputId": "114e3192-cd5f-4f98-ae4c-6eb30e87cdcd"
      },
      "source": [
        "model.evaluate(x_test, y_test)"
      ],
      "id": "6aaebf04",
      "execution_count": null,
      "outputs": [
        {
          "output_type": "stream",
          "name": "stdout",
          "text": [
            "47/47 [==============================] - 0s 2ms/step - loss: 0.4708 - accuracy: 0.9007\n"
          ]
        },
        {
          "output_type": "execute_result",
          "data": {
            "text/plain": [
              "[0.4707813858985901, 0.9006756544113159]"
            ]
          },
          "metadata": {},
          "execution_count": 36
        }
      ]
    },
    {
      "cell_type": "code",
      "metadata": {
        "colab": {
          "base_uri": "https://localhost:8080/"
        },
        "id": "226235ae",
        "outputId": "fcd3e599-b5a9-4087-e2e1-a96a6b9e9c87"
      },
      "source": [
        "y_pred = model.predict(x_test)\n",
        "y_pred"
      ],
      "id": "226235ae",
      "execution_count": null,
      "outputs": [
        {
          "output_type": "execute_result",
          "data": {
            "text/plain": [
              "array([[9.993478e-01],\n",
              "       [7.771320e-07],\n",
              "       [1.000000e+00],\n",
              "       ...,\n",
              "       [9.805509e-01],\n",
              "       [1.000000e+00],\n",
              "       [9.989550e-01]], dtype=float32)"
            ]
          },
          "metadata": {},
          "execution_count": 37
        }
      ]
    },
    {
      "cell_type": "code",
      "metadata": {
        "colab": {
          "base_uri": "https://localhost:8080/"
        },
        "id": "plECyzM4CWdJ",
        "outputId": "6dfa4222-1903-4dfd-8cad-9d5a99a3d9a7"
      },
      "source": [
        "y_pred = np.round(y_pred)\n",
        "y_pred"
      ],
      "id": "plECyzM4CWdJ",
      "execution_count": null,
      "outputs": [
        {
          "output_type": "execute_result",
          "data": {
            "text/plain": [
              "array([[1.],\n",
              "       [0.],\n",
              "       [1.],\n",
              "       ...,\n",
              "       [1.],\n",
              "       [1.],\n",
              "       [1.]], dtype=float32)"
            ]
          },
          "metadata": {},
          "execution_count": 38
        }
      ]
    },
    {
      "cell_type": "code",
      "metadata": {
        "colab": {
          "base_uri": "https://localhost:8080/"
        },
        "id": "zD3A1NaUJJv7",
        "outputId": "4f3eda75-f644-44b1-a235-be376468c215"
      },
      "source": [
        "y_pred = y_pred[:,0]\n",
        "y_pred"
      ],
      "id": "zD3A1NaUJJv7",
      "execution_count": null,
      "outputs": [
        {
          "output_type": "execute_result",
          "data": {
            "text/plain": [
              "array([1., 0., 1., ..., 1., 1., 1.], dtype=float32)"
            ]
          },
          "metadata": {},
          "execution_count": 39
        }
      ]
    },
    {
      "cell_type": "code",
      "metadata": {
        "colab": {
          "base_uri": "https://localhost:8080/"
        },
        "id": "uXJwa0TcJMyK",
        "outputId": "ad1689c9-1aa2-42a1-e640-a3a4f4ec941c"
      },
      "source": [
        "y_test[:10]"
      ],
      "id": "uXJwa0TcJMyK",
      "execution_count": null,
      "outputs": [
        {
          "output_type": "execute_result",
          "data": {
            "text/plain": [
              "array([1, 0, 1, 0, 0, 0, 0, 0, 1, 1])"
            ]
          },
          "metadata": {},
          "execution_count": 40
        }
      ]
    },
    {
      "cell_type": "code",
      "metadata": {
        "colab": {
          "base_uri": "https://localhost:8080/"
        },
        "id": "LjiL4AllJPEC",
        "outputId": "191da917-f2ed-4255-a6a5-93ec2efd2033"
      },
      "source": [
        "y_pred[:10]"
      ],
      "id": "LjiL4AllJPEC",
      "execution_count": null,
      "outputs": [
        {
          "output_type": "execute_result",
          "data": {
            "text/plain": [
              "array([1., 0., 1., 0., 0., 0., 0., 0., 1., 1.], dtype=float32)"
            ]
          },
          "metadata": {},
          "execution_count": 41
        }
      ]
    },
    {
      "cell_type": "code",
      "metadata": {
        "colab": {
          "base_uri": "https://localhost:8080/",
          "height": 80
        },
        "id": "zrRvXV-OJRmi",
        "outputId": "004363fb-8fcf-4df3-d1ce-7d4a70e12424"
      },
      "source": [
        "from sklearn.metrics import accuracy_score,precision_score,recall_score,f1_score,roc_auc_score\n",
        "# accuracy: (tp + tn) / (p + n)\n",
        "accuracy = accuracy_score(y_test, y_pred)\n",
        "# precision tp / (tp + fp)\n",
        "precision = precision_score(y_test, y_pred)\n",
        "# recall: tp / (tp + fn)\n",
        "recall = recall_score(y_test, y_pred)\n",
        "# f1: 2 tp / (2 tp + fp + fn)\n",
        "f1 = f1_score(y_test, y_pred)\n",
        "auc = roc_auc_score(y_test, y_pred)\n",
        "\n",
        "results_deep_learning = []\n",
        "results_deep_learning.append({\n",
        "    'model': \"ANN\",\n",
        "    'Accuracy_Score':accuracy,\n",
        "    'Precision': precision,\n",
        "    'Recall': recall,\n",
        "    'F1-Score': f1,\n",
        "    'AUC': auc\n",
        "})\n",
        "\n",
        "df = pd.DataFrame(results_deep_learning,columns = ['model','Accuracy_Score','Precision','Recall','F1-Score','AUC'])\n",
        "df"
      ],
      "id": "zrRvXV-OJRmi",
      "execution_count": null,
      "outputs": [
        {
          "output_type": "execute_result",
          "data": {
            "text/html": [
              "<div>\n",
              "<style scoped>\n",
              "    .dataframe tbody tr th:only-of-type {\n",
              "        vertical-align: middle;\n",
              "    }\n",
              "\n",
              "    .dataframe tbody tr th {\n",
              "        vertical-align: top;\n",
              "    }\n",
              "\n",
              "    .dataframe thead th {\n",
              "        text-align: right;\n",
              "    }\n",
              "</style>\n",
              "<table border=\"1\" class=\"dataframe\">\n",
              "  <thead>\n",
              "    <tr style=\"text-align: right;\">\n",
              "      <th></th>\n",
              "      <th>model</th>\n",
              "      <th>Accuracy_Score</th>\n",
              "      <th>Precision</th>\n",
              "      <th>Recall</th>\n",
              "      <th>F1-Score</th>\n",
              "      <th>AUC</th>\n",
              "    </tr>\n",
              "  </thead>\n",
              "  <tbody>\n",
              "    <tr>\n",
              "      <th>0</th>\n",
              "      <td>ANN</td>\n",
              "      <td>0.900676</td>\n",
              "      <td>0.870162</td>\n",
              "      <td>0.941892</td>\n",
              "      <td>0.904607</td>\n",
              "      <td>0.900676</td>\n",
              "    </tr>\n",
              "  </tbody>\n",
              "</table>\n",
              "</div>"
            ],
            "text/plain": [
              "  model  Accuracy_Score  Precision    Recall  F1-Score       AUC\n",
              "0   ANN        0.900676   0.870162  0.941892  0.904607  0.900676"
            ]
          },
          "metadata": {},
          "execution_count": 42
        }
      ]
    },
    {
      "cell_type": "code",
      "metadata": {
        "colab": {
          "base_uri": "https://localhost:8080/",
          "height": 459
        },
        "id": "Kyr8um80DQne",
        "outputId": "41af771b-5043-40f7-ce39-13fa00c694c0"
      },
      "source": [
        "con_matrix = tf.math.confusion_matrix(labels=y_test,predictions=y_pred)\n",
        "plt.figure(figsize=(10,7))\n",
        "sns.heatmap(con_matrix,annot=True,fmt='d')\n",
        "plt.xlabel('Predicted Output')\n",
        "plt.ylabel('True Output')"
      ],
      "id": "Kyr8um80DQne",
      "execution_count": null,
      "outputs": [
        {
          "output_type": "execute_result",
          "data": {
            "text/plain": [
              "Text(69.0, 0.5, 'True Output')"
            ]
          },
          "metadata": {},
          "execution_count": 43
        },
        {
          "output_type": "display_data",
          "data": {
            "image/png": "[encoded data removed]",
            "text/plain": [
              "<Figure size 720x504 with 2 Axes>"
            ]
          },
          "metadata": {
            "needs_background": "light"
          }
        }
      ]
    },
    {
      "cell_type": "markdown",
      "metadata": {
        "id": "ogir6kOFKgHJ"
      },
      "source": [
        "### **MLP**"
      ],
      "id": "ogir6kOFKgHJ"
    },
    {
      "cell_type": "code",
      "metadata": {
        "colab": {
          "base_uri": "https://localhost:8080/"
        },
        "id": "Xqq5ZmOCKeu7",
        "outputId": "6bd950ba-0950-4317-82cd-8d5327c40e27"
      },
      "source": [
        "from sklearn.neural_network import MLPClassifier\n",
        "\n",
        "mlp = MLPClassifier(hidden_layer_sizes=(800,700),max_iter=8000,activation='relu')\n",
        "mlp.fit(x_train,y_train)\n",
        "mlp.score(x_test,y_test)"
      ],
      "id": "Xqq5ZmOCKeu7",
      "execution_count": null,
      "outputs": [
        {
          "output_type": "execute_result",
          "data": {
            "text/plain": [
              "0.9054054054054054"
            ]
          },
          "metadata": {},
          "execution_count": 44
        }
      ]
    },
    {
      "cell_type": "code",
      "metadata": {
        "colab": {
          "base_uri": "https://localhost:8080/"
        },
        "id": "ikKLsUPaJ4NT",
        "outputId": "e0d48042-3e0e-4152-f8f2-8663c6ae405f"
      },
      "source": [
        "y_pred = mlp.predict(x_test)\n",
        "y_pred"
      ],
      "id": "ikKLsUPaJ4NT",
      "execution_count": null,
      "outputs": [
        {
          "output_type": "execute_result",
          "data": {
            "text/plain": [
              "array([1, 0, 1, ..., 1, 1, 1])"
            ]
          },
          "metadata": {},
          "execution_count": 45
        }
      ]
    },
    {
      "cell_type": "code",
      "metadata": {
        "colab": {
          "base_uri": "https://localhost:8080/"
        },
        "id": "JYClH947LKhK",
        "outputId": "60b3ba6a-48da-4fa9-ea1a-4315037f8287"
      },
      "source": [
        "y_test[:10]"
      ],
      "id": "JYClH947LKhK",
      "execution_count": null,
      "outputs": [
        {
          "output_type": "execute_result",
          "data": {
            "text/plain": [
              "array([1, 0, 1, 0, 0, 0, 0, 0, 1, 1])"
            ]
          },
          "metadata": {},
          "execution_count": 46
        }
      ]
    },
    {
      "cell_type": "code",
      "metadata": {
        "colab": {
          "base_uri": "https://localhost:8080/"
        },
        "id": "0eShEJbBLNN5",
        "outputId": "90912d9e-d4f6-4db7-de57-ed96a8f8593f"
      },
      "source": [
        "y_pred[:10]"
      ],
      "id": "0eShEJbBLNN5",
      "execution_count": null,
      "outputs": [
        {
          "output_type": "execute_result",
          "data": {
            "text/plain": [
              "array([1, 0, 1, 0, 0, 0, 0, 0, 1, 1])"
            ]
          },
          "metadata": {},
          "execution_count": 47
        }
      ]
    },
    {
      "cell_type": "code",
      "metadata": {
        "colab": {
          "base_uri": "https://localhost:8080/",
          "height": 111
        },
        "id": "rbDmiP28LPkJ",
        "outputId": "61f28714-bbad-42e0-aabc-c5caaf1642b3"
      },
      "source": [
        "# accuracy: (tp + tn) / (p + n)\n",
        "accuracy = accuracy_score(y_test, y_pred)\n",
        "# precision tp / (tp + fp)\n",
        "precision = precision_score(y_test, y_pred)\n",
        "# recall: tp / (tp + fn)\n",
        "recall = recall_score(y_test, y_pred)\n",
        "# f1: 2 tp / (2 tp + fp + fn)\n",
        "f1 = f1_score(y_test, y_pred)\n",
        "auc = roc_auc_score(y_test, y_pred)\n",
        "\n",
        "results_deep_learning.append({\n",
        "    'model': \"MLP\",\n",
        "    'Accuracy_Score':accuracy,\n",
        "    'Precision': precision,\n",
        "    'Recall': recall,\n",
        "    'F1-Score': f1,\n",
        "    'AUC': auc\n",
        "})\n",
        "\n",
        "df = pd.DataFrame(results_deep_learning,columns = ['model','Accuracy_Score','Precision','Recall','F1-Score','AUC'])\n",
        "df"
      ],
      "id": "rbDmiP28LPkJ",
      "execution_count": null,
      "outputs": [
        {
          "output_type": "execute_result",
          "data": {
            "text/html": [
              "<div>\n",
              "<style scoped>\n",
              "    .dataframe tbody tr th:only-of-type {\n",
              "        vertical-align: middle;\n",
              "    }\n",
              "\n",
              "    .dataframe tbody tr th {\n",
              "        vertical-align: top;\n",
              "    }\n",
              "\n",
              "    .dataframe thead th {\n",
              "        text-align: right;\n",
              "    }\n",
              "</style>\n",
              "<table border=\"1\" class=\"dataframe\">\n",
              "  <thead>\n",
              "    <tr style=\"text-align: right;\">\n",
              "      <th></th>\n",
              "      <th>model</th>\n",
              "      <th>Accuracy_Score</th>\n",
              "      <th>Precision</th>\n",
              "      <th>Recall</th>\n",
              "      <th>F1-Score</th>\n",
              "      <th>AUC</th>\n",
              "    </tr>\n",
              "  </thead>\n",
              "  <tbody>\n",
              "    <tr>\n",
              "      <th>0</th>\n",
              "      <td>ANN</td>\n",
              "      <td>0.900676</td>\n",
              "      <td>0.870162</td>\n",
              "      <td>0.941892</td>\n",
              "      <td>0.904607</td>\n",
              "      <td>0.900676</td>\n",
              "    </tr>\n",
              "    <tr>\n",
              "      <th>1</th>\n",
              "      <td>MLP</td>\n",
              "      <td>0.905405</td>\n",
              "      <td>0.910959</td>\n",
              "      <td>0.898649</td>\n",
              "      <td>0.904762</td>\n",
              "      <td>0.905405</td>\n",
              "    </tr>\n",
              "  </tbody>\n",
              "</table>\n",
              "</div>"
            ],
            "text/plain": [
              "  model  Accuracy_Score  Precision    Recall  F1-Score       AUC\n",
              "0   ANN        0.900676   0.870162  0.941892  0.904607  0.900676\n",
              "1   MLP        0.905405   0.910959  0.898649  0.904762  0.905405"
            ]
          },
          "metadata": {},
          "execution_count": 48
        }
      ]
    },
    {
      "cell_type": "code",
      "metadata": {
        "colab": {
          "base_uri": "https://localhost:8080/",
          "height": 459
        },
        "id": "e_l5k4CHMNhr",
        "outputId": "4b7eb10e-1ccc-4da7-9d00-4d4c073bb957"
      },
      "source": [
        "con_matrix = tf.math.confusion_matrix(labels=y_test,predictions=y_pred)\n",
        "plt.figure(figsize=(10,7))\n",
        "sns.heatmap(con_matrix,annot=True,fmt='d')\n",
        "plt.xlabel('Predicted Output')\n",
        "plt.ylabel('True Output')"
      ],
      "id": "e_l5k4CHMNhr",
      "execution_count": null,
      "outputs": [
        {
          "output_type": "execute_result",
          "data": {
            "text/plain": [
              "Text(69.0, 0.5, 'True Output')"
            ]
          },
          "metadata": {},
          "execution_count": 49
        },
        {
          "output_type": "display_data",
          "data": {
            "image/png": "[encoded data removed]",
            "text/plain": [
              "<Figure size 720x504 with 2 Axes>"
            ]
          },
          "metadata": {
            "needs_background": "light"
          }
        }
      ]
    },
    {
      "cell_type": "markdown",
      "metadata": {
        "id": "lF6TT5rxLkoN"
      },
      "source": [
        "### **CNN**"
      ],
      "id": "lF6TT5rxLkoN"
    },
    {
      "cell_type": "code",
      "metadata": {
        "colab": {
          "base_uri": "https://localhost:8080/"
        },
        "id": "_CAK4LMLMbyq",
        "outputId": "464ffdd8-6fc5-41f3-80ee-22c48df76929"
      },
      "source": [
        "print(x_train.shape)\n",
        "print(x_test.shape)"
      ],
      "id": "_CAK4LMLMbyq",
      "execution_count": null,
      "outputs": [
        {
          "output_type": "stream",
          "name": "stdout",
          "text": [
            "(5916, 34)\n",
            "(1480, 34)\n"
          ]
        }
      ]
    },
    {
      "cell_type": "code",
      "metadata": {
        "colab": {
          "base_uri": "https://localhost:8080/"
        },
        "id": "T46hjfakLYYp",
        "outputId": "1cd3b721-9b74-4860-d0b4-a0cdf0d1fe3c"
      },
      "source": [
        "x_train = x_train.reshape((len(x_train),34,1))\n",
        "x_train.shape"
      ],
      "id": "T46hjfakLYYp",
      "execution_count": null,
      "outputs": [
        {
          "output_type": "execute_result",
          "data": {
            "text/plain": [
              "(5916, 34, 1)"
            ]
          },
          "metadata": {},
          "execution_count": 51
        }
      ]
    },
    {
      "cell_type": "code",
      "metadata": {
        "colab": {
          "base_uri": "https://localhost:8080/"
        },
        "id": "iTaUrPnJLnqB",
        "outputId": "d5ece7c5-a868-4233-be91-139640f1f3d9"
      },
      "source": [
        "x_test = x_test.reshape((len(x_test),34,1))\n",
        "x_test.shape"
      ],
      "id": "iTaUrPnJLnqB",
      "execution_count": null,
      "outputs": [
        {
          "output_type": "execute_result",
          "data": {
            "text/plain": [
              "(1480, 34, 1)"
            ]
          },
          "metadata": {},
          "execution_count": 52
        }
      ]
    },
    {
      "cell_type": "code",
      "metadata": {
        "colab": {
          "base_uri": "https://localhost:8080/"
        },
        "id": "r8eUJAY8LqEp",
        "outputId": "8512ae07-d712-463e-f200-790f89eae73a"
      },
      "source": [
        "\n",
        "model = keras.Sequential([\n",
        "        keras.layers.Conv1D(filters=200,kernel_size=3,padding='same',activation='relu',input_shape=(34,1)),\n",
        "        keras.layers.MaxPooling1D((2,)),\n",
        "    \n",
        "        keras.layers.Conv1D(filters=100,kernel_size=3,padding='same',activation='relu'),\n",
        "        keras.layers.MaxPooling1D((2,)),                           \n",
        "        \n",
        "        keras.layers.Conv1D(filters=50,kernel_size=3,padding='same',activation='relu'),\n",
        "        keras.layers.MaxPooling1D((2,)),                           \n",
        "        \n",
        "        keras.layers.Conv1D(filters=30,kernel_size=3,padding='same',activation='relu'),\n",
        "        keras.layers.MaxPooling1D((2,)),\n",
        "\n",
        "        keras.layers.Flatten(),\n",
        "        keras.layers.Dense(500,activation='relu'),\n",
        "        keras.layers.Dense(1,activation='sigmoid'),                           \n",
        "])\n",
        "\n",
        "model.compile(loss='binary_crossentropy', optimizer='adam', metrics=['accuracy'])\n",
        "history = model.fit(x_train, y_train, epochs=200)"
      ],
      "id": "r8eUJAY8LqEp",
      "execution_count": null,
      "outputs": [
        {
          "output_type": "stream",
          "name": "stdout",
          "text": [
            "Epoch 1/200\n",
            "185/185 [==============================] - 5s 19ms/step - loss: 0.5895 - accuracy: 0.6748\n",
            "Epoch 2/200\n",
            "185/185 [==============================] - 3s 18ms/step - loss: 0.5169 - accuracy: 0.7348\n",
            "Epoch 3/200\n",
            "185/185 [==============================] - 3s 18ms/step - loss: 0.4645 - accuracy: 0.7853\n",
            "Epoch 4/200\n",
            "185/185 [==============================] - 2s 12ms/step - loss: 0.4293 - accuracy: 0.8019\n",
            "Epoch 5/200\n",
            "185/185 [==============================] - 2s 12ms/step - loss: 0.3941 - accuracy: 0.8181\n",
            "Epoch 6/200\n",
            "185/185 [==============================] - 2s 12ms/step - loss: 0.3724 - accuracy: 0.8300\n",
            "Epoch 7/200\n",
            "185/185 [==============================] - 2s 12ms/step - loss: 0.3545 - accuracy: 0.8413\n",
            "Epoch 8/200\n",
            "185/185 [==============================] - 2s 12ms/step - loss: 0.3307 - accuracy: 0.8497\n",
            "Epoch 9/200\n",
            "185/185 [==============================] - 2s 12ms/step - loss: 0.3169 - accuracy: 0.8617\n",
            "Epoch 10/200\n",
            "185/185 [==============================] - 2s 12ms/step - loss: 0.3012 - accuracy: 0.8651\n",
            "Epoch 11/200\n",
            "185/185 [==============================] - 2s 12ms/step - loss: 0.2899 - accuracy: 0.8785\n",
            "Epoch 12/200\n",
            "185/185 [==============================] - 2s 12ms/step - loss: 0.2826 - accuracy: 0.8802\n",
            "Epoch 13/200\n",
            "185/185 [==============================] - 2s 12ms/step - loss: 0.2662 - accuracy: 0.8891\n",
            "Epoch 14/200\n",
            "185/185 [==============================] - 2s 12ms/step - loss: 0.2530 - accuracy: 0.8957\n",
            "Epoch 15/200\n",
            "185/185 [==============================] - 2s 12ms/step - loss: 0.2441 - accuracy: 0.8954\n",
            "Epoch 16/200\n",
            "185/185 [==============================] - 2s 12ms/step - loss: 0.2347 - accuracy: 0.9026\n",
            "Epoch 17/200\n",
            "185/185 [==============================] - 2s 12ms/step - loss: 0.2183 - accuracy: 0.9118\n",
            "Epoch 18/200\n",
            "185/185 [==============================] - 2s 12ms/step - loss: 0.2076 - accuracy: 0.9163\n",
            "Epoch 19/200\n",
            "185/185 [==============================] - 2s 12ms/step - loss: 0.2065 - accuracy: 0.9163\n",
            "Epoch 20/200\n",
            "185/185 [==============================] - 2s 12ms/step - loss: 0.2050 - accuracy: 0.9175\n",
            "Epoch 21/200\n",
            "185/185 [==============================] - 2s 13ms/step - loss: 0.1857 - accuracy: 0.9287\n",
            "Epoch 22/200\n",
            "185/185 [==============================] - 2s 12ms/step - loss: 0.1776 - accuracy: 0.9290\n",
            "Epoch 23/200\n",
            "185/185 [==============================] - 2s 12ms/step - loss: 0.1878 - accuracy: 0.9249\n",
            "Epoch 24/200\n",
            "185/185 [==============================] - 2s 12ms/step - loss: 0.1690 - accuracy: 0.9304\n",
            "Epoch 25/200\n",
            "185/185 [==============================] - 2s 12ms/step - loss: 0.1666 - accuracy: 0.9331\n",
            "Epoch 26/200\n",
            "185/185 [==============================] - 2s 12ms/step - loss: 0.1558 - accuracy: 0.9386\n",
            "Epoch 27/200\n",
            "185/185 [==============================] - 2s 12ms/step - loss: 0.1525 - accuracy: 0.9395\n",
            "Epoch 28/200\n",
            "185/185 [==============================] - 2s 12ms/step - loss: 0.1476 - accuracy: 0.9412\n",
            "Epoch 29/200\n",
            "185/185 [==============================] - 2s 12ms/step - loss: 0.1616 - accuracy: 0.9351\n",
            "Epoch 30/200\n",
            "185/185 [==============================] - 2s 12ms/step - loss: 0.1403 - accuracy: 0.9430\n",
            "Epoch 31/200\n",
            "185/185 [==============================] - 2s 12ms/step - loss: 0.1452 - accuracy: 0.9430\n",
            "Epoch 32/200\n",
            "185/185 [==============================] - 2s 12ms/step - loss: 0.1411 - accuracy: 0.9454\n",
            "Epoch 33/200\n",
            "185/185 [==============================] - 2s 12ms/step - loss: 0.1169 - accuracy: 0.9550\n",
            "Epoch 34/200\n",
            "185/185 [==============================] - 2s 12ms/step - loss: 0.1262 - accuracy: 0.9525\n",
            "Epoch 35/200\n",
            "185/185 [==============================] - 2s 12ms/step - loss: 0.1178 - accuracy: 0.9523\n",
            "Epoch 36/200\n",
            "185/185 [==============================] - 2s 13ms/step - loss: 0.1158 - accuracy: 0.9562\n",
            "Epoch 37/200\n",
            "185/185 [==============================] - 2s 12ms/step - loss: 0.1241 - accuracy: 0.9540\n",
            "Epoch 38/200\n",
            "185/185 [==============================] - 2s 13ms/step - loss: 0.1231 - accuracy: 0.9484\n",
            "Epoch 39/200\n",
            "185/185 [==============================] - 2s 13ms/step - loss: 0.1078 - accuracy: 0.9598\n",
            "Epoch 40/200\n",
            "185/185 [==============================] - 2s 12ms/step - loss: 0.1159 - accuracy: 0.9542\n",
            "Epoch 41/200\n",
            "185/185 [==============================] - 2s 12ms/step - loss: 0.1059 - accuracy: 0.9596\n",
            "Epoch 42/200\n",
            "185/185 [==============================] - 2s 12ms/step - loss: 0.1165 - accuracy: 0.9571\n",
            "Epoch 43/200\n",
            "185/185 [==============================] - 2s 12ms/step - loss: 0.1044 - accuracy: 0.9596\n",
            "Epoch 44/200\n",
            "185/185 [==============================] - 2s 12ms/step - loss: 0.1039 - accuracy: 0.9613\n",
            "Epoch 45/200\n",
            "185/185 [==============================] - 2s 12ms/step - loss: 0.0967 - accuracy: 0.9598\n",
            "Epoch 46/200\n",
            "185/185 [==============================] - 2s 12ms/step - loss: 0.0976 - accuracy: 0.9606\n",
            "Epoch 47/200\n",
            "185/185 [==============================] - 2s 12ms/step - loss: 0.0948 - accuracy: 0.9630\n",
            "Epoch 48/200\n",
            "185/185 [==============================] - 2s 12ms/step - loss: 0.0810 - accuracy: 0.9716\n",
            "Epoch 49/200\n",
            "185/185 [==============================] - 2s 12ms/step - loss: 0.0979 - accuracy: 0.9633\n",
            "Epoch 50/200\n",
            "185/185 [==============================] - 2s 12ms/step - loss: 0.1035 - accuracy: 0.9620\n",
            "Epoch 51/200\n",
            "185/185 [==============================] - 2s 13ms/step - loss: 0.0951 - accuracy: 0.9620\n",
            "Epoch 52/200\n",
            "185/185 [==============================] - 4s 19ms/step - loss: 0.0848 - accuracy: 0.9684\n",
            "Epoch 53/200\n",
            "185/185 [==============================] - 2s 13ms/step - loss: 0.0952 - accuracy: 0.9626\n",
            "Epoch 54/200\n",
            "185/185 [==============================] - 2s 13ms/step - loss: 0.0845 - accuracy: 0.9692\n",
            "Epoch 55/200\n",
            "185/185 [==============================] - 2s 13ms/step - loss: 0.1029 - accuracy: 0.9582\n",
            "Epoch 56/200\n",
            "185/185 [==============================] - 2s 13ms/step - loss: 0.0778 - accuracy: 0.9699\n",
            "Epoch 57/200\n",
            "185/185 [==============================] - 2s 13ms/step - loss: 0.0739 - accuracy: 0.9723\n",
            "Epoch 58/200\n",
            "185/185 [==============================] - 2s 12ms/step - loss: 0.0748 - accuracy: 0.9726\n",
            "Epoch 59/200\n",
            "185/185 [==============================] - 2s 13ms/step - loss: 0.0790 - accuracy: 0.9694\n",
            "Epoch 60/200\n",
            "185/185 [==============================] - 2s 13ms/step - loss: 0.0791 - accuracy: 0.9709\n",
            "Epoch 61/200\n",
            "185/185 [==============================] - 2s 12ms/step - loss: 0.0933 - accuracy: 0.9648\n",
            "Epoch 62/200\n",
            "185/185 [==============================] - 2s 12ms/step - loss: 0.1025 - accuracy: 0.9611\n",
            "Epoch 63/200\n",
            "185/185 [==============================] - 2s 12ms/step - loss: 0.1155 - accuracy: 0.9545\n",
            "Epoch 64/200\n",
            "185/185 [==============================] - 2s 12ms/step - loss: 0.0568 - accuracy: 0.9784\n",
            "Epoch 65/200\n",
            "185/185 [==============================] - 2s 12ms/step - loss: 0.0553 - accuracy: 0.9804\n",
            "Epoch 66/200\n",
            "185/185 [==============================] - 2s 12ms/step - loss: 0.0863 - accuracy: 0.9697\n",
            "Epoch 67/200\n",
            "185/185 [==============================] - 2s 12ms/step - loss: 0.0644 - accuracy: 0.9780\n",
            "Epoch 68/200\n",
            "185/185 [==============================] - 2s 12ms/step - loss: 0.0549 - accuracy: 0.9785\n",
            "Epoch 69/200\n",
            "185/185 [==============================] - 2s 12ms/step - loss: 0.0637 - accuracy: 0.9731\n",
            "Epoch 70/200\n",
            "185/185 [==============================] - 2s 12ms/step - loss: 0.0533 - accuracy: 0.9789\n",
            "Epoch 71/200\n",
            "185/185 [==============================] - 2s 13ms/step - loss: 0.0588 - accuracy: 0.9775\n",
            "Epoch 72/200\n",
            "185/185 [==============================] - 2s 13ms/step - loss: 0.0609 - accuracy: 0.9762\n",
            "Epoch 73/200\n",
            "185/185 [==============================] - 2s 12ms/step - loss: 0.0820 - accuracy: 0.9704\n",
            "Epoch 74/200\n",
            "185/185 [==============================] - 2s 12ms/step - loss: 0.0700 - accuracy: 0.9726\n",
            "Epoch 75/200\n",
            "185/185 [==============================] - 2s 12ms/step - loss: 0.0638 - accuracy: 0.9762\n",
            "Epoch 76/200\n",
            "185/185 [==============================] - 2s 12ms/step - loss: 0.0523 - accuracy: 0.9812\n",
            "Epoch 77/200\n",
            "185/185 [==============================] - 2s 12ms/step - loss: 0.0442 - accuracy: 0.9821\n",
            "Epoch 78/200\n",
            "185/185 [==============================] - 2s 12ms/step - loss: 0.0588 - accuracy: 0.9795\n",
            "Epoch 79/200\n",
            "185/185 [==============================] - 2s 12ms/step - loss: 0.0598 - accuracy: 0.9807\n",
            "Epoch 80/200\n",
            "185/185 [==============================] - 2s 12ms/step - loss: 0.0467 - accuracy: 0.9828\n",
            "Epoch 81/200\n",
            "185/185 [==============================] - 2s 12ms/step - loss: 0.0490 - accuracy: 0.9814\n",
            "Epoch 82/200\n",
            "185/185 [==============================] - 2s 12ms/step - loss: 0.0583 - accuracy: 0.9765\n",
            "Epoch 83/200\n",
            "185/185 [==============================] - 2s 12ms/step - loss: 0.0650 - accuracy: 0.9746\n",
            "Epoch 84/200\n",
            "185/185 [==============================] - 2s 12ms/step - loss: 0.0823 - accuracy: 0.9704\n",
            "Epoch 85/200\n",
            "185/185 [==============================] - 2s 12ms/step - loss: 0.1003 - accuracy: 0.9706\n",
            "Epoch 86/200\n",
            "185/185 [==============================] - 2s 12ms/step - loss: 0.0446 - accuracy: 0.9834\n",
            "Epoch 87/200\n",
            "185/185 [==============================] - 2s 13ms/step - loss: 0.0280 - accuracy: 0.9890\n",
            "Epoch 88/200\n",
            "185/185 [==============================] - 2s 13ms/step - loss: 0.0368 - accuracy: 0.9866\n",
            "Epoch 89/200\n",
            "185/185 [==============================] - 2s 12ms/step - loss: 0.0504 - accuracy: 0.9817\n",
            "Epoch 90/200\n",
            "185/185 [==============================] - 2s 12ms/step - loss: 0.0398 - accuracy: 0.9870\n",
            "Epoch 91/200\n",
            "185/185 [==============================] - 2s 12ms/step - loss: 0.0709 - accuracy: 0.9736\n",
            "Epoch 92/200\n",
            "185/185 [==============================] - 2s 12ms/step - loss: 0.0573 - accuracy: 0.9794\n",
            "Epoch 93/200\n",
            "185/185 [==============================] - 2s 12ms/step - loss: 0.0451 - accuracy: 0.9828\n",
            "Epoch 94/200\n",
            "185/185 [==============================] - 2s 12ms/step - loss: 0.0312 - accuracy: 0.9882\n",
            "Epoch 95/200\n",
            "185/185 [==============================] - 2s 13ms/step - loss: 0.0528 - accuracy: 0.9819\n",
            "Epoch 96/200\n",
            "185/185 [==============================] - 2s 12ms/step - loss: 0.0504 - accuracy: 0.9809\n",
            "Epoch 97/200\n",
            "185/185 [==============================] - 2s 12ms/step - loss: 0.0331 - accuracy: 0.9865\n",
            "Epoch 98/200\n",
            "185/185 [==============================] - 2s 12ms/step - loss: 0.0401 - accuracy: 0.9863\n",
            "Epoch 99/200\n",
            "185/185 [==============================] - 2s 12ms/step - loss: 0.0350 - accuracy: 0.9860\n",
            "Epoch 100/200\n",
            "185/185 [==============================] - 2s 12ms/step - loss: 0.0280 - accuracy: 0.9888\n",
            "Epoch 101/200\n",
            "185/185 [==============================] - 2s 12ms/step - loss: 0.0751 - accuracy: 0.9726\n",
            "Epoch 102/200\n",
            "185/185 [==============================] - 2s 12ms/step - loss: 0.0642 - accuracy: 0.9762\n",
            "Epoch 103/200\n",
            "185/185 [==============================] - 2s 12ms/step - loss: 0.0340 - accuracy: 0.9868\n",
            "Epoch 104/200\n",
            "185/185 [==============================] - 2s 12ms/step - loss: 0.0594 - accuracy: 0.9797\n",
            "Epoch 105/200\n",
            "185/185 [==============================] - 2s 13ms/step - loss: 0.0423 - accuracy: 0.9833\n",
            "Epoch 106/200\n",
            "185/185 [==============================] - 2s 12ms/step - loss: 0.0335 - accuracy: 0.9880\n",
            "Epoch 107/200\n",
            "185/185 [==============================] - 2s 12ms/step - loss: 0.0351 - accuracy: 0.9860\n",
            "Epoch 108/200\n",
            "185/185 [==============================] - 2s 12ms/step - loss: 0.0345 - accuracy: 0.9866\n",
            "Epoch 109/200\n",
            "185/185 [==============================] - 2s 12ms/step - loss: 0.0311 - accuracy: 0.9888\n",
            "Epoch 110/200\n",
            "185/185 [==============================] - 2s 13ms/step - loss: 0.0339 - accuracy: 0.9878\n",
            "Epoch 111/200\n",
            "185/185 [==============================] - 2s 13ms/step - loss: 0.0403 - accuracy: 0.9850\n",
            "Epoch 112/200\n",
            "185/185 [==============================] - 2s 13ms/step - loss: 0.0514 - accuracy: 0.9829\n",
            "Epoch 113/200\n",
            "185/185 [==============================] - 2s 12ms/step - loss: 0.0515 - accuracy: 0.9809\n",
            "Epoch 114/200\n",
            "185/185 [==============================] - 2s 12ms/step - loss: 0.0335 - accuracy: 0.9877\n",
            "Epoch 115/200\n",
            "185/185 [==============================] - 2s 12ms/step - loss: 0.0228 - accuracy: 0.9919\n",
            "Epoch 116/200\n",
            "185/185 [==============================] - 2s 12ms/step - loss: 0.0338 - accuracy: 0.9882\n",
            "Epoch 117/200\n",
            "185/185 [==============================] - 2s 12ms/step - loss: 0.0376 - accuracy: 0.9890\n",
            "Epoch 118/200\n",
            "185/185 [==============================] - 2s 12ms/step - loss: 0.0213 - accuracy: 0.9926\n",
            "Epoch 119/200\n",
            "185/185 [==============================] - 2s 12ms/step - loss: 0.0555 - accuracy: 0.9829\n",
            "Epoch 120/200\n",
            "185/185 [==============================] - 2s 12ms/step - loss: 0.0474 - accuracy: 0.9814\n",
            "Epoch 121/200\n",
            "185/185 [==============================] - 2s 12ms/step - loss: 0.0385 - accuracy: 0.9865\n",
            "Epoch 122/200\n",
            "185/185 [==============================] - 2s 12ms/step - loss: 0.0333 - accuracy: 0.9892\n",
            "Epoch 123/200\n",
            "185/185 [==============================] - 2s 12ms/step - loss: 0.0412 - accuracy: 0.9868\n",
            "Epoch 124/200\n",
            "185/185 [==============================] - 2s 13ms/step - loss: 0.0377 - accuracy: 0.9858\n",
            "Epoch 125/200\n",
            "185/185 [==============================] - 2s 12ms/step - loss: 0.0388 - accuracy: 0.9868\n",
            "Epoch 126/200\n",
            "185/185 [==============================] - 2s 12ms/step - loss: 0.0230 - accuracy: 0.9904\n",
            "Epoch 127/200\n",
            "185/185 [==============================] - 2s 13ms/step - loss: 0.0263 - accuracy: 0.9894\n",
            "Epoch 128/200\n",
            "185/185 [==============================] - 2s 12ms/step - loss: 0.0495 - accuracy: 0.9824\n",
            "Epoch 129/200\n",
            "185/185 [==============================] - 2s 12ms/step - loss: 0.0401 - accuracy: 0.9846\n",
            "Epoch 130/200\n",
            "185/185 [==============================] - 2s 12ms/step - loss: 0.0353 - accuracy: 0.9858\n",
            "Epoch 131/200\n",
            "185/185 [==============================] - 2s 12ms/step - loss: 0.0354 - accuracy: 0.9899\n",
            "Epoch 132/200\n",
            "185/185 [==============================] - 2s 13ms/step - loss: 0.0212 - accuracy: 0.9915\n",
            "Epoch 133/200\n",
            "185/185 [==============================] - 2s 12ms/step - loss: 0.0132 - accuracy: 0.9944\n",
            "Epoch 134/200\n",
            "185/185 [==============================] - 2s 12ms/step - loss: 0.0176 - accuracy: 0.9932\n",
            "Epoch 135/200\n",
            "185/185 [==============================] - 2s 12ms/step - loss: 0.0169 - accuracy: 0.9941\n",
            "Epoch 136/200\n",
            "185/185 [==============================] - 2s 12ms/step - loss: 0.0534 - accuracy: 0.9782\n",
            "Epoch 137/200\n",
            "185/185 [==============================] - 2s 12ms/step - loss: 0.0346 - accuracy: 0.9882\n",
            "Epoch 138/200\n",
            "185/185 [==============================] - 2s 12ms/step - loss: 0.0242 - accuracy: 0.9897\n",
            "Epoch 139/200\n",
            "185/185 [==============================] - 2s 12ms/step - loss: 0.0560 - accuracy: 0.9807\n",
            "Epoch 140/200\n",
            "185/185 [==============================] - 2s 12ms/step - loss: 0.0241 - accuracy: 0.9914\n",
            "Epoch 141/200\n",
            "185/185 [==============================] - 2s 12ms/step - loss: 0.0190 - accuracy: 0.9929\n",
            "Epoch 142/200\n",
            "185/185 [==============================] - 2s 12ms/step - loss: 0.0298 - accuracy: 0.9880\n",
            "Epoch 143/200\n",
            "185/185 [==============================] - 2s 12ms/step - loss: 0.0200 - accuracy: 0.9929\n",
            "Epoch 144/200\n",
            "185/185 [==============================] - 2s 12ms/step - loss: 0.0129 - accuracy: 0.9965\n",
            "Epoch 145/200\n",
            "185/185 [==============================] - 2s 12ms/step - loss: 0.0150 - accuracy: 0.9956\n",
            "Epoch 146/200\n",
            "185/185 [==============================] - 2s 12ms/step - loss: 0.0294 - accuracy: 0.9897\n",
            "Epoch 147/200\n",
            "185/185 [==============================] - 2s 12ms/step - loss: 0.0828 - accuracy: 0.9731\n",
            "Epoch 148/200\n",
            "185/185 [==============================] - 2s 12ms/step - loss: 0.0558 - accuracy: 0.9809\n",
            "Epoch 149/200\n",
            "185/185 [==============================] - 2s 12ms/step - loss: 0.0174 - accuracy: 0.9948\n",
            "Epoch 150/200\n",
            "185/185 [==============================] - 2s 12ms/step - loss: 0.0109 - accuracy: 0.9963\n",
            "Epoch 151/200\n",
            "185/185 [==============================] - 2s 12ms/step - loss: 0.0106 - accuracy: 0.9968\n",
            "Epoch 152/200\n",
            "185/185 [==============================] - 2s 13ms/step - loss: 0.0438 - accuracy: 0.9873\n",
            "Epoch 153/200\n",
            "185/185 [==============================] - 2s 12ms/step - loss: 0.0258 - accuracy: 0.9900\n",
            "Epoch 154/200\n",
            "185/185 [==============================] - 2s 12ms/step - loss: 0.0335 - accuracy: 0.9883\n",
            "Epoch 155/200\n",
            "185/185 [==============================] - 2s 12ms/step - loss: 0.0536 - accuracy: 0.9860\n",
            "Epoch 156/200\n",
            "185/185 [==============================] - 2s 12ms/step - loss: 0.0186 - accuracy: 0.9936\n",
            "Epoch 157/200\n",
            "185/185 [==============================] - 2s 12ms/step - loss: 0.0153 - accuracy: 0.9941\n",
            "Epoch 158/200\n",
            "185/185 [==============================] - 2s 12ms/step - loss: 0.0174 - accuracy: 0.9944\n",
            "Epoch 159/200\n",
            "185/185 [==============================] - 2s 12ms/step - loss: 0.0258 - accuracy: 0.9910\n",
            "Epoch 160/200\n",
            "185/185 [==============================] - 2s 12ms/step - loss: 0.0419 - accuracy: 0.9855\n",
            "Epoch 161/200\n",
            "185/185 [==============================] - 2s 12ms/step - loss: 0.0227 - accuracy: 0.9909\n",
            "Epoch 162/200\n",
            "185/185 [==============================] - 2s 12ms/step - loss: 0.0087 - accuracy: 0.9971\n",
            "Epoch 163/200\n",
            "185/185 [==============================] - 2s 13ms/step - loss: 0.0097 - accuracy: 0.9959\n",
            "Epoch 164/200\n",
            "185/185 [==============================] - 2s 13ms/step - loss: 0.0240 - accuracy: 0.9907\n",
            "Epoch 165/200\n",
            "185/185 [==============================] - 2s 12ms/step - loss: 0.0202 - accuracy: 0.9922\n",
            "Epoch 166/200\n",
            "185/185 [==============================] - 2s 13ms/step - loss: 0.0315 - accuracy: 0.9902\n",
            "Epoch 167/200\n",
            "185/185 [==============================] - 2s 12ms/step - loss: 0.0605 - accuracy: 0.9817\n",
            "Epoch 168/200\n",
            "185/185 [==============================] - 2s 13ms/step - loss: 0.0287 - accuracy: 0.9902\n",
            "Epoch 169/200\n",
            "185/185 [==============================] - 2s 12ms/step - loss: 0.0272 - accuracy: 0.9914\n",
            "Epoch 170/200\n",
            "185/185 [==============================] - 2s 12ms/step - loss: 0.0133 - accuracy: 0.9951\n",
            "Epoch 171/200\n",
            "185/185 [==============================] - 2s 12ms/step - loss: 0.0060 - accuracy: 0.9981\n",
            "Epoch 172/200\n",
            "185/185 [==============================] - 2s 12ms/step - loss: 0.0198 - accuracy: 0.9943\n",
            "Epoch 173/200\n",
            "185/185 [==============================] - 2s 12ms/step - loss: 0.0176 - accuracy: 0.9941\n",
            "Epoch 174/200\n",
            "185/185 [==============================] - 2s 12ms/step - loss: 0.0133 - accuracy: 0.9958\n",
            "Epoch 175/200\n",
            "185/185 [==============================] - 2s 12ms/step - loss: 0.0212 - accuracy: 0.9929\n",
            "Epoch 176/200\n",
            "185/185 [==============================] - 2s 12ms/step - loss: 0.0721 - accuracy: 0.9799\n",
            "Epoch 177/200\n",
            "185/185 [==============================] - 2s 12ms/step - loss: 0.0627 - accuracy: 0.9809\n",
            "Epoch 178/200\n",
            "185/185 [==============================] - 2s 12ms/step - loss: 0.0194 - accuracy: 0.9931\n",
            "Epoch 179/200\n",
            "185/185 [==============================] - 2s 12ms/step - loss: 0.0066 - accuracy: 0.9983\n",
            "Epoch 180/200\n",
            "185/185 [==============================] - 2s 12ms/step - loss: 0.0049 - accuracy: 0.9986\n",
            "Epoch 181/200\n",
            "185/185 [==============================] - 2s 12ms/step - loss: 0.0063 - accuracy: 0.9980\n",
            "Epoch 182/200\n",
            "185/185 [==============================] - 2s 12ms/step - loss: 0.0093 - accuracy: 0.9961\n",
            "Epoch 183/200\n",
            "185/185 [==============================] - 2s 12ms/step - loss: 0.0349 - accuracy: 0.9892\n",
            "Epoch 184/200\n",
            "185/185 [==============================] - 2s 12ms/step - loss: 0.0306 - accuracy: 0.9902\n",
            "Epoch 185/200\n",
            "185/185 [==============================] - 2s 12ms/step - loss: 0.0535 - accuracy: 0.9829\n",
            "Epoch 186/200\n",
            "185/185 [==============================] - 2s 13ms/step - loss: 0.0196 - accuracy: 0.9941\n",
            "Epoch 187/200\n",
            "185/185 [==============================] - 2s 12ms/step - loss: 0.0140 - accuracy: 0.9948\n",
            "Epoch 188/200\n",
            "185/185 [==============================] - 2s 12ms/step - loss: 0.0169 - accuracy: 0.9948\n",
            "Epoch 189/200\n",
            "185/185 [==============================] - 2s 12ms/step - loss: 0.0120 - accuracy: 0.9949\n",
            "Epoch 190/200\n",
            "185/185 [==============================] - 2s 12ms/step - loss: 0.0122 - accuracy: 0.9953\n",
            "Epoch 191/200\n",
            "185/185 [==============================] - 2s 12ms/step - loss: 0.0164 - accuracy: 0.9951\n",
            "Epoch 192/200\n",
            "185/185 [==============================] - 2s 12ms/step - loss: 0.0093 - accuracy: 0.9961\n",
            "Epoch 193/200\n",
            "185/185 [==============================] - 2s 12ms/step - loss: 0.0507 - accuracy: 0.9829\n",
            "Epoch 194/200\n",
            "185/185 [==============================] - 2s 12ms/step - loss: 0.0581 - accuracy: 0.9806\n",
            "Epoch 195/200\n",
            "185/185 [==============================] - 2s 13ms/step - loss: 0.0169 - accuracy: 0.9937\n",
            "Epoch 196/200\n",
            "185/185 [==============================] - 2s 13ms/step - loss: 0.0055 - accuracy: 0.9981\n",
            "Epoch 197/200\n",
            "185/185 [==============================] - 2s 12ms/step - loss: 0.0033 - accuracy: 0.9988\n",
            "Epoch 198/200\n",
            "185/185 [==============================] - 2s 13ms/step - loss: 0.0046 - accuracy: 0.9990\n",
            "Epoch 199/200\n",
            "185/185 [==============================] - 2s 13ms/step - loss: 0.0035 - accuracy: 0.9992\n",
            "Epoch 200/200\n",
            "185/185 [==============================] - 2s 13ms/step - loss: 0.0019 - accuracy: 0.9993\n"
          ]
        }
      ]
    },
    {
      "cell_type": "code",
      "metadata": {
        "colab": {
          "base_uri": "https://localhost:8080/",
          "height": 516
        },
        "id": "5UfvjB8ZjFpM",
        "outputId": "895ea72f-ab09-46ee-a128-eee2ccee011f"
      },
      "source": [
        "acc = history.history['accuracy']\n",
        "loss = history.history['loss']\n",
        "plt.figure(figsize=(15,8))\n",
        "plt.subplot(1,2,1)\n",
        "plt.plot(range(200),acc,label='Training Accuracy')\n",
        "plt.legend(loc='lower right')\n",
        "plt.title(\"Training Accuracy\")\n",
        "\n",
        "plt.subplot(1,2,2)\n",
        "plt.plot(range(200),loss,label='Training Loss')\n",
        "plt.legend(loc='upper right')\n",
        "plt.title(\"Training Loss\")"
      ],
      "id": "5UfvjB8ZjFpM",
      "execution_count": null,
      "outputs": [
        {
          "output_type": "execute_result",
          "data": {
            "text/plain": [
              "Text(0.5, 1.0, 'Training Loss')"
            ]
          },
          "metadata": {},
          "execution_count": 55
        },
        {
          "output_type": "display_data",
          "data": {
            "image/png": "[encoded data removed]",
            "text/plain": [
              "<Figure size 1080x576 with 2 Axes>"
            ]
          },
          "metadata": {
            "needs_background": "light"
          }
        }
      ]
    },
    {
      "cell_type": "code",
      "metadata": {
        "colab": {
          "base_uri": "https://localhost:8080/"
        },
        "id": "i_SIlYShMdXB",
        "outputId": "ac8475f7-c00f-45e3-f224-4c72a6cb14ac"
      },
      "source": [
        "model.evaluate(x_test,y_test)"
      ],
      "id": "i_SIlYShMdXB",
      "execution_count": null,
      "outputs": [
        {
          "output_type": "stream",
          "name": "stdout",
          "text": [
            "47/47 [==============================] - 0s 4ms/step - loss: 0.9157 - accuracy: 0.8986\n"
          ]
        },
        {
          "output_type": "execute_result",
          "data": {
            "text/plain": [
              "[0.9157222509384155, 0.8986486196517944]"
            ]
          },
          "metadata": {},
          "execution_count": 56
        }
      ]
    },
    {
      "cell_type": "code",
      "metadata": {
        "colab": {
          "base_uri": "https://localhost:8080/"
        },
        "id": "LerLnLSNQvtu",
        "outputId": "df2e75fc-d54a-4103-b5eb-9d36e785dad4"
      },
      "source": [
        "y_pred = model.predict(x_test)\n",
        "y_pred = np.round(y_pred)\n",
        "y_pred"
      ],
      "id": "LerLnLSNQvtu",
      "execution_count": null,
      "outputs": [
        {
          "output_type": "execute_result",
          "data": {
            "text/plain": [
              "array([[1.],\n",
              "       [0.],\n",
              "       [1.],\n",
              "       ...,\n",
              "       [1.],\n",
              "       [1.],\n",
              "       [1.]], dtype=float32)"
            ]
          },
          "metadata": {},
          "execution_count": 57
        }
      ]
    },
    {
      "cell_type": "code",
      "metadata": {
        "colab": {
          "base_uri": "https://localhost:8080/"
        },
        "id": "1kS7XV0aQ7y9",
        "outputId": "0e1311c7-1e7f-4549-8ed1-acf2ef3e88ef"
      },
      "source": [
        "y_pred = y_pred[:,0]\n",
        "y_pred"
      ],
      "id": "1kS7XV0aQ7y9",
      "execution_count": null,
      "outputs": [
        {
          "output_type": "execute_result",
          "data": {
            "text/plain": [
              "array([1., 0., 1., ..., 1., 1., 1.], dtype=float32)"
            ]
          },
          "metadata": {},
          "execution_count": 58
        }
      ]
    },
    {
      "cell_type": "code",
      "metadata": {
        "colab": {
          "base_uri": "https://localhost:8080/"
        },
        "id": "R-aO6Yf-RAxs",
        "outputId": "4ba39d75-1499-4def-cf41-054319cd29cc"
      },
      "source": [
        "y_test[:10]"
      ],
      "id": "R-aO6Yf-RAxs",
      "execution_count": null,
      "outputs": [
        {
          "output_type": "execute_result",
          "data": {
            "text/plain": [
              "array([1, 0, 1, 0, 0, 0, 0, 0, 1, 1])"
            ]
          },
          "metadata": {},
          "execution_count": 59
        }
      ]
    },
    {
      "cell_type": "code",
      "metadata": {
        "colab": {
          "base_uri": "https://localhost:8080/"
        },
        "id": "iU165IftRCnt",
        "outputId": "ac596f7d-853d-4f5e-e509-9390b8e368f9"
      },
      "source": [
        "y_pred[:10]"
      ],
      "id": "iU165IftRCnt",
      "execution_count": null,
      "outputs": [
        {
          "output_type": "execute_result",
          "data": {
            "text/plain": [
              "array([1., 0., 1., 1., 0., 0., 0., 0., 1., 1.], dtype=float32)"
            ]
          },
          "metadata": {},
          "execution_count": 60
        }
      ]
    },
    {
      "cell_type": "code",
      "metadata": {
        "colab": {
          "base_uri": "https://localhost:8080/",
          "height": 142
        },
        "id": "IvUVXbSxRD6v",
        "outputId": "f55a137c-97e5-4df6-a2da-d2af3f1023ab"
      },
      "source": [
        "# accuracy: (tp + tn) / (p + n)\n",
        "accuracy = accuracy_score(y_test, y_pred)\n",
        "# precision tp / (tp + fp)\n",
        "precision = precision_score(y_test, y_pred)\n",
        "# recall: tp / (tp + fn)\n",
        "recall = recall_score(y_test, y_pred)\n",
        "# f1: 2 tp / (2 tp + fp + fn)\n",
        "f1 = f1_score(y_test, y_pred)\n",
        "auc = roc_auc_score(y_test, y_pred)\n",
        "\n",
        "results_deep_learning.append({\n",
        "    'model': \"CNN\",\n",
        "    'Accuracy_Score':accuracy,\n",
        "    'Precision': precision,\n",
        "    'Recall': recall,\n",
        "    'F1-Score': f1,\n",
        "    'AUC': auc\n",
        "})\n",
        "\n",
        "df = pd.DataFrame(results_deep_learning,columns = ['model','Accuracy_Score','Precision','Recall','F1-Score','AUC'])\n",
        "df"
      ],
      "id": "IvUVXbSxRD6v",
      "execution_count": null,
      "outputs": [
        {
          "output_type": "execute_result",
          "data": {
            "text/html": [
              "<div>\n",
              "<style scoped>\n",
              "    .dataframe tbody tr th:only-of-type {\n",
              "        vertical-align: middle;\n",
              "    }\n",
              "\n",
              "    .dataframe tbody tr th {\n",
              "        vertical-align: top;\n",
              "    }\n",
              "\n",
              "    .dataframe thead th {\n",
              "        text-align: right;\n",
              "    }\n",
              "</style>\n",
              "<table border=\"1\" class=\"dataframe\">\n",
              "  <thead>\n",
              "    <tr style=\"text-align: right;\">\n",
              "      <th></th>\n",
              "      <th>model</th>\n",
              "      <th>Accuracy_Score</th>\n",
              "      <th>Precision</th>\n",
              "      <th>Recall</th>\n",
              "      <th>F1-Score</th>\n",
              "      <th>AUC</th>\n",
              "    </tr>\n",
              "  </thead>\n",
              "  <tbody>\n",
              "    <tr>\n",
              "      <th>0</th>\n",
              "      <td>ANN</td>\n",
              "      <td>0.900676</td>\n",
              "      <td>0.870162</td>\n",
              "      <td>0.941892</td>\n",
              "      <td>0.904607</td>\n",
              "      <td>0.900676</td>\n",
              "    </tr>\n",
              "    <tr>\n",
              "      <th>1</th>\n",
              "      <td>MLP</td>\n",
              "      <td>0.905405</td>\n",
              "      <td>0.910959</td>\n",
              "      <td>0.898649</td>\n",
              "      <td>0.904762</td>\n",
              "      <td>0.905405</td>\n",
              "    </tr>\n",
              "    <tr>\n",
              "      <th>2</th>\n",
              "      <td>CNN</td>\n",
              "      <td>0.898649</td>\n",
              "      <td>0.903005</td>\n",
              "      <td>0.893243</td>\n",
              "      <td>0.898098</td>\n",
              "      <td>0.898649</td>\n",
              "    </tr>\n",
              "  </tbody>\n",
              "</table>\n",
              "</div>"
            ],
            "text/plain": [
              "  model  Accuracy_Score  Precision    Recall  F1-Score       AUC\n",
              "0   ANN        0.900676   0.870162  0.941892  0.904607  0.900676\n",
              "1   MLP        0.905405   0.910959  0.898649  0.904762  0.905405\n",
              "2   CNN        0.898649   0.903005  0.893243  0.898098  0.898649"
            ]
          },
          "metadata": {},
          "execution_count": 61
        }
      ]
    },
    {
      "cell_type": "code",
      "metadata": {
        "colab": {
          "base_uri": "https://localhost:8080/",
          "height": 459
        },
        "id": "xgHIoRV1QJZC",
        "outputId": "865e16d4-0258-4854-e6cd-bef97001010c"
      },
      "source": [
        "con_matrix = tf.math.confusion_matrix(labels=y_test,predictions=y_pred)\n",
        "plt.figure(figsize=(10,7))\n",
        "sns.heatmap(con_matrix,annot=True,fmt='d')\n",
        "plt.xlabel('Predicted Output')\n",
        "plt.ylabel('True Output')"
      ],
      "id": "xgHIoRV1QJZC",
      "execution_count": null,
      "outputs": [
        {
          "output_type": "execute_result",
          "data": {
            "text/plain": [
              "Text(69.0, 0.5, 'True Output')"
            ]
          },
          "metadata": {},
          "execution_count": 62
        },
        {
          "output_type": "display_data",
          "data": {
            "image/png": "[encoded data removed]",
            "text/plain": [
              "<Figure size 720x504 with 2 Axes>"
            ]
          },
          "metadata": {
            "needs_background": "light"
          }
        }
      ]
    },
    {
      "cell_type": "markdown",
      "metadata": {
        "id": "slJno9HXRuhG"
      },
      "source": [
        "### **RNN**"
      ],
      "id": "slJno9HXRuhG"
    },
    {
      "cell_type": "code",
      "metadata": {
        "colab": {
          "base_uri": "https://localhost:8080/"
        },
        "id": "E7gMKl62RM6U",
        "outputId": "86221c6e-00b3-4923-bcf4-e5c1bb297620"
      },
      "source": [
        "model = keras.Sequential([\n",
        "        keras.layers.SimpleRNN(500,input_shape=(34,1),activation='relu'),\n",
        "        keras.layers.Dense(500,activation='relu'),\n",
        "        keras.layers.Dense(1,activation='sigmoid'),                            \n",
        "])\n",
        "\n",
        "model.compile(loss='binary_crossentropy', optimizer='adam', metrics=['accuracy'])\n",
        "model.fit(x_train, y_train, epochs=200)"
      ],
      "id": "E7gMKl62RM6U",
      "execution_count": null,
      "outputs": [
        {
          "output_type": "stream",
          "name": "stdout",
          "text": [
            "Epoch 1/200\n",
            "185/185 [==============================] - 20s 98ms/step - loss: 0.6163 - accuracy: 0.6413\n",
            "Epoch 2/200\n",
            "185/185 [==============================] - 14s 77ms/step - loss: 0.5910 - accuracy: 0.6545\n",
            "Epoch 3/200\n",
            "185/185 [==============================] - 14s 78ms/step - loss: 0.5770 - accuracy: 0.6677\n",
            "Epoch 4/200\n",
            "185/185 [==============================] - 14s 78ms/step - loss: 0.5586 - accuracy: 0.6951\n",
            "Epoch 5/200\n",
            "185/185 [==============================] - 14s 78ms/step - loss: 0.5590 - accuracy: 0.6913\n",
            "Epoch 6/200\n",
            "185/185 [==============================] - 14s 77ms/step - loss: 0.5416 - accuracy: 0.7153\n",
            "Epoch 7/200\n",
            "185/185 [==============================] - 14s 75ms/step - loss: 0.5429 - accuracy: 0.7052\n",
            "Epoch 8/200\n",
            "185/185 [==============================] - 15s 80ms/step - loss: 0.5335 - accuracy: 0.7201\n",
            "Epoch 9/200\n",
            "185/185 [==============================] - 14s 75ms/step - loss: 0.5237 - accuracy: 0.7245\n",
            "Epoch 10/200\n",
            "185/185 [==============================] - 14s 77ms/step - loss: 0.5200 - accuracy: 0.7323\n",
            "Epoch 11/200\n",
            "185/185 [==============================] - 14s 77ms/step - loss: 0.5062 - accuracy: 0.7429\n",
            "Epoch 12/200\n",
            "185/185 [==============================] - 14s 76ms/step - loss: 0.5106 - accuracy: 0.7397\n",
            "Epoch 13/200\n",
            "185/185 [==============================] - 14s 75ms/step - loss: 0.4899 - accuracy: 0.7527\n",
            "Epoch 14/200\n",
            "185/185 [==============================] - 14s 76ms/step - loss: 0.4816 - accuracy: 0.7568\n",
            "Epoch 15/200\n",
            "185/185 [==============================] - 14s 75ms/step - loss: 0.4803 - accuracy: 0.7656\n",
            "Epoch 16/200\n",
            "185/185 [==============================] - 15s 79ms/step - loss: 0.4762 - accuracy: 0.7628\n",
            "Epoch 17/200\n",
            "185/185 [==============================] - 14s 75ms/step - loss: 0.4556 - accuracy: 0.7781\n",
            "Epoch 18/200\n",
            "185/185 [==============================] - 14s 77ms/step - loss: 0.4516 - accuracy: 0.7796\n",
            "Epoch 19/200\n",
            "185/185 [==============================] - 14s 78ms/step - loss: 0.4371 - accuracy: 0.7882\n",
            "Epoch 20/200\n",
            "185/185 [==============================] - 14s 76ms/step - loss: 0.4218 - accuracy: 0.7989\n",
            "Epoch 21/200\n",
            "185/185 [==============================] - 14s 76ms/step - loss: 0.4119 - accuracy: 0.8009\n",
            "Epoch 22/200\n",
            "185/185 [==============================] - 14s 76ms/step - loss: 0.4247 - accuracy: 0.7972\n",
            "Epoch 23/200\n",
            "185/185 [==============================] - 14s 77ms/step - loss: 0.4009 - accuracy: 0.8115\n",
            "Epoch 24/200\n",
            "185/185 [==============================] - 14s 75ms/step - loss: 0.3926 - accuracy: 0.8141\n",
            "Epoch 25/200\n",
            "185/185 [==============================] - 14s 75ms/step - loss: 0.3900 - accuracy: 0.8190\n",
            "Epoch 26/200\n",
            "185/185 [==============================] - 14s 78ms/step - loss: 0.3874 - accuracy: 0.8181\n",
            "Epoch 27/200\n",
            "185/185 [==============================] - 14s 78ms/step - loss: 0.3971 - accuracy: 0.8115\n",
            "Epoch 28/200\n",
            "185/185 [==============================] - 14s 77ms/step - loss: 0.3669 - accuracy: 0.8318\n",
            "Epoch 29/200\n",
            "185/185 [==============================] - 14s 77ms/step - loss: 0.3997 - accuracy: 0.8137\n",
            "Epoch 30/200\n",
            "185/185 [==============================] - 14s 78ms/step - loss: 0.3961 - accuracy: 0.8213\n",
            "Epoch 31/200\n",
            "185/185 [==============================] - 14s 78ms/step - loss: 0.3624 - accuracy: 0.8377\n",
            "Epoch 32/200\n",
            "185/185 [==============================] - 14s 78ms/step - loss: 0.3392 - accuracy: 0.8475\n",
            "Epoch 33/200\n",
            "185/185 [==============================] - 15s 78ms/step - loss: 0.3421 - accuracy: 0.8485\n",
            "Epoch 34/200\n",
            "185/185 [==============================] - 15s 78ms/step - loss: 0.3073 - accuracy: 0.8665\n",
            "Epoch 35/200\n",
            "185/185 [==============================] - 14s 78ms/step - loss: 0.3335 - accuracy: 0.8573\n",
            "Epoch 36/200\n",
            "185/185 [==============================] - 14s 78ms/step - loss: 0.3397 - accuracy: 0.8538\n",
            "Epoch 37/200\n",
            "185/185 [==============================] - 15s 79ms/step - loss: 0.3211 - accuracy: 0.8619\n",
            "Epoch 38/200\n",
            "185/185 [==============================] - 14s 76ms/step - loss: 0.3180 - accuracy: 0.8592\n",
            "Epoch 39/200\n",
            "185/185 [==============================] - 14s 78ms/step - loss: 0.3167 - accuracy: 0.8643\n",
            "Epoch 40/200\n",
            "185/185 [==============================] - 14s 78ms/step - loss: 0.3131 - accuracy: 0.8658\n",
            "Epoch 41/200\n",
            "185/185 [==============================] - 14s 76ms/step - loss: 0.3117 - accuracy: 0.8631\n",
            "Epoch 42/200\n",
            "185/185 [==============================] - 14s 76ms/step - loss: 0.2900 - accuracy: 0.8773\n",
            "Epoch 43/200\n",
            "185/185 [==============================] - 14s 77ms/step - loss: 0.2940 - accuracy: 0.8707\n",
            "Epoch 44/200\n",
            "185/185 [==============================] - 14s 78ms/step - loss: 0.3150 - accuracy: 0.8609\n",
            "Epoch 45/200\n",
            "185/185 [==============================] - 15s 79ms/step - loss: 0.2963 - accuracy: 0.8741\n",
            "Epoch 46/200\n",
            "185/185 [==============================] - 14s 78ms/step - loss: 0.3349 - accuracy: 0.8531\n",
            "Epoch 47/200\n",
            "185/185 [==============================] - 14s 78ms/step - loss: 0.3403 - accuracy: 0.8504\n",
            "Epoch 48/200\n",
            "185/185 [==============================] - 14s 78ms/step - loss: 0.3116 - accuracy: 0.8666\n",
            "Epoch 49/200\n",
            "185/185 [==============================] - 14s 76ms/step - loss: 0.2840 - accuracy: 0.8812\n",
            "Epoch 50/200\n",
            "185/185 [==============================] - 14s 78ms/step - loss: 0.2973 - accuracy: 0.8732\n",
            "Epoch 51/200\n",
            "185/185 [==============================] - 14s 77ms/step - loss: 0.3397 - accuracy: 0.8470\n",
            "Epoch 52/200\n",
            "185/185 [==============================] - 15s 78ms/step - loss: 0.2911 - accuracy: 0.8795\n",
            "Epoch 53/200\n",
            "185/185 [==============================] - 14s 77ms/step - loss: 0.2717 - accuracy: 0.8876\n",
            "Epoch 54/200\n",
            "185/185 [==============================] - 14s 78ms/step - loss: 0.3133 - accuracy: 0.8660\n",
            "Epoch 55/200\n",
            "185/185 [==============================] - 15s 79ms/step - loss: 0.2801 - accuracy: 0.8796\n",
            "Epoch 56/200\n",
            "185/185 [==============================] - 15s 79ms/step - loss: 0.2788 - accuracy: 0.8798\n",
            "Epoch 57/200\n",
            "185/185 [==============================] - 14s 77ms/step - loss: 0.2514 - accuracy: 0.8955\n",
            "Epoch 58/200\n",
            "185/185 [==============================] - 14s 78ms/step - loss: 0.2893 - accuracy: 0.8805\n",
            "Epoch 59/200\n",
            "185/185 [==============================] - 14s 77ms/step - loss: 0.2606 - accuracy: 0.8947\n",
            "Epoch 60/200\n",
            "185/185 [==============================] - 14s 78ms/step - loss: 0.2474 - accuracy: 0.9023\n",
            "Epoch 61/200\n",
            "185/185 [==============================] - 14s 77ms/step - loss: 0.2555 - accuracy: 0.8976\n",
            "Epoch 62/200\n",
            "185/185 [==============================] - 14s 77ms/step - loss: 0.2545 - accuracy: 0.8972\n",
            "Epoch 63/200\n",
            "185/185 [==============================] - 14s 76ms/step - loss: 0.2583 - accuracy: 0.8928\n",
            "Epoch 64/200\n",
            "185/185 [==============================] - 14s 78ms/step - loss: 0.2863 - accuracy: 0.8756\n",
            "Epoch 65/200\n",
            "185/185 [==============================] - 15s 78ms/step - loss: 0.2479 - accuracy: 0.8982\n",
            "Epoch 66/200\n",
            "185/185 [==============================] - 14s 78ms/step - loss: 0.2328 - accuracy: 0.9065\n",
            "Epoch 67/200\n",
            "185/185 [==============================] - 14s 78ms/step - loss: 0.2266 - accuracy: 0.9089\n",
            "Epoch 68/200\n",
            "185/185 [==============================] - 14s 78ms/step - loss: 0.2933 - accuracy: 0.8869\n",
            "Epoch 69/200\n",
            "185/185 [==============================] - 14s 78ms/step - loss: 0.2289 - accuracy: 0.9070\n",
            "Epoch 70/200\n",
            "185/185 [==============================] - 15s 78ms/step - loss: 0.2351 - accuracy: 0.9040\n",
            "Epoch 71/200\n",
            "185/185 [==============================] - 14s 78ms/step - loss: 0.2325 - accuracy: 0.9074\n",
            "Epoch 72/200\n",
            "185/185 [==============================] - 15s 79ms/step - loss: 0.2081 - accuracy: 0.9194\n",
            "Epoch 73/200\n",
            "185/185 [==============================] - 15s 79ms/step - loss: 0.2408 - accuracy: 0.9045\n",
            "Epoch 74/200\n",
            "185/185 [==============================] - 15s 78ms/step - loss: 0.2272 - accuracy: 0.9077\n",
            "Epoch 75/200\n",
            "185/185 [==============================] - 14s 78ms/step - loss: 0.2184 - accuracy: 0.9143\n",
            "Epoch 76/200\n",
            "185/185 [==============================] - 14s 78ms/step - loss: 0.2160 - accuracy: 0.9182\n",
            "Epoch 77/200\n",
            "185/185 [==============================] - 14s 78ms/step - loss: 0.2265 - accuracy: 0.9070\n",
            "Epoch 78/200\n",
            "185/185 [==============================] - 14s 77ms/step - loss: 0.2375 - accuracy: 0.9031\n",
            "Epoch 79/200\n",
            "185/185 [==============================] - 14s 78ms/step - loss: 0.2699 - accuracy: 0.8874\n",
            "Epoch 80/200\n",
            "185/185 [==============================] - 14s 78ms/step - loss: 0.2543 - accuracy: 0.8930\n",
            "Epoch 81/200\n",
            "185/185 [==============================] - 14s 78ms/step - loss: 0.2217 - accuracy: 0.9097\n",
            "Epoch 82/200\n",
            "185/185 [==============================] - 14s 78ms/step - loss: 0.2150 - accuracy: 0.9163\n",
            "Epoch 83/200\n",
            "185/185 [==============================] - 14s 78ms/step - loss: 0.2245 - accuracy: 0.9102\n",
            "Epoch 84/200\n",
            "185/185 [==============================] - 14s 76ms/step - loss: 0.1957 - accuracy: 0.9251\n",
            "Epoch 85/200\n",
            "185/185 [==============================] - 14s 76ms/step - loss: 0.2954 - accuracy: 0.8810\n",
            "Epoch 86/200\n",
            "185/185 [==============================] - 14s 76ms/step - loss: 0.3176 - accuracy: 0.8609\n",
            "Epoch 87/200\n",
            "185/185 [==============================] - 14s 77ms/step - loss: 0.2926 - accuracy: 0.8746\n",
            "Epoch 88/200\n",
            "185/185 [==============================] - 14s 77ms/step - loss: 0.2667 - accuracy: 0.8903\n",
            "Epoch 89/200\n",
            "185/185 [==============================] - 14s 77ms/step - loss: 0.2058 - accuracy: 0.9209\n",
            "Epoch 90/200\n",
            "185/185 [==============================] - 14s 78ms/step - loss: 0.2244 - accuracy: 0.9129\n",
            "Epoch 91/200\n",
            "185/185 [==============================] - 14s 78ms/step - loss: 0.2186 - accuracy: 0.9116\n",
            "Epoch 92/200\n",
            "185/185 [==============================] - 14s 77ms/step - loss: 0.2007 - accuracy: 0.9246\n",
            "Epoch 93/200\n",
            "185/185 [==============================] - 14s 78ms/step - loss: 0.2537 - accuracy: 0.8987\n",
            "Epoch 94/200\n",
            "185/185 [==============================] - 14s 77ms/step - loss: 0.2135 - accuracy: 0.9162\n",
            "Epoch 95/200\n",
            "185/185 [==============================] - 14s 78ms/step - loss: 0.1991 - accuracy: 0.9214\n",
            "Epoch 96/200\n",
            "185/185 [==============================] - 15s 79ms/step - loss: 0.2974 - accuracy: 0.8729\n",
            "Epoch 97/200\n",
            "185/185 [==============================] - 14s 78ms/step - loss: 0.2185 - accuracy: 0.9140\n",
            "Epoch 98/200\n",
            "185/185 [==============================] - 15s 79ms/step - loss: 0.2045 - accuracy: 0.9207\n",
            "Epoch 99/200\n",
            "185/185 [==============================] - 14s 78ms/step - loss: 0.1740 - accuracy: 0.9331\n",
            "Epoch 100/200\n",
            "185/185 [==============================] - 15s 78ms/step - loss: 0.1707 - accuracy: 0.9342\n",
            "Epoch 101/200\n",
            "185/185 [==============================] - 14s 78ms/step - loss: 0.1908 - accuracy: 0.9287\n",
            "Epoch 102/200\n",
            "185/185 [==============================] - 14s 78ms/step - loss: 0.2333 - accuracy: 0.9067\n",
            "Epoch 103/200\n",
            "185/185 [==============================] - 15s 79ms/step - loss: 0.1898 - accuracy: 0.9229\n",
            "Epoch 104/200\n",
            "185/185 [==============================] - 14s 78ms/step - loss: 0.1850 - accuracy: 0.9326\n",
            "Epoch 105/200\n",
            "185/185 [==============================] - 14s 77ms/step - loss: 0.1649 - accuracy: 0.9366\n",
            "Epoch 106/200\n",
            "185/185 [==============================] - 14s 76ms/step - loss: 0.1762 - accuracy: 0.9322\n",
            "Epoch 107/200\n",
            "185/185 [==============================] - 14s 75ms/step - loss: 0.2922 - accuracy: 0.8813\n",
            "Epoch 108/200\n",
            "185/185 [==============================] - 14s 75ms/step - loss: 0.2241 - accuracy: 0.9109\n",
            "Epoch 109/200\n",
            "185/185 [==============================] - 14s 75ms/step - loss: 0.2128 - accuracy: 0.9170\n",
            "Epoch 110/200\n",
            "185/185 [==============================] - 14s 75ms/step - loss: 0.1840 - accuracy: 0.9261\n",
            "Epoch 111/200\n",
            "185/185 [==============================] - 15s 79ms/step - loss: 0.1649 - accuracy: 0.9356\n",
            "Epoch 112/200\n",
            "185/185 [==============================] - 14s 77ms/step - loss: 0.1940 - accuracy: 0.9234\n",
            "Epoch 113/200\n",
            "185/185 [==============================] - 14s 76ms/step - loss: 0.2448 - accuracy: 0.8999\n",
            "Epoch 114/200\n",
            "185/185 [==============================] - 14s 76ms/step - loss: 0.1926 - accuracy: 0.9233\n",
            "Epoch 115/200\n",
            "185/185 [==============================] - 14s 78ms/step - loss: 0.1863 - accuracy: 0.9305\n",
            "Epoch 116/200\n",
            "185/185 [==============================] - 14s 76ms/step - loss: 0.1997 - accuracy: 0.9189\n",
            "Epoch 117/200\n",
            "185/185 [==============================] - 15s 79ms/step - loss: 0.2026 - accuracy: 0.9200\n",
            "Epoch 118/200\n",
            "185/185 [==============================] - 15s 79ms/step - loss: 0.2176 - accuracy: 0.9104\n",
            "Epoch 119/200\n",
            "185/185 [==============================] - 14s 78ms/step - loss: 0.1926 - accuracy: 0.9251\n",
            "Epoch 120/200\n",
            "185/185 [==============================] - 15s 79ms/step - loss: 0.1878 - accuracy: 0.9260\n",
            "Epoch 121/200\n",
            "185/185 [==============================] - 15s 79ms/step - loss: 0.1716 - accuracy: 0.9354\n",
            "Epoch 122/200\n",
            "185/185 [==============================] - 14s 78ms/step - loss: 0.1860 - accuracy: 0.9280\n",
            "Epoch 123/200\n",
            "185/185 [==============================] - 14s 78ms/step - loss: 0.1863 - accuracy: 0.9258\n",
            "Epoch 124/200\n",
            "185/185 [==============================] - 15s 79ms/step - loss: 0.1969 - accuracy: 0.9217\n",
            "Epoch 125/200\n",
            "185/185 [==============================] - 15s 80ms/step - loss: 0.1965 - accuracy: 0.9239\n",
            "Epoch 126/200\n",
            "185/185 [==============================] - 15s 79ms/step - loss: 0.2033 - accuracy: 0.9209\n",
            "Epoch 127/200\n",
            "185/185 [==============================] - 15s 80ms/step - loss: 0.1939 - accuracy: 0.9277\n",
            "Epoch 128/200\n",
            "185/185 [==============================] - 14s 78ms/step - loss: 0.1699 - accuracy: 0.9358\n",
            "Epoch 129/200\n",
            "185/185 [==============================] - 15s 79ms/step - loss: 0.1591 - accuracy: 0.9419\n",
            "Epoch 130/200\n",
            "185/185 [==============================] - 15s 79ms/step - loss: 0.1723 - accuracy: 0.9344\n",
            "Epoch 131/200\n",
            "185/185 [==============================] - 14s 78ms/step - loss: 0.1671 - accuracy: 0.9376\n",
            "Epoch 132/200\n",
            "185/185 [==============================] - 15s 79ms/step - loss: 0.1585 - accuracy: 0.9397\n",
            "Epoch 133/200\n",
            "185/185 [==============================] - 15s 78ms/step - loss: 0.2026 - accuracy: 0.9219\n",
            "Epoch 134/200\n",
            "185/185 [==============================] - 15s 79ms/step - loss: 0.2122 - accuracy: 0.9206\n",
            "Epoch 135/200\n",
            "185/185 [==============================] - 14s 78ms/step - loss: 0.1815 - accuracy: 0.9310\n",
            "Epoch 136/200\n",
            "185/185 [==============================] - 14s 78ms/step - loss: 0.2305 - accuracy: 0.9143\n",
            "Epoch 137/200\n",
            "185/185 [==============================] - 15s 79ms/step - loss: 0.2148 - accuracy: 0.9146\n",
            "Epoch 138/200\n",
            "185/185 [==============================] - 15s 79ms/step - loss: 0.1759 - accuracy: 0.9312\n",
            "Epoch 139/200\n",
            "185/185 [==============================] - 15s 79ms/step - loss: 0.1700 - accuracy: 0.9402\n",
            "Epoch 140/200\n",
            "185/185 [==============================] - 15s 79ms/step - loss: 0.1669 - accuracy: 0.9344\n",
            "Epoch 141/200\n",
            "185/185 [==============================] - 15s 79ms/step - loss: 0.2369 - accuracy: 0.9084\n",
            "Epoch 142/200\n",
            "185/185 [==============================] - 15s 79ms/step - loss: 0.1833 - accuracy: 0.9290\n",
            "Epoch 143/200\n",
            "185/185 [==============================] - 15s 78ms/step - loss: 0.1647 - accuracy: 0.9368\n",
            "Epoch 144/200\n",
            "185/185 [==============================] - 14s 78ms/step - loss: 0.2225 - accuracy: 0.9135\n",
            "Epoch 145/200\n",
            "185/185 [==============================] - 14s 78ms/step - loss: 0.1926 - accuracy: 0.9271\n",
            "Epoch 146/200\n",
            "185/185 [==============================] - 14s 78ms/step - loss: 0.1921 - accuracy: 0.9251\n",
            "Epoch 147/200\n",
            "185/185 [==============================] - 15s 79ms/step - loss: 0.1719 - accuracy: 0.9334\n",
            "Epoch 148/200\n",
            "185/185 [==============================] - 14s 77ms/step - loss: 0.1316 - accuracy: 0.9511\n",
            "Epoch 149/200\n",
            "185/185 [==============================] - 14s 78ms/step - loss: 0.1625 - accuracy: 0.9378\n",
            "Epoch 150/200\n",
            "185/185 [==============================] - 14s 78ms/step - loss: 0.1710 - accuracy: 0.9354\n",
            "Epoch 151/200\n",
            "185/185 [==============================] - 14s 78ms/step - loss: 0.1670 - accuracy: 0.9334\n",
            "Epoch 152/200\n",
            "185/185 [==============================] - 15s 79ms/step - loss: 0.1533 - accuracy: 0.9456\n",
            "Epoch 153/200\n",
            "185/185 [==============================] - 14s 78ms/step - loss: 0.1242 - accuracy: 0.9540\n",
            "Epoch 154/200\n",
            "185/185 [==============================] - 15s 79ms/step - loss: 0.1472 - accuracy: 0.9461\n",
            "Epoch 155/200\n",
            "185/185 [==============================] - 15s 79ms/step - loss: 0.1356 - accuracy: 0.9486\n",
            "Epoch 156/200\n",
            "185/185 [==============================] - 14s 78ms/step - loss: 0.1580 - accuracy: 0.9415\n",
            "Epoch 157/200\n",
            "185/185 [==============================] - 15s 79ms/step - loss: 0.3045 - accuracy: 0.8928\n",
            "Epoch 158/200\n",
            "185/185 [==============================] - 15s 79ms/step - loss: 0.1942 - accuracy: 0.9249\n",
            "Epoch 159/200\n",
            "185/185 [==============================] - 15s 78ms/step - loss: 0.1606 - accuracy: 0.9419\n",
            "Epoch 160/200\n",
            "185/185 [==============================] - 14s 78ms/step - loss: 0.1873 - accuracy: 0.9307\n",
            "Epoch 161/200\n",
            "185/185 [==============================] - 14s 78ms/step - loss: 0.1836 - accuracy: 0.9304\n",
            "Epoch 162/200\n",
            "185/185 [==============================] - 15s 79ms/step - loss: 0.1783 - accuracy: 0.9339\n",
            "Epoch 163/200\n",
            "185/185 [==============================] - 15s 80ms/step - loss: 0.1527 - accuracy: 0.9412\n",
            "Epoch 164/200\n",
            "185/185 [==============================] - 15s 79ms/step - loss: 0.1559 - accuracy: 0.9407\n",
            "Epoch 165/200\n",
            "185/185 [==============================] - 14s 78ms/step - loss: 0.1682 - accuracy: 0.9407\n",
            "Epoch 166/200\n",
            "185/185 [==============================] - 15s 80ms/step - loss: 0.1699 - accuracy: 0.9359\n",
            "Epoch 167/200\n",
            "185/185 [==============================] - 15s 79ms/step - loss: 0.1492 - accuracy: 0.9435\n",
            "Epoch 168/200\n",
            "185/185 [==============================] - 15s 80ms/step - loss: 0.1698 - accuracy: 0.9371\n",
            "Epoch 169/200\n",
            "185/185 [==============================] - 15s 80ms/step - loss: 0.1508 - accuracy: 0.9417\n",
            "Epoch 170/200\n",
            "185/185 [==============================] - 15s 80ms/step - loss: 0.1530 - accuracy: 0.9481\n",
            "Epoch 171/200\n",
            "185/185 [==============================] - 15s 79ms/step - loss: 0.2400 - accuracy: 0.9067\n",
            "Epoch 172/200\n",
            "185/185 [==============================] - 15s 80ms/step - loss: 0.1948 - accuracy: 0.9256\n",
            "Epoch 173/200\n",
            "185/185 [==============================] - 15s 80ms/step - loss: 0.1647 - accuracy: 0.9408\n",
            "Epoch 174/200\n",
            "185/185 [==============================] - 14s 76ms/step - loss: 0.1831 - accuracy: 0.9315\n",
            "Epoch 175/200\n",
            "185/185 [==============================] - 14s 78ms/step - loss: 0.1906 - accuracy: 0.9283\n",
            "Epoch 176/200\n",
            "185/185 [==============================] - 14s 78ms/step - loss: 0.2382 - accuracy: 0.9148\n",
            "Epoch 177/200\n",
            "185/185 [==============================] - 15s 79ms/step - loss: 0.2213 - accuracy: 0.9113\n",
            "Epoch 178/200\n",
            "185/185 [==============================] - 15s 79ms/step - loss: 0.1953 - accuracy: 0.9236\n",
            "Epoch 179/200\n",
            "185/185 [==============================] - 15s 79ms/step - loss: 0.2045 - accuracy: 0.9204\n",
            "Epoch 180/200\n",
            "185/185 [==============================] - 14s 76ms/step - loss: 0.1875 - accuracy: 0.9337\n",
            "Epoch 181/200\n",
            "185/185 [==============================] - 14s 77ms/step - loss: 0.2055 - accuracy: 0.9153\n",
            "Epoch 182/200\n",
            "185/185 [==============================] - 14s 75ms/step - loss: 0.1869 - accuracy: 0.9297\n",
            "Epoch 183/200\n",
            "185/185 [==============================] - 14s 78ms/step - loss: 0.1737 - accuracy: 0.9349\n",
            "Epoch 184/200\n",
            "185/185 [==============================] - 15s 79ms/step - loss: 0.1564 - accuracy: 0.9397\n",
            "Epoch 185/200\n",
            "185/185 [==============================] - 15s 79ms/step - loss: 0.2252 - accuracy: 0.9108\n",
            "Epoch 186/200\n",
            "185/185 [==============================] - 14s 78ms/step - loss: 0.1501 - accuracy: 0.9435\n",
            "Epoch 187/200\n",
            "185/185 [==============================] - 14s 77ms/step - loss: 0.1671 - accuracy: 0.9403\n",
            "Epoch 188/200\n",
            "185/185 [==============================] - 14s 77ms/step - loss: 0.1433 - accuracy: 0.9500\n",
            "Epoch 189/200\n",
            "185/185 [==============================] - 14s 77ms/step - loss: 0.1304 - accuracy: 0.9539\n",
            "Epoch 190/200\n",
            "185/185 [==============================] - 14s 76ms/step - loss: 0.1227 - accuracy: 0.9547\n",
            "Epoch 191/200\n",
            "185/185 [==============================] - 14s 78ms/step - loss: 0.1258 - accuracy: 0.9513\n",
            "Epoch 192/200\n",
            "185/185 [==============================] - 14s 78ms/step - loss: 0.1983 - accuracy: 0.9243\n",
            "Epoch 193/200\n",
            "185/185 [==============================] - 14s 76ms/step - loss: 0.1787 - accuracy: 0.9326\n",
            "Epoch 194/200\n",
            "185/185 [==============================] - 14s 78ms/step - loss: 0.1719 - accuracy: 0.9331\n",
            "Epoch 195/200\n",
            "185/185 [==============================] - 14s 77ms/step - loss: 0.1485 - accuracy: 0.9462\n",
            "Epoch 196/200\n",
            "185/185 [==============================] - 15s 79ms/step - loss: 0.1962 - accuracy: 0.9266\n",
            "Epoch 197/200\n",
            "185/185 [==============================] - 15s 79ms/step - loss: 0.2557 - accuracy: 0.8967\n",
            "Epoch 198/200\n",
            "185/185 [==============================] - 14s 78ms/step - loss: 0.2246 - accuracy: 0.9135\n",
            "Epoch 199/200\n",
            "185/185 [==============================] - 15s 79ms/step - loss: 0.1788 - accuracy: 0.9310\n",
            "Epoch 200/200\n",
            "185/185 [==============================] - 14s 76ms/step - loss: 0.1721 - accuracy: 0.9334\n"
          ]
        },
        {
          "output_type": "execute_result",
          "data": {
            "text/plain": [
              "<keras.callbacks.History at 0x7fae08f06650>"
            ]
          },
          "metadata": {},
          "execution_count": 63
        }
      ]
    },
    {
      "cell_type": "code",
      "metadata": {
        "colab": {
          "base_uri": "https://localhost:8080/"
        },
        "id": "EHK5f25eSEnl",
        "outputId": "4a2916a3-efd6-4f6b-d4a6-6fa3573d2b00"
      },
      "source": [
        "model.evaluate(x_test,y_test)"
      ],
      "id": "EHK5f25eSEnl",
      "execution_count": null,
      "outputs": [
        {
          "output_type": "stream",
          "name": "stdout",
          "text": [
            "47/47 [==============================] - 1s 23ms/step - loss: 0.3971 - accuracy: 0.8554\n"
          ]
        },
        {
          "output_type": "execute_result",
          "data": {
            "text/plain": [
              "[0.3971165120601654, 0.8554053902626038]"
            ]
          },
          "metadata": {},
          "execution_count": 64
        }
      ]
    },
    {
      "cell_type": "code",
      "metadata": {
        "id": "Wxsmo6ySkg2b"
      },
      "source": [
        "y_pred = model.predict(x_test)"
      ],
      "id": "Wxsmo6ySkg2b",
      "execution_count": null,
      "outputs": []
    },
    {
      "cell_type": "code",
      "metadata": {
        "colab": {
          "background_save": true,
          "base_uri": "https://localhost:8080/"
        },
        "id": "m7UdEQaFlNzZ",
        "outputId": "25f628c1-f225-4a79-ee75-2bbdcba65e58"
      },
      "source": [
        "y_pred"
      ],
      "id": "m7UdEQaFlNzZ",
      "execution_count": null,
      "outputs": [
        {
          "data": {
            "text/plain": [
              "array([[0.17412943],\n",
              "       [0.17537972],\n",
              "       [0.99998754],\n",
              "       ...,\n",
              "       [0.6908235 ],\n",
              "       [0.9556329 ],\n",
              "       [0.99973714]], dtype=float32)"
            ]
          },
          "execution_count": null,
          "metadata": {},
          "output_type": "execute_result"
        }
      ]
    },
    {
      "cell_type": "code",
      "metadata": {
        "colab": {
          "base_uri": "https://localhost:8080/"
        },
        "id": "W3L14SOMlPJJ",
        "outputId": "0d49c0c9-b429-438d-f7c5-f692dfa1330c"
      },
      "source": [
        "y_pred = np.round(y_pred)\n",
        "y_pred"
      ],
      "id": "W3L14SOMlPJJ",
      "execution_count": null,
      "outputs": [
        {
          "output_type": "execute_result",
          "data": {
            "text/plain": [
              "array([[1.],\n",
              "       [0.],\n",
              "       [1.],\n",
              "       ...,\n",
              "       [0.],\n",
              "       [1.],\n",
              "       [1.]], dtype=float32)"
            ]
          },
          "metadata": {},
          "execution_count": 66
        }
      ]
    },
    {
      "cell_type": "code",
      "metadata": {
        "colab": {
          "base_uri": "https://localhost:8080/"
        },
        "id": "0EVFs97YlYfI",
        "outputId": "0003a921-16a7-4433-d92c-501dec938b5d"
      },
      "source": [
        "y_pred = y_pred[:,0]\n",
        "y_pred"
      ],
      "id": "0EVFs97YlYfI",
      "execution_count": null,
      "outputs": [
        {
          "output_type": "execute_result",
          "data": {
            "text/plain": [
              "array([1., 0., 1., ..., 0., 1., 1.], dtype=float32)"
            ]
          },
          "metadata": {},
          "execution_count": 67
        }
      ]
    },
    {
      "cell_type": "code",
      "metadata": {
        "colab": {
          "base_uri": "https://localhost:8080/"
        },
        "id": "2YHIg46jlbUo",
        "outputId": "a17f5410-3eca-4546-c0d2-b393682f8953"
      },
      "source": [
        "y_test[:10]"
      ],
      "id": "2YHIg46jlbUo",
      "execution_count": null,
      "outputs": [
        {
          "output_type": "execute_result",
          "data": {
            "text/plain": [
              "array([1, 0, 1, 0, 0, 0, 0, 0, 1, 1])"
            ]
          },
          "metadata": {},
          "execution_count": 68
        }
      ]
    },
    {
      "cell_type": "code",
      "metadata": {
        "colab": {
          "base_uri": "https://localhost:8080/"
        },
        "id": "jzCroPV0ldOI",
        "outputId": "acafa9ea-3de4-4c99-f4bf-1d075e6400e7"
      },
      "source": [
        "y_pred[:10]"
      ],
      "id": "jzCroPV0ldOI",
      "execution_count": null,
      "outputs": [
        {
          "output_type": "execute_result",
          "data": {
            "text/plain": [
              "array([1., 0., 1., 0., 0., 0., 0., 0., 1., 1.], dtype=float32)"
            ]
          },
          "metadata": {},
          "execution_count": 69
        }
      ]
    },
    {
      "cell_type": "code",
      "metadata": {
        "colab": {
          "base_uri": "https://localhost:8080/",
          "height": 173
        },
        "id": "ZOY2Js7Zlen3",
        "outputId": "170fb50b-a2d3-435e-edf9-2ebba444f33d"
      },
      "source": [
        "# accuracy: (tp + tn) / (p + n)\n",
        "accuracy = accuracy_score(y_test, y_pred)\n",
        "# precision tp / (tp + fp)\n",
        "precision = precision_score(y_test, y_pred)\n",
        "# recall: tp / (tp + fn)\n",
        "recall = recall_score(y_test, y_pred)\n",
        "# f1: 2 tp / (2 tp + fp + fn)\n",
        "f1 = f1_score(y_test, y_pred)\n",
        "auc = roc_auc_score(y_test, y_pred)\n",
        "\n",
        "results_deep_learning.append({\n",
        "    'model': \"RNN\",\n",
        "    'Accuracy_Score':accuracy,\n",
        "    'Precision': precision,\n",
        "    'Recall': recall,\n",
        "    'F1-Score': f1,\n",
        "    'AUC': auc\n",
        "})\n",
        "\n",
        "df = pd.DataFrame(results_deep_learning,columns = ['model','Accuracy_Score','Precision','Recall','F1-Score','AUC'])\n",
        "df"
      ],
      "id": "ZOY2Js7Zlen3",
      "execution_count": null,
      "outputs": [
        {
          "output_type": "execute_result",
          "data": {
            "text/html": [
              "<div>\n",
              "<style scoped>\n",
              "    .dataframe tbody tr th:only-of-type {\n",
              "        vertical-align: middle;\n",
              "    }\n",
              "\n",
              "    .dataframe tbody tr th {\n",
              "        vertical-align: top;\n",
              "    }\n",
              "\n",
              "    .dataframe thead th {\n",
              "        text-align: right;\n",
              "    }\n",
              "</style>\n",
              "<table border=\"1\" class=\"dataframe\">\n",
              "  <thead>\n",
              "    <tr style=\"text-align: right;\">\n",
              "      <th></th>\n",
              "      <th>model</th>\n",
              "      <th>Accuracy_Score</th>\n",
              "      <th>Precision</th>\n",
              "      <th>Recall</th>\n",
              "      <th>F1-Score</th>\n",
              "      <th>AUC</th>\n",
              "    </tr>\n",
              "  </thead>\n",
              "  <tbody>\n",
              "    <tr>\n",
              "      <th>0</th>\n",
              "      <td>ANN</td>\n",
              "      <td>0.900676</td>\n",
              "      <td>0.870162</td>\n",
              "      <td>0.941892</td>\n",
              "      <td>0.904607</td>\n",
              "      <td>0.900676</td>\n",
              "    </tr>\n",
              "    <tr>\n",
              "      <th>1</th>\n",
              "      <td>MLP</td>\n",
              "      <td>0.905405</td>\n",
              "      <td>0.910959</td>\n",
              "      <td>0.898649</td>\n",
              "      <td>0.904762</td>\n",
              "      <td>0.905405</td>\n",
              "    </tr>\n",
              "    <tr>\n",
              "      <th>2</th>\n",
              "      <td>CNN</td>\n",
              "      <td>0.898649</td>\n",
              "      <td>0.903005</td>\n",
              "      <td>0.893243</td>\n",
              "      <td>0.898098</td>\n",
              "      <td>0.898649</td>\n",
              "    </tr>\n",
              "    <tr>\n",
              "      <th>3</th>\n",
              "      <td>RNN</td>\n",
              "      <td>0.855405</td>\n",
              "      <td>0.869382</td>\n",
              "      <td>0.836486</td>\n",
              "      <td>0.852617</td>\n",
              "      <td>0.855405</td>\n",
              "    </tr>\n",
              "  </tbody>\n",
              "</table>\n",
              "</div>"
            ],
            "text/plain": [
              "  model  Accuracy_Score  Precision    Recall  F1-Score       AUC\n",
              "0   ANN        0.900676   0.870162  0.941892  0.904607  0.900676\n",
              "1   MLP        0.905405   0.910959  0.898649  0.904762  0.905405\n",
              "2   CNN        0.898649   0.903005  0.893243  0.898098  0.898649\n",
              "3   RNN        0.855405   0.869382  0.836486  0.852617  0.855405"
            ]
          },
          "metadata": {},
          "execution_count": 70
        }
      ]
    },
    {
      "cell_type": "markdown",
      "metadata": {
        "id": "VOsZGlV-l4fA"
      },
      "source": [
        "### **LSTM**"
      ],
      "id": "VOsZGlV-l4fA"
    },
    {
      "cell_type": "code",
      "metadata": {
        "colab": {
          "base_uri": "https://localhost:8080/"
        },
        "id": "6tyc4jK_lxFx",
        "outputId": "e4693c0e-fb54-4b70-8789-485a06355ff1"
      },
      "source": [
        "\n",
        "model = keras.Sequential([\n",
        "        keras.layers.Dense(512,kernel_initializer='uniform',input_shape=(34,1)),                    \n",
        "        keras.layers.LSTM(64,return_sequences=True,dropout=0.1, recurrent_dropout=0.1,activation='relu'),                  \n",
        "        keras.layers.LSTM(64,activation='relu'),                  \n",
        "        keras.layers.Dense(64, activation='relu'),\n",
        "        keras.layers.Dropout(0.2),\n",
        "        keras.layers.Dense(1, activation='sigmoid')                  \n",
        "])\n",
        "\n",
        "model.compile(optimizer='adam', loss='binary_crossentropy', metrics=['accuracy'])\n",
        "model.fit(x_train, y_train, epochs=100)"
      ],
      "id": "6tyc4jK_lxFx",
      "execution_count": null,
      "outputs": [
        {
          "output_type": "stream",
          "name": "stdout",
          "text": [
            "Epoch 1/100\n",
            "185/185 [==============================] - 27s 129ms/step - loss: 0.6407 - accuracy: 0.6253\n",
            "Epoch 2/100\n",
            "185/185 [==============================] - 24s 130ms/step - loss: 0.6084 - accuracy: 0.6432\n",
            "Epoch 3/100\n",
            "185/185 [==============================] - 23s 126ms/step - loss: 0.5927 - accuracy: 0.6572\n",
            "Epoch 4/100\n",
            "185/185 [==============================] - 23s 127ms/step - loss: 0.5920 - accuracy: 0.6562\n",
            "Epoch 5/100\n",
            "185/185 [==============================] - 24s 130ms/step - loss: 0.5830 - accuracy: 0.6650\n",
            "Epoch 6/100\n",
            "185/185 [==============================] - 24s 128ms/step - loss: 0.5766 - accuracy: 0.6773\n",
            "Epoch 7/100\n",
            "185/185 [==============================] - 23s 126ms/step - loss: 0.5725 - accuracy: 0.6778\n",
            "Epoch 8/100\n",
            "185/185 [==============================] - 24s 128ms/step - loss: 0.5584 - accuracy: 0.6859\n",
            "Epoch 9/100\n",
            "185/185 [==============================] - 24s 128ms/step - loss: 0.5477 - accuracy: 0.6859\n",
            "Epoch 10/100\n",
            "185/185 [==============================] - 24s 128ms/step - loss: 0.5345 - accuracy: 0.7076\n",
            "Epoch 11/100\n",
            "185/185 [==============================] - 24s 127ms/step - loss: 0.5153 - accuracy: 0.7282\n",
            "Epoch 12/100\n",
            "185/185 [==============================] - 24s 128ms/step - loss: 0.4956 - accuracy: 0.7497\n",
            "Epoch 13/100\n",
            "185/185 [==============================] - 24s 127ms/step - loss: 0.4885 - accuracy: 0.7537\n",
            "Epoch 14/100\n",
            "185/185 [==============================] - 23s 126ms/step - loss: 0.4749 - accuracy: 0.7622\n",
            "Epoch 15/100\n",
            "185/185 [==============================] - 23s 127ms/step - loss: 0.4523 - accuracy: 0.7791\n",
            "Epoch 16/100\n",
            "185/185 [==============================] - 24s 127ms/step - loss: 0.4553 - accuracy: 0.7748\n",
            "Epoch 17/100\n",
            "185/185 [==============================] - 24s 128ms/step - loss: 0.4322 - accuracy: 0.7926\n",
            "Epoch 18/100\n",
            "185/185 [==============================] - 24s 129ms/step - loss: 0.4685 - accuracy: 0.7796\n",
            "Epoch 19/100\n",
            "185/185 [==============================] - 23s 126ms/step - loss: 0.4423 - accuracy: 0.7799\n",
            "Epoch 20/100\n",
            "185/185 [==============================] - 24s 127ms/step - loss: 0.4117 - accuracy: 0.8053\n",
            "Epoch 21/100\n",
            "185/185 [==============================] - 24s 129ms/step - loss: 0.4089 - accuracy: 0.8056\n",
            "Epoch 22/100\n",
            "185/185 [==============================] - 23s 125ms/step - loss: 0.3945 - accuracy: 0.8127\n",
            "Epoch 23/100\n",
            "185/185 [==============================] - 23s 127ms/step - loss: 0.3898 - accuracy: 0.8171\n",
            "Epoch 24/100\n",
            "185/185 [==============================] - 24s 128ms/step - loss: 0.3982 - accuracy: 0.8139\n",
            "Epoch 25/100\n",
            "185/185 [==============================] - 24s 129ms/step - loss: 0.3717 - accuracy: 0.8240\n",
            "Epoch 26/100\n",
            "185/185 [==============================] - 24s 130ms/step - loss: 0.3623 - accuracy: 0.8327\n",
            "Epoch 27/100\n",
            "185/185 [==============================] - 24s 127ms/step - loss: 0.3634 - accuracy: 0.8328\n",
            "Epoch 28/100\n",
            "185/185 [==============================] - 24s 128ms/step - loss: 0.3558 - accuracy: 0.8349\n",
            "Epoch 29/100\n",
            "185/185 [==============================] - 24s 130ms/step - loss: 0.9700 - accuracy: 0.7561\n",
            "Epoch 30/100\n",
            "185/185 [==============================] - 24s 127ms/step - loss: 0.4630 - accuracy: 0.7738\n",
            "Epoch 31/100\n",
            "185/185 [==============================] - 24s 130ms/step - loss: 0.4079 - accuracy: 0.8134\n",
            "Epoch 32/100\n",
            "185/185 [==============================] - 24s 131ms/step - loss: 0.3771 - accuracy: 0.8256\n",
            "Epoch 33/100\n",
            "185/185 [==============================] - 24s 128ms/step - loss: 0.3648 - accuracy: 0.8316\n",
            "Epoch 34/100\n",
            "185/185 [==============================] - 24s 128ms/step - loss: 0.3582 - accuracy: 0.8362\n",
            "Epoch 35/100\n",
            "185/185 [==============================] - 24s 131ms/step - loss: 0.3514 - accuracy: 0.8398\n",
            "Epoch 36/100\n",
            "185/185 [==============================] - 24s 131ms/step - loss: 0.3388 - accuracy: 0.8479\n",
            "Epoch 37/100\n",
            "185/185 [==============================] - 25s 133ms/step - loss: 0.3350 - accuracy: 0.8506\n",
            "Epoch 38/100\n",
            "185/185 [==============================] - 24s 128ms/step - loss: 0.3216 - accuracy: 0.8577\n",
            "Epoch 39/100\n",
            "185/185 [==============================] - 24s 128ms/step - loss: 0.3235 - accuracy: 0.8555\n",
            "Epoch 40/100\n",
            "185/185 [==============================] - 24s 131ms/step - loss: 0.3190 - accuracy: 0.8536\n",
            "Epoch 41/100\n",
            "185/185 [==============================] - 24s 131ms/step - loss: 0.3197 - accuracy: 0.8580\n",
            "Epoch 42/100\n",
            "185/185 [==============================] - 24s 130ms/step - loss: 0.4029 - accuracy: 0.8293\n",
            "Epoch 43/100\n",
            "185/185 [==============================] - 24s 129ms/step - loss: 0.4759 - accuracy: 0.7727\n",
            "Epoch 44/100\n",
            "185/185 [==============================] - 24s 127ms/step - loss: 0.3916 - accuracy: 0.8171\n",
            "Epoch 45/100\n",
            "185/185 [==============================] - 24s 130ms/step - loss: 0.3692 - accuracy: 0.8320\n",
            "Epoch 46/100\n",
            "185/185 [==============================] - 24s 129ms/step - loss: 0.3569 - accuracy: 0.8416\n",
            "Epoch 47/100\n",
            "185/185 [==============================] - 24s 131ms/step - loss: 0.3345 - accuracy: 0.8516\n",
            "Epoch 48/100\n",
            "185/185 [==============================] - 24s 127ms/step - loss: 0.3202 - accuracy: 0.8626\n",
            "Epoch 49/100\n",
            "185/185 [==============================] - 24s 130ms/step - loss: 0.3182 - accuracy: 0.8570\n",
            "Epoch 50/100\n",
            "185/185 [==============================] - 24s 129ms/step - loss: 0.3055 - accuracy: 0.8651\n",
            "Epoch 51/100\n",
            "185/185 [==============================] - 24s 130ms/step - loss: 0.3033 - accuracy: 0.8646\n",
            "Epoch 52/100\n",
            "185/185 [==============================] - 24s 127ms/step - loss: 0.2967 - accuracy: 0.8687\n",
            "Epoch 53/100\n",
            "185/185 [==============================] - 24s 129ms/step - loss: 0.2866 - accuracy: 0.8737\n",
            "Epoch 54/100\n",
            "185/185 [==============================] - 24s 129ms/step - loss: 0.2893 - accuracy: 0.8732\n",
            "Epoch 55/100\n",
            "185/185 [==============================] - 23s 127ms/step - loss: 0.2809 - accuracy: 0.8791\n",
            "Epoch 56/100\n",
            "185/185 [==============================] - 24s 127ms/step - loss: 0.2884 - accuracy: 0.8725\n",
            "Epoch 57/100\n",
            "185/185 [==============================] - 24s 129ms/step - loss: 0.2771 - accuracy: 0.8793\n",
            "Epoch 58/100\n",
            "185/185 [==============================] - 24s 128ms/step - loss: 0.2733 - accuracy: 0.8810\n",
            "Epoch 59/100\n",
            "185/185 [==============================] - 25s 133ms/step - loss: 0.2786 - accuracy: 0.8812\n",
            "Epoch 60/100\n",
            "185/185 [==============================] - 24s 130ms/step - loss: 0.3815 - accuracy: 0.8281\n",
            "Epoch 61/100\n",
            "185/185 [==============================] - 24s 129ms/step - loss: 0.3174 - accuracy: 0.8602\n",
            "Epoch 62/100\n",
            "185/185 [==============================] - 23s 127ms/step - loss: 0.2978 - accuracy: 0.8685\n",
            "Epoch 63/100\n",
            "185/185 [==============================] - 24s 128ms/step - loss: 0.2775 - accuracy: 0.8785\n",
            "Epoch 64/100\n",
            "185/185 [==============================] - 24s 128ms/step - loss: 0.2820 - accuracy: 0.8793\n",
            "Epoch 65/100\n",
            "185/185 [==============================] - 24s 128ms/step - loss: 0.2743 - accuracy: 0.8820\n",
            "Epoch 66/100\n",
            "185/185 [==============================] - 23s 126ms/step - loss: 0.2991 - accuracy: 0.8739\n",
            "Epoch 67/100\n",
            "185/185 [==============================] - 24s 129ms/step - loss: 0.3759 - accuracy: 0.8274\n",
            "Epoch 68/100\n",
            "185/185 [==============================] - 24s 127ms/step - loss: 0.3038 - accuracy: 0.8656\n",
            "Epoch 69/100\n",
            "185/185 [==============================] - 23s 126ms/step - loss: 0.2730 - accuracy: 0.8824\n",
            "Epoch 70/100\n",
            "185/185 [==============================] - 24s 128ms/step - loss: 0.2636 - accuracy: 0.8817\n",
            "Epoch 71/100\n",
            "185/185 [==============================] - 24s 128ms/step - loss: 0.2536 - accuracy: 0.8918\n",
            "Epoch 72/100\n",
            "185/185 [==============================] - 24s 128ms/step - loss: 0.2504 - accuracy: 0.8952\n",
            "Epoch 73/100\n",
            "185/185 [==============================] - 24s 129ms/step - loss: 0.3560 - accuracy: 0.8491\n",
            "Epoch 74/100\n",
            "185/185 [==============================] - 23s 127ms/step - loss: 0.5489 - accuracy: 0.7120\n",
            "Epoch 75/100\n",
            "185/185 [==============================] - 24s 130ms/step - loss: 0.4922 - accuracy: 0.7596\n",
            "Epoch 76/100\n",
            "185/185 [==============================] - 24s 129ms/step - loss: 0.4103 - accuracy: 0.8026\n",
            "Epoch 77/100\n",
            "185/185 [==============================] - 24s 128ms/step - loss: 0.3827 - accuracy: 0.8190\n",
            "Epoch 78/100\n",
            "185/185 [==============================] - 24s 127ms/step - loss: 0.3660 - accuracy: 0.8337\n",
            "Epoch 79/100\n",
            "185/185 [==============================] - 24s 131ms/step - loss: 0.3406 - accuracy: 0.8443\n",
            "Epoch 80/100\n",
            "185/185 [==============================] - 24s 128ms/step - loss: 0.3318 - accuracy: 0.8519\n",
            "Epoch 81/100\n",
            "185/185 [==============================] - 24s 130ms/step - loss: 0.3133 - accuracy: 0.8665\n",
            "Epoch 82/100\n",
            "185/185 [==============================] - 24s 130ms/step - loss: 0.2998 - accuracy: 0.8690\n",
            "Epoch 83/100\n",
            "185/185 [==============================] - 24s 129ms/step - loss: 0.2884 - accuracy: 0.8758\n",
            "Epoch 84/100\n",
            "185/185 [==============================] - 24s 128ms/step - loss: 0.2889 - accuracy: 0.8758\n",
            "Epoch 85/100\n",
            "185/185 [==============================] - 24s 128ms/step - loss: 0.2823 - accuracy: 0.8802\n",
            "Epoch 86/100\n",
            "185/185 [==============================] - 24s 129ms/step - loss: 0.3121 - accuracy: 0.8678\n",
            "Epoch 87/100\n",
            "185/185 [==============================] - 24s 131ms/step - loss: 0.3111 - accuracy: 0.8783\n",
            "Epoch 88/100\n",
            "185/185 [==============================] - 24s 129ms/step - loss: 0.3999 - accuracy: 0.8122\n",
            "Epoch 89/100\n",
            "185/185 [==============================] - 24s 128ms/step - loss: 0.3008 - accuracy: 0.8707\n",
            "Epoch 90/100\n",
            "185/185 [==============================] - 24s 129ms/step - loss: 0.2634 - accuracy: 0.8906\n",
            "Epoch 91/100\n",
            "185/185 [==============================] - 24s 132ms/step - loss: 0.2553 - accuracy: 0.8916\n",
            "Epoch 92/100\n",
            "185/185 [==============================] - 24s 129ms/step - loss: 0.2646 - accuracy: 0.8906\n",
            "Epoch 93/100\n",
            "185/185 [==============================] - 24s 128ms/step - loss: 0.2415 - accuracy: 0.9060\n",
            "Epoch 94/100\n",
            "185/185 [==============================] - 24s 128ms/step - loss: 0.2508 - accuracy: 0.9003\n",
            "Epoch 95/100\n",
            "185/185 [==============================] - 23s 126ms/step - loss: 0.2338 - accuracy: 0.9074\n",
            "Epoch 96/100\n",
            "185/185 [==============================] - 24s 128ms/step - loss: 0.2380 - accuracy: 0.8996\n",
            "Epoch 97/100\n",
            "185/185 [==============================] - 24s 129ms/step - loss: 0.2280 - accuracy: 0.9080\n",
            "Epoch 98/100\n",
            "185/185 [==============================] - 24s 128ms/step - loss: 0.4076 - accuracy: 0.8136\n",
            "Epoch 99/100\n",
            "185/185 [==============================] - 24s 128ms/step - loss: 0.2944 - accuracy: 0.8783\n",
            "Epoch 100/100\n",
            "185/185 [==============================] - 24s 129ms/step - loss: 0.2632 - accuracy: 0.8932\n"
          ]
        },
        {
          "output_type": "execute_result",
          "data": {
            "text/plain": [
              "<keras.callbacks.History at 0x7fae0a03b690>"
            ]
          },
          "metadata": {},
          "execution_count": 71
        }
      ]
    },
    {
      "cell_type": "code",
      "metadata": {
        "colab": {
          "base_uri": "https://localhost:8080/"
        },
        "id": "2sX0LGVFllhI",
        "outputId": "bdad5b67-d6d2-4ffc-b1f4-8c1baf71a0f1"
      },
      "source": [
        "model.evaluate(x_test,y_test)"
      ],
      "id": "2sX0LGVFllhI",
      "execution_count": null,
      "outputs": [
        {
          "output_type": "stream",
          "name": "stdout",
          "text": [
            "47/47 [==============================] - 1s 18ms/step - loss: 0.3968 - accuracy: 0.8385\n"
          ]
        },
        {
          "output_type": "execute_result",
          "data": {
            "text/plain": [
              "[0.3968161642551422, 0.8385134935379028]"
            ]
          },
          "metadata": {},
          "execution_count": 72
        }
      ]
    },
    {
      "cell_type": "markdown",
      "metadata": {
        "id": "FLB2XjPN0eg1"
      },
      "source": [
        "### **GRU**"
      ],
      "id": "FLB2XjPN0eg1"
    },
    {
      "cell_type": "code",
      "metadata": {
        "colab": {
          "base_uri": "https://localhost:8080/"
        },
        "id": "JFAcT5Avn4sQ",
        "outputId": "6b77a19f-5e89-44d4-acd0-26ac96c37579"
      },
      "source": [
        "model = keras.Sequential([\n",
        "        keras.layers.Dense(512,kernel_initializer='uniform',input_shape=(34,1)),                    \n",
        "        keras.layers.GRU(64,return_sequences=True,activation='relu'),                  \n",
        "        keras.layers.GRU(64,activation='relu'),                  \n",
        "        keras.layers.Dense(64, activation='relu'),\n",
        "        keras.layers.Dropout(0.2),\n",
        "        keras.layers.Dense(1, activation='sigmoid')                  \n",
        "])\n",
        "\n",
        "model.compile(optimizer='adam', loss='binary_crossentropy', metrics=['accuracy'])\n",
        "model.fit(x_train, y_train, epochs=10)"
      ],
      "id": "JFAcT5Avn4sQ",
      "execution_count": null,
      "outputs": [
        {
          "output_type": "stream",
          "name": "stdout",
          "text": [
            "Epoch 1/10\n",
            "185/185 [==============================] - 16s 75ms/step - loss: 0.6331 - accuracy: 0.6241\n",
            "Epoch 2/10\n",
            "185/185 [==============================] - 12s 67ms/step - loss: 0.6052 - accuracy: 0.6553\n",
            "Epoch 3/10\n",
            "185/185 [==============================] - 13s 68ms/step - loss: 0.5915 - accuracy: 0.6604\n",
            "Epoch 4/10\n",
            "185/185 [==============================] - 13s 68ms/step - loss: 0.5822 - accuracy: 0.6670\n",
            "Epoch 5/10\n",
            "185/185 [==============================] - 13s 70ms/step - loss: 0.5720 - accuracy: 0.6780\n",
            "Epoch 6/10\n",
            "185/185 [==============================] - 13s 68ms/step - loss: 0.5573 - accuracy: 0.6917\n",
            "Epoch 7/10\n",
            "185/185 [==============================] - 12s 67ms/step - loss: 0.5599 - accuracy: 0.6870\n",
            "Epoch 8/10\n",
            "185/185 [==============================] - 13s 69ms/step - loss: 0.5423 - accuracy: 0.6990\n",
            "Epoch 9/10\n",
            "185/185 [==============================] - 13s 69ms/step - loss: 0.5393 - accuracy: 0.7000\n",
            "Epoch 10/10\n",
            "185/185 [==============================] - 12s 67ms/step - loss: 0.5308 - accuracy: 0.7061\n"
          ]
        },
        {
          "output_type": "execute_result",
          "data": {
            "text/plain": [
              "<keras.callbacks.History at 0x7fae081d2050>"
            ]
          },
          "metadata": {},
          "execution_count": 73
        }
      ]
    },
    {
      "cell_type": "code",
      "metadata": {
        "colab": {
          "base_uri": "https://localhost:8080/"
        },
        "id": "SXbk1bw_0QJw",
        "outputId": "d5a65bed-e6bf-4c8d-a554-ad1f7bbf8ce6"
      },
      "source": [
        "model.evaluate(x_test,y_test)"
      ],
      "id": "SXbk1bw_0QJw",
      "execution_count": null,
      "outputs": [
        {
          "output_type": "stream",
          "name": "stdout",
          "text": [
            "47/47 [==============================] - 1s 14ms/step - loss: 0.5409 - accuracy: 0.6973\n"
          ]
        },
        {
          "output_type": "execute_result",
          "data": {
            "text/plain": [
              "[0.540856122970581, 0.6972972750663757]"
            ]
          },
          "metadata": {},
          "execution_count": 74
        }
      ]
    },
    {
      "cell_type": "code",
      "metadata": {
        "id": "fEKaVhMZ01r_"
      },
      "source": [
        ""
      ],
      "id": "fEKaVhMZ01r_",
      "execution_count": null,
      "outputs": []
    }
  ]
}